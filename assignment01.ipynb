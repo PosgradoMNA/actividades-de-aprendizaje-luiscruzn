{
  "nbformat": 4,
  "nbformat_minor": 0,
  "metadata": {
    "colab": {
      "name": "assignment01.ipynb",
      "provenance": [],
      "include_colab_link": true
    },
    "kernelspec": {
      "name": "python3",
      "display_name": "Python 3"
    },
    "language_info": {
      "name": "python"
    }
  },
  "cells": [
    {
      "cell_type": "markdown",
      "metadata": {
        "id": "view-in-github",
        "colab_type": "text"
      },
      "source": [
        "<a href=\"https://colab.research.google.com/github/PosgradoMNA/actividades-de-aprendizaje-luiscruzn/blob/main/assignment01.ipynb\" target=\"_parent\"><img src=\"https://colab.research.google.com/assets/colab-badge.svg\" alt=\"Open In Colab\"/></a>"
      ]
    },
    {
      "cell_type": "markdown",
      "source": [
        "# **Python for Data Science**\n",
        "\n",
        "Es un lenguaje de programación de propósito general, pero viene con miles dee bibliotecas para trabajar con datos. A menudo es el primer idioma que la gente aprende, pero es el idioma que la gente usa décadas más tarde en su carrera. Python suele ser la primera herramienta que la gente usa cuando necesita crear un prototipo rápido, pero es el lenguaje que impulsa algunos de los proyectos más complejos. El poder y la flexibilidad con miles de bibliotecas hicieron de Python el lenguaje elegido por científicos de datos, ingenieros de datos, analistas de datos e investigadores de IA en empresas líderes y nuevas empresas por igual. Python es esencial para cualquier currículum y es una habilidad imprescindible para cualquier persona que trabaje con datos."
      ],
      "metadata": {
        "id": "beHO-1hQQlA0"
      }
    },
    {
      "cell_type": "markdown",
      "source": [
        "Mi primer programa"
      ],
      "metadata": {
        "id": "q4Ggp1w0WLmd"
      }
    },
    {
      "cell_type": "code",
      "execution_count": 1,
      "metadata": {
        "id": "LzUSMM79NR9P",
        "outputId": "bdca36f7-c40c-4b43-96c3-d92d9e52a728",
        "colab": {
          "base_uri": "https://localhost:8080/"
        }
      },
      "outputs": [
        {
          "output_type": "stream",
          "name": "stdout",
          "text": [
            "Hello python 101\n"
          ]
        }
      ],
      "source": [
        "print(\"Hello python 101\")"
      ]
    },
    {
      "cell_type": "code",
      "source": [],
      "metadata": {
        "id": "mxM_WppZPMFx"
      },
      "execution_count": null,
      "outputs": []
    }
  ]
}