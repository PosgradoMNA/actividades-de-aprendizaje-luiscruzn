{
  "nbformat": 4,
  "nbformat_minor": 0,
  "metadata": {
    "colab": {
      "provenance": [],
      "authorship_tag": "ABX9TyNGW9BWqQOcy20RbVRmF1Dd",
      "include_colab_link": true
    },
    "kernelspec": {
      "name": "python3",
      "display_name": "Python 3"
    },
    "language_info": {
      "name": "python"
    }
  },
  "cells": [
    {
      "cell_type": "markdown",
      "metadata": {
        "id": "view-in-github",
        "colab_type": "text"
      },
      "source": [
        "<a href=\"https://colab.research.google.com/github/PosgradoMNA/actividades-de-aprendizaje-luiscruzn/blob/main/Actividad_Semanal_7_Regresi%C3%B3n.ipynb\" target=\"_parent\"><img src=\"https://colab.research.google.com/assets/colab-badge.svg\" alt=\"Open In Colab\"/></a>"
      ]
    },
    {
      "cell_type": "markdown",
      "source": [
        "#**Ciencia y analítica de datos**\n",
        "\n",
        "##**Actividad Semanal -- 7 Regresión**\n",
        "\n",
        "###**Profra:** Dra. María de la Paz Rico Fernández.\n",
        "\n",
        "###**Alumno:** Luis Salvador Cruz Nájera\n",
        "\n",
        "###**Matrícula:** A01002111\n",
        "\n",
        "###**Fecha:** 9 de noviembre de 2022"
      ],
      "metadata": {
        "id": "yVp9GtmpNX6M"
      }
    },
    {
      "cell_type": "markdown",
      "source": [
        "#**Notebook 1. Regresión.**#\n",
        "\n",
        "###Este notebook ya lo vimos en clase, sin embargo solo le aplicamos regresión lineal y polinomial al ejercicio 1. Ahora realizarás lo siguiente:###\n",
        "\n",
        "###Ejercicio 1. Costo en la industria de manufactura. Ahora realizaremos los ejercicios de regresión utilizando una parte para entrenar y otra para evaluar.###\n",
        "\n",
        "###Divide los datos del costo de manufactura. Utiliza la función train_test_split (viene el ejemplo al final del notebook).###\n",
        "\n",
        "#Regresión Lineal.#\n",
        "\n",
        "###Realiza la regresión lineal: modelo generado (ecuación), su visualización, sus errores y r cuadrada.###"
      ],
      "metadata": {
        "id": "ERG1eZuCWWil"
      }
    },
    {
      "cell_type": "code",
      "source": [
        "import numpy as np\n",
        "import pandas as pd\n",
        "from sklearn.model_selection import train_test_split\n",
        "import matplotlib.pyplot as plt\n",
        "from sklearn import metrics\n",
        "from sklearn.metrics import r2_score\n",
        "\n",
        "from sklearn.linear_model import LinearRegression, Lasso, Ridge"
      ],
      "metadata": {
        "id": "WZ7pa1niqSaP"
      },
      "execution_count": 2,
      "outputs": []
    },
    {
      "cell_type": "code",
      "source": [
        "df = pd.read_csv('https://raw.githubusercontent.com/marypazrf/bdd/main/EconomiesOfScale.csv')\n",
        "df.head()"
      ],
      "metadata": {
        "colab": {
          "base_uri": "https://localhost:8080/",
          "height": 206
        },
        "id": "Eouat1euqWrJ",
        "outputId": "644c03a5-48b7-4ceb-e791-f04adb2fa6bd"
      },
      "execution_count": 3,
      "outputs": [
        {
          "output_type": "execute_result",
          "data": {
            "text/plain": [
              "   Number of Units  Manufacturing Cost\n",
              "0         1.000000           95.066056\n",
              "1         1.185994           96.531750\n",
              "2         1.191499           73.661311\n",
              "3         1.204771           95.566843\n",
              "4         1.298773           98.777013"
            ],
            "text/html": [
              "\n",
              "  <div id=\"df-363cfb58-fe29-4026-ae82-3e19c407725c\">\n",
              "    <div class=\"colab-df-container\">\n",
              "      <div>\n",
              "<style scoped>\n",
              "    .dataframe tbody tr th:only-of-type {\n",
              "        vertical-align: middle;\n",
              "    }\n",
              "\n",
              "    .dataframe tbody tr th {\n",
              "        vertical-align: top;\n",
              "    }\n",
              "\n",
              "    .dataframe thead th {\n",
              "        text-align: right;\n",
              "    }\n",
              "</style>\n",
              "<table border=\"1\" class=\"dataframe\">\n",
              "  <thead>\n",
              "    <tr style=\"text-align: right;\">\n",
              "      <th></th>\n",
              "      <th>Number of Units</th>\n",
              "      <th>Manufacturing Cost</th>\n",
              "    </tr>\n",
              "  </thead>\n",
              "  <tbody>\n",
              "    <tr>\n",
              "      <th>0</th>\n",
              "      <td>1.000000</td>\n",
              "      <td>95.066056</td>\n",
              "    </tr>\n",
              "    <tr>\n",
              "      <th>1</th>\n",
              "      <td>1.185994</td>\n",
              "      <td>96.531750</td>\n",
              "    </tr>\n",
              "    <tr>\n",
              "      <th>2</th>\n",
              "      <td>1.191499</td>\n",
              "      <td>73.661311</td>\n",
              "    </tr>\n",
              "    <tr>\n",
              "      <th>3</th>\n",
              "      <td>1.204771</td>\n",
              "      <td>95.566843</td>\n",
              "    </tr>\n",
              "    <tr>\n",
              "      <th>4</th>\n",
              "      <td>1.298773</td>\n",
              "      <td>98.777013</td>\n",
              "    </tr>\n",
              "  </tbody>\n",
              "</table>\n",
              "</div>\n",
              "      <button class=\"colab-df-convert\" onclick=\"convertToInteractive('df-363cfb58-fe29-4026-ae82-3e19c407725c')\"\n",
              "              title=\"Convert this dataframe to an interactive table.\"\n",
              "              style=\"display:none;\">\n",
              "        \n",
              "  <svg xmlns=\"http://www.w3.org/2000/svg\" height=\"24px\"viewBox=\"0 0 24 24\"\n",
              "       width=\"24px\">\n",
              "    <path d=\"M0 0h24v24H0V0z\" fill=\"none\"/>\n",
              "    <path d=\"M18.56 5.44l.94 2.06.94-2.06 2.06-.94-2.06-.94-.94-2.06-.94 2.06-2.06.94zm-11 1L8.5 8.5l.94-2.06 2.06-.94-2.06-.94L8.5 2.5l-.94 2.06-2.06.94zm10 10l.94 2.06.94-2.06 2.06-.94-2.06-.94-.94-2.06-.94 2.06-2.06.94z\"/><path d=\"M17.41 7.96l-1.37-1.37c-.4-.4-.92-.59-1.43-.59-.52 0-1.04.2-1.43.59L10.3 9.45l-7.72 7.72c-.78.78-.78 2.05 0 2.83L4 21.41c.39.39.9.59 1.41.59.51 0 1.02-.2 1.41-.59l7.78-7.78 2.81-2.81c.8-.78.8-2.07 0-2.86zM5.41 20L4 18.59l7.72-7.72 1.47 1.35L5.41 20z\"/>\n",
              "  </svg>\n",
              "      </button>\n",
              "      \n",
              "  <style>\n",
              "    .colab-df-container {\n",
              "      display:flex;\n",
              "      flex-wrap:wrap;\n",
              "      gap: 12px;\n",
              "    }\n",
              "\n",
              "    .colab-df-convert {\n",
              "      background-color: #E8F0FE;\n",
              "      border: none;\n",
              "      border-radius: 50%;\n",
              "      cursor: pointer;\n",
              "      display: none;\n",
              "      fill: #1967D2;\n",
              "      height: 32px;\n",
              "      padding: 0 0 0 0;\n",
              "      width: 32px;\n",
              "    }\n",
              "\n",
              "    .colab-df-convert:hover {\n",
              "      background-color: #E2EBFA;\n",
              "      box-shadow: 0px 1px 2px rgba(60, 64, 67, 0.3), 0px 1px 3px 1px rgba(60, 64, 67, 0.15);\n",
              "      fill: #174EA6;\n",
              "    }\n",
              "\n",
              "    [theme=dark] .colab-df-convert {\n",
              "      background-color: #3B4455;\n",
              "      fill: #D2E3FC;\n",
              "    }\n",
              "\n",
              "    [theme=dark] .colab-df-convert:hover {\n",
              "      background-color: #434B5C;\n",
              "      box-shadow: 0px 1px 3px 1px rgba(0, 0, 0, 0.15);\n",
              "      filter: drop-shadow(0px 1px 2px rgba(0, 0, 0, 0.3));\n",
              "      fill: #FFFFFF;\n",
              "    }\n",
              "  </style>\n",
              "\n",
              "      <script>\n",
              "        const buttonEl =\n",
              "          document.querySelector('#df-363cfb58-fe29-4026-ae82-3e19c407725c button.colab-df-convert');\n",
              "        buttonEl.style.display =\n",
              "          google.colab.kernel.accessAllowed ? 'block' : 'none';\n",
              "\n",
              "        async function convertToInteractive(key) {\n",
              "          const element = document.querySelector('#df-363cfb58-fe29-4026-ae82-3e19c407725c');\n",
              "          const dataTable =\n",
              "            await google.colab.kernel.invokeFunction('convertToInteractive',\n",
              "                                                     [key], {});\n",
              "          if (!dataTable) return;\n",
              "\n",
              "          const docLinkHtml = 'Like what you see? Visit the ' +\n",
              "            '<a target=\"_blank\" href=https://colab.research.google.com/notebooks/data_table.ipynb>data table notebook</a>'\n",
              "            + ' to learn more about interactive tables.';\n",
              "          element.innerHTML = '';\n",
              "          dataTable['output_type'] = 'display_data';\n",
              "          await google.colab.output.renderOutput(dataTable, element);\n",
              "          const docLink = document.createElement('div');\n",
              "          docLink.innerHTML = docLinkHtml;\n",
              "          element.appendChild(docLink);\n",
              "        }\n",
              "      </script>\n",
              "    </div>\n",
              "  </div>\n",
              "  "
            ]
          },
          "metadata": {},
          "execution_count": 3
        }
      ]
    },
    {
      "cell_type": "code",
      "source": [
        "X = df.iloc[: , :-1]\n",
        "y = df.iloc[: , -1].to_frame()"
      ],
      "metadata": {
        "id": "8EDVDEWFqld_"
      },
      "execution_count": 4,
      "outputs": []
    },
    {
      "cell_type": "code",
      "source": [
        "X_train, X_val, y_train, y_val = train_test_split(X, y, test_size=0.15, random_state=42)\n",
        "X_train.head()"
      ],
      "metadata": {
        "colab": {
          "base_uri": "https://localhost:8080/",
          "height": 206
        },
        "id": "Up1vw4wyqlma",
        "outputId": "338af96f-4693-443e-8da2-fcd87253c4e2"
      },
      "execution_count": 5,
      "outputs": [
        {
          "output_type": "execute_result",
          "data": {
            "text/plain": [
              "     Number of Units\n",
              "643         4.978922\n",
              "158         3.125820\n",
              "977         7.311213\n",
              "429         4.225077\n",
              "941         6.600897"
            ],
            "text/html": [
              "\n",
              "  <div id=\"df-d6b36f0f-4ea7-4682-8a53-62a2bdcf8a98\">\n",
              "    <div class=\"colab-df-container\">\n",
              "      <div>\n",
              "<style scoped>\n",
              "    .dataframe tbody tr th:only-of-type {\n",
              "        vertical-align: middle;\n",
              "    }\n",
              "\n",
              "    .dataframe tbody tr th {\n",
              "        vertical-align: top;\n",
              "    }\n",
              "\n",
              "    .dataframe thead th {\n",
              "        text-align: right;\n",
              "    }\n",
              "</style>\n",
              "<table border=\"1\" class=\"dataframe\">\n",
              "  <thead>\n",
              "    <tr style=\"text-align: right;\">\n",
              "      <th></th>\n",
              "      <th>Number of Units</th>\n",
              "    </tr>\n",
              "  </thead>\n",
              "  <tbody>\n",
              "    <tr>\n",
              "      <th>643</th>\n",
              "      <td>4.978922</td>\n",
              "    </tr>\n",
              "    <tr>\n",
              "      <th>158</th>\n",
              "      <td>3.125820</td>\n",
              "    </tr>\n",
              "    <tr>\n",
              "      <th>977</th>\n",
              "      <td>7.311213</td>\n",
              "    </tr>\n",
              "    <tr>\n",
              "      <th>429</th>\n",
              "      <td>4.225077</td>\n",
              "    </tr>\n",
              "    <tr>\n",
              "      <th>941</th>\n",
              "      <td>6.600897</td>\n",
              "    </tr>\n",
              "  </tbody>\n",
              "</table>\n",
              "</div>\n",
              "      <button class=\"colab-df-convert\" onclick=\"convertToInteractive('df-d6b36f0f-4ea7-4682-8a53-62a2bdcf8a98')\"\n",
              "              title=\"Convert this dataframe to an interactive table.\"\n",
              "              style=\"display:none;\">\n",
              "        \n",
              "  <svg xmlns=\"http://www.w3.org/2000/svg\" height=\"24px\"viewBox=\"0 0 24 24\"\n",
              "       width=\"24px\">\n",
              "    <path d=\"M0 0h24v24H0V0z\" fill=\"none\"/>\n",
              "    <path d=\"M18.56 5.44l.94 2.06.94-2.06 2.06-.94-2.06-.94-.94-2.06-.94 2.06-2.06.94zm-11 1L8.5 8.5l.94-2.06 2.06-.94-2.06-.94L8.5 2.5l-.94 2.06-2.06.94zm10 10l.94 2.06.94-2.06 2.06-.94-2.06-.94-.94-2.06-.94 2.06-2.06.94z\"/><path d=\"M17.41 7.96l-1.37-1.37c-.4-.4-.92-.59-1.43-.59-.52 0-1.04.2-1.43.59L10.3 9.45l-7.72 7.72c-.78.78-.78 2.05 0 2.83L4 21.41c.39.39.9.59 1.41.59.51 0 1.02-.2 1.41-.59l7.78-7.78 2.81-2.81c.8-.78.8-2.07 0-2.86zM5.41 20L4 18.59l7.72-7.72 1.47 1.35L5.41 20z\"/>\n",
              "  </svg>\n",
              "      </button>\n",
              "      \n",
              "  <style>\n",
              "    .colab-df-container {\n",
              "      display:flex;\n",
              "      flex-wrap:wrap;\n",
              "      gap: 12px;\n",
              "    }\n",
              "\n",
              "    .colab-df-convert {\n",
              "      background-color: #E8F0FE;\n",
              "      border: none;\n",
              "      border-radius: 50%;\n",
              "      cursor: pointer;\n",
              "      display: none;\n",
              "      fill: #1967D2;\n",
              "      height: 32px;\n",
              "      padding: 0 0 0 0;\n",
              "      width: 32px;\n",
              "    }\n",
              "\n",
              "    .colab-df-convert:hover {\n",
              "      background-color: #E2EBFA;\n",
              "      box-shadow: 0px 1px 2px rgba(60, 64, 67, 0.3), 0px 1px 3px 1px rgba(60, 64, 67, 0.15);\n",
              "      fill: #174EA6;\n",
              "    }\n",
              "\n",
              "    [theme=dark] .colab-df-convert {\n",
              "      background-color: #3B4455;\n",
              "      fill: #D2E3FC;\n",
              "    }\n",
              "\n",
              "    [theme=dark] .colab-df-convert:hover {\n",
              "      background-color: #434B5C;\n",
              "      box-shadow: 0px 1px 3px 1px rgba(0, 0, 0, 0.15);\n",
              "      filter: drop-shadow(0px 1px 2px rgba(0, 0, 0, 0.3));\n",
              "      fill: #FFFFFF;\n",
              "    }\n",
              "  </style>\n",
              "\n",
              "      <script>\n",
              "        const buttonEl =\n",
              "          document.querySelector('#df-d6b36f0f-4ea7-4682-8a53-62a2bdcf8a98 button.colab-df-convert');\n",
              "        buttonEl.style.display =\n",
              "          google.colab.kernel.accessAllowed ? 'block' : 'none';\n",
              "\n",
              "        async function convertToInteractive(key) {\n",
              "          const element = document.querySelector('#df-d6b36f0f-4ea7-4682-8a53-62a2bdcf8a98');\n",
              "          const dataTable =\n",
              "            await google.colab.kernel.invokeFunction('convertToInteractive',\n",
              "                                                     [key], {});\n",
              "          if (!dataTable) return;\n",
              "\n",
              "          const docLinkHtml = 'Like what you see? Visit the ' +\n",
              "            '<a target=\"_blank\" href=https://colab.research.google.com/notebooks/data_table.ipynb>data table notebook</a>'\n",
              "            + ' to learn more about interactive tables.';\n",
              "          element.innerHTML = '';\n",
              "          dataTable['output_type'] = 'display_data';\n",
              "          await google.colab.output.renderOutput(dataTable, element);\n",
              "          const docLink = document.createElement('div');\n",
              "          docLink.innerHTML = docLinkHtml;\n",
              "          element.appendChild(docLink);\n",
              "        }\n",
              "      </script>\n",
              "    </div>\n",
              "  </div>\n",
              "  "
            ]
          },
          "metadata": {},
          "execution_count": 5
        }
      ]
    },
    {
      "cell_type": "code",
      "source": [
        "list_mae = list()\n",
        "list_r2 = list()\n",
        "list_rmse = list()"
      ],
      "metadata": {
        "id": "awyLRWM_7qp-"
      },
      "execution_count": 6,
      "outputs": []
    },
    {
      "cell_type": "code",
      "source": [
        "plt.plot(X_train, y_train,'b.')"
      ],
      "metadata": {
        "colab": {
          "base_uri": "https://localhost:8080/",
          "height": 283
        },
        "id": "JB-FMZEcuDbu",
        "outputId": "e7dea961-b878-4843-8337-68d1061ed6e9"
      },
      "execution_count": 7,
      "outputs": [
        {
          "output_type": "execute_result",
          "data": {
            "text/plain": [
              "[<matplotlib.lines.Line2D at 0x7fe6b388c690>]"
            ]
          },
          "metadata": {},
          "execution_count": 7
        },
        {
          "output_type": "display_data",
          "data": {
            "text/plain": [
              "<Figure size 432x288 with 1 Axes>"
            ],
            "image/png": "[encoded data removed]"
          },
          "metadata": {
            "needs_background": "light"
          }
        }
      ]
    },
    {
      "cell_type": "code",
      "source": [
        "linear_reg = LinearRegression(fit_intercept=True)\n",
        "linear_reg.fit(X_train, y_train)\n",
        "\n",
        "print(\"Coeficiente: \", linear_reg.coef_)\n",
        "print(\"Intercepto: \", linear_reg.intercept_)"
      ],
      "metadata": {
        "colab": {
          "base_uri": "https://localhost:8080/"
        },
        "id": "aZjD67yt0V6K",
        "outputId": "9984a77d-94f4-4ef1-a005-4b48aee03d39"
      },
      "execution_count": 8,
      "outputs": [
        {
          "output_type": "stream",
          "name": "stdout",
          "text": [
            "Coeficiente:  [[-6.14066196]]\n",
            "Intercepto:  [67.51071464]\n"
          ]
        }
      ]
    },
    {
      "cell_type": "code",
      "source": [
        "y_pred = linear_reg.predict(X_val)\n",
        "\n",
        "plt.scatter(X_val, y_val)\n",
        "plt.plot(X_val, y_pred, \"r-\", linewidth=2, label=\"Predictions\")\n",
        "plt.xlabel(\"$X$\", fontsize=18)\n",
        "plt.ylabel(\"$y$\", rotation=0, fontsize=18)\n",
        "plt.legend(loc=\"upper left\", fontsize=14);"
      ],
      "metadata": {
        "colab": {
          "base_uri": "https://localhost:8080/",
          "height": 287
        },
        "id": "nViP7WpK1Iow",
        "outputId": "fe8b7c5b-adea-4ab1-8fde-f7a631401b6c"
      },
      "execution_count": 9,
      "outputs": [
        {
          "output_type": "display_data",
          "data": {
            "text/plain": [
              "<Figure size 432x288 with 1 Axes>"
            ],
            "image/png": "[encoded data removed]"
          },
          "metadata": {
            "needs_background": "light"
          }
        }
      ]
    },
    {
      "cell_type": "markdown",
      "source": [
        "#**Ecuación:**#\n",
        "\n",
        "\\begin{align}\n",
        "\\hat{y} = -6.14x + 67.51\n",
        "\\end{align}"
      ],
      "metadata": {
        "id": "keXU23HCm6QR"
      }
    },
    {
      "cell_type": "code",
      "source": [
        "mae = metrics.mean_absolute_error(y_val, y_pred)\n",
        "rmse = np.sqrt(metrics.mean_squared_error(y_val, y_pred))\n",
        "r2 = r2_score(y_val, y_pred)\n",
        "\n",
        "print('Error medio Absoluto (MAE):', mae)\n",
        "print('Root Mean Squared Error:', rmse)\n",
        "print('r2_score',r2)\n",
        "\n",
        "list_mae.append(mae)\n",
        "list_r2.append(rmse)\n",
        "list_rmse.append(r2)"
      ],
      "metadata": {
        "colab": {
          "base_uri": "https://localhost:8080/"
        },
        "id": "iq7v99JQpIWu",
        "outputId": "04f13e41-c771-42ab-cc42-755f9f66a59d"
      },
      "execution_count": 10,
      "outputs": [
        {
          "output_type": "stream",
          "name": "stdout",
          "text": [
            "Error medio Absoluto (MAE): 4.476124068321028\n",
            "Root Mean Squared Error: 5.809995849705496\n",
            "r2_score 0.6171546016469538\n"
          ]
        }
      ]
    },
    {
      "cell_type": "markdown",
      "source": [
        "#Regresión Polinomial.#\n",
        "\n",
        "###Realiza la  regresión polinomial completa, tu modelo generado (ecuación), su visualización, sus errores y r cuadrada.###"
      ],
      "metadata": {
        "id": "uCHzHlittGqK"
      }
    },
    {
      "cell_type": "code",
      "source": [
        "from sklearn.preprocessing import PolynomialFeatures"
      ],
      "metadata": {
        "id": "78Qc6LxmtG1R"
      },
      "execution_count": 11,
      "outputs": []
    },
    {
      "cell_type": "code",
      "source": [
        "poly_features = PolynomialFeatures(degree=2, include_bias=False)\n",
        "X_poly_train = poly_features.fit_transform(X_train)\n",
        "X_poly_train.shape"
      ],
      "metadata": {
        "colab": {
          "base_uri": "https://localhost:8080/"
        },
        "id": "7mR8mN5Mvq8_",
        "outputId": "a7e87ddc-aa7b-4d47-933e-4571476ee1b2"
      },
      "execution_count": 12,
      "outputs": [
        {
          "output_type": "execute_result",
          "data": {
            "text/plain": [
              "(850, 2)"
            ]
          },
          "metadata": {},
          "execution_count": 12
        }
      ]
    },
    {
      "cell_type": "code",
      "source": [
        "linear_reg = LinearRegression(fit_intercept=True)\n",
        "linear_reg.fit(X_poly_train, y_train)\n",
        "\n",
        "print(\"Coeficiente: \", linear_reg.coef_)\n",
        "print(\"Intercepto: \", linear_reg.intercept_)"
      ],
      "metadata": {
        "colab": {
          "base_uri": "https://localhost:8080/"
        },
        "id": "3UHC3X3Btm2-",
        "outputId": "648ccb18-1a3c-43c9-85cd-95fa5e26cb49"
      },
      "execution_count": 13,
      "outputs": [
        {
          "output_type": "stream",
          "name": "stdout",
          "text": [
            "Coeficiente:  [[-17.53372296   1.24487581]]\n",
            "Intercepto:  [91.35921715]\n"
          ]
        }
      ]
    },
    {
      "cell_type": "markdown",
      "source": [
        "#**Ecuación:**#\n",
        "\n",
        "\\begin{align}\n",
        "\\hat{y} = -17.53x + 1.24x^2 + 91.35\n",
        "\\end{align}"
      ],
      "metadata": {
        "id": "zLSite8bwYVE"
      }
    },
    {
      "cell_type": "code",
      "source": [
        "order = np.argsort(X_val.values.ravel())\n",
        "X_poly_val = poly_features.fit_transform(X_val)\n",
        "y_pred = linear_reg.predict(X_poly_val)\n",
        "plt.plot(X_train, y_train, \"b.\")\n",
        "plt.plot(X_val.to_numpy()[order], y_pred[order], \"r-\", linewidth=2, label=\"Predictions\")\n",
        "plt.xlabel(\"$x_1$\", fontsize=18)\n",
        "plt.ylabel(\"$y$\", rotation=0, fontsize=18)\n",
        "plt.legend(loc=\"upper left\", fontsize=14)"
      ],
      "metadata": {
        "colab": {
          "base_uri": "https://localhost:8080/",
          "height": 305
        },
        "id": "K-fwTqnZw8b5",
        "outputId": "2d88483e-05d8-4fd8-9f18-95c0f91390fb"
      },
      "execution_count": 14,
      "outputs": [
        {
          "output_type": "execute_result",
          "data": {
            "text/plain": [
              "<matplotlib.legend.Legend at 0x7fe6b31fe710>"
            ]
          },
          "metadata": {},
          "execution_count": 14
        },
        {
          "output_type": "display_data",
          "data": {
            "text/plain": [
              "<Figure size 432x288 with 1 Axes>"
            ],
            "image/png": "[encoded data removed]"
          },
          "metadata": {
            "needs_background": "light"
          }
        }
      ]
    },
    {
      "cell_type": "code",
      "source": [
        "mae = metrics.mean_absolute_error(y_val, y_pred)\n",
        "rmse = np.sqrt(metrics.mean_squared_error(y_val, y_pred))\n",
        "r2 = r2_score(y_val, y_pred)\n",
        "\n",
        "print('Error medio Absoluto (MAE):', mae)\n",
        "print('Root Mean Squared Error:', rmse)\n",
        "print('r2_score',r2)\n",
        "\n",
        "list_mae.append(mae)\n",
        "list_r2.append(rmse)\n",
        "list_rmse.append(r2)"
      ],
      "metadata": {
        "colab": {
          "base_uri": "https://localhost:8080/"
        },
        "id": "BxoMn4AtSryX",
        "outputId": "c522bd28-62d5-4bf9-c7bc-0e229524924d"
      },
      "execution_count": 15,
      "outputs": [
        {
          "output_type": "stream",
          "name": "stdout",
          "text": [
            "Error medio Absoluto (MAE): 4.210513366450576\n",
            "Root Mean Squared Error: 5.552673677967162\n",
            "r2_score 0.6503157354529492\n"
          ]
        }
      ]
    },
    {
      "cell_type": "markdown",
      "source": [
        "###Realiza la regresión con Ridge y Lasso. Incluye la ecuación de tu modelo, visualización , errores y r cuadrada.###"
      ],
      "metadata": {
        "id": "1ySgv8FuYe_R"
      }
    },
    {
      "cell_type": "markdown",
      "source": [
        "#Regresión Ridge Lineal.#"
      ],
      "metadata": {
        "id": "Mv6xKtYziOei"
      }
    },
    {
      "cell_type": "code",
      "source": [
        "ridge_reg = Ridge(alpha=5, fit_intercept=True)\n",
        "ridge_reg.fit(X_train, y_train)\n",
        "\n",
        "print(\"Coeficiente: \", ridge_reg.coef_)\n",
        "print(\"Intercepto: \", ridge_reg.intercept_)"
      ],
      "metadata": {
        "colab": {
          "base_uri": "https://localhost:8080/"
        },
        "id": "eDFiSc8UdLSU",
        "outputId": "956305ca-1c1d-4795-9951-2f5e63052788"
      },
      "execution_count": 16,
      "outputs": [
        {
          "output_type": "stream",
          "name": "stdout",
          "text": [
            "Coeficiente:  [[-6.12032652]]\n",
            "Intercepto:  [67.4198767]\n"
          ]
        }
      ]
    },
    {
      "cell_type": "code",
      "source": [
        "y_pred = ridge_reg.predict(X_val)\n",
        "\n",
        "plt.scatter(X_val, y_val)\n",
        "plt.plot(X_val, y_pred, \"r-\", linewidth=2, label=\"Predictions\")\n",
        "plt.xlabel(\"$X$\", fontsize=18)\n",
        "plt.ylabel(\"$y$\", rotation=0, fontsize=18)\n",
        "plt.legend(loc=\"upper left\", fontsize=14);"
      ],
      "metadata": {
        "colab": {
          "base_uri": "https://localhost:8080/",
          "height": 287
        },
        "id": "0wsiNbUq3csf",
        "outputId": "e3a1dac4-802d-4c0d-f062-8ecd4856cc68"
      },
      "execution_count": 17,
      "outputs": [
        {
          "output_type": "display_data",
          "data": {
            "text/plain": [
              "<Figure size 432x288 with 1 Axes>"
            ],
            "image/png": "[encoded data removed]"
          },
          "metadata": {
            "needs_background": "light"
          }
        }
      ]
    },
    {
      "cell_type": "markdown",
      "source": [
        "#**Ecuación:**#\n",
        "\n",
        "\\begin{align}\n",
        "\\hat{y} = -6.12x + 67.41\n",
        "\\end{align}"
      ],
      "metadata": {
        "id": "vTSnxWId3pKn"
      }
    },
    {
      "cell_type": "code",
      "source": [
        "mae = metrics.mean_absolute_error(y_val, y_pred)\n",
        "rmse = np.sqrt(metrics.mean_squared_error(y_val, y_pred))\n",
        "r2 = r2_score(y_val, y_pred)\n",
        "\n",
        "print('Error medio Absoluto (MAE):', mae)\n",
        "print('Root Mean Squared Error:', rmse)\n",
        "print('r2_score',r2)\n",
        "\n",
        "list_mae.append(mae)\n",
        "list_r2.append(rmse)\n",
        "list_rmse.append(r2)"
      ],
      "metadata": {
        "colab": {
          "base_uri": "https://localhost:8080/"
        },
        "id": "FHv2iL4Q3tV3",
        "outputId": "f276b505-2f18-4af4-ba78-00e299d6687b"
      },
      "execution_count": 18,
      "outputs": [
        {
          "output_type": "stream",
          "name": "stdout",
          "text": [
            "Error medio Absoluto (MAE): 4.473472449536886\n",
            "Root Mean Squared Error: 5.805593482543649\n",
            "r2_score 0.617734563323477\n"
          ]
        }
      ]
    },
    {
      "cell_type": "markdown",
      "source": [
        "#Regresión Ridge Polinomial.#"
      ],
      "metadata": {
        "id": "Qw8e-xuHiUY5"
      }
    },
    {
      "cell_type": "code",
      "source": [
        "ridge_poly_reg = Ridge(fit_intercept=True)\n",
        "ridge_poly_reg.fit(X_poly_train, y_train)\n",
        "\n",
        "print(\"Coeficiente: \", linear_reg.coef_)\n",
        "print(\"Intercepto: \", linear_reg.intercept_)"
      ],
      "metadata": {
        "colab": {
          "base_uri": "https://localhost:8080/"
        },
        "id": "TkONnkLd4GLm",
        "outputId": "b565d25d-fa5f-4925-e431-c635c31ff9da"
      },
      "execution_count": 19,
      "outputs": [
        {
          "output_type": "stream",
          "name": "stdout",
          "text": [
            "Coeficiente:  [[-17.53372296   1.24487581]]\n",
            "Intercepto:  [91.35921715]\n"
          ]
        }
      ]
    },
    {
      "cell_type": "markdown",
      "source": [
        "#**Ecuación:**#\n",
        "\n",
        "\\begin{align}\n",
        "\\hat{y} = -17.53x + 1.24x^2 + 91.35\n",
        "\\end{align}"
      ],
      "metadata": {
        "id": "HMPqlBrb4ce6"
      }
    },
    {
      "cell_type": "code",
      "source": [
        "order = np.argsort(X_val.values.ravel())\n",
        "X_poly_val = poly_features.fit_transform(X_val)\n",
        "y_pred = linear_reg.predict(X_poly_val)\n",
        "plt.plot(X_train, y_train, \"b.\")\n",
        "plt.plot(X_val.to_numpy()[order], y_pred[order], \"r-\", linewidth=2, label=\"Predictions\")\n",
        "plt.xlabel(\"$x_1$\", fontsize=18)\n",
        "plt.ylabel(\"$y$\", rotation=0, fontsize=18)\n",
        "plt.legend(loc=\"upper left\", fontsize=14)"
      ],
      "metadata": {
        "colab": {
          "base_uri": "https://localhost:8080/",
          "height": 305
        },
        "id": "0GZ87C5t4Rc8",
        "outputId": "26d10feb-4fc6-48be-a492-32db5f70f219"
      },
      "execution_count": 20,
      "outputs": [
        {
          "output_type": "execute_result",
          "data": {
            "text/plain": [
              "<matplotlib.legend.Legend at 0x7fe6b310a390>"
            ]
          },
          "metadata": {},
          "execution_count": 20
        },
        {
          "output_type": "display_data",
          "data": {
            "text/plain": [
              "<Figure size 432x288 with 1 Axes>"
            ],
            "image/png": "[encoded data removed]"
          },
          "metadata": {
            "needs_background": "light"
          }
        }
      ]
    },
    {
      "cell_type": "code",
      "source": [
        "mae = metrics.mean_absolute_error(y_val, y_pred)\n",
        "rmse = np.sqrt(metrics.mean_squared_error(y_val, y_pred))\n",
        "r2 = r2_score(y_val, y_pred)\n",
        "\n",
        "print('Error medio Absoluto (MAE):', mae)\n",
        "print('Root Mean Squared Error:', rmse)\n",
        "print('r2_score',r2)\n",
        "\n",
        "list_mae.append(mae)\n",
        "list_r2.append(rmse)\n",
        "list_rmse.append(r2)"
      ],
      "metadata": {
        "colab": {
          "base_uri": "https://localhost:8080/"
        },
        "id": "SiGd46kZ4Xzh",
        "outputId": "1710fb8a-9b4b-4c5e-d881-81f3339adfca"
      },
      "execution_count": 21,
      "outputs": [
        {
          "output_type": "stream",
          "name": "stdout",
          "text": [
            "Error medio Absoluto (MAE): 4.210513366450576\n",
            "Root Mean Squared Error: 5.552673677967162\n",
            "r2_score 0.6503157354529492\n"
          ]
        }
      ]
    },
    {
      "cell_type": "markdown",
      "source": [
        "#Regresión Lasso Lineal.#"
      ],
      "metadata": {
        "id": "LZyu8toDiXrm"
      }
    },
    {
      "cell_type": "code",
      "source": [
        "lasso_linearreg = Lasso(alpha=5, fit_intercept=True)\n",
        "lasso_linearreg.fit(X_train, y_train)\n",
        "\n",
        "print(\"Coeficiente: \", lasso_linearreg.coef_)\n",
        "print(\"Intercepto: \", lasso_linearreg.intercept_)"
      ],
      "metadata": {
        "colab": {
          "base_uri": "https://localhost:8080/"
        },
        "id": "Kg6cQJGU4nj6",
        "outputId": "921cf9ac-15ac-45af-94d9-a0b2ee19f995"
      },
      "execution_count": 22,
      "outputs": [
        {
          "output_type": "stream",
          "name": "stdout",
          "text": [
            "Coeficiente:  [-3.31644712]\n",
            "Intercepto:  [54.8950072]\n"
          ]
        }
      ]
    },
    {
      "cell_type": "code",
      "source": [
        "y_pred = lasso_linearreg.predict(X_val)\n",
        "\n",
        "plt.scatter(X_val, y_val)\n",
        "plt.plot(X_val, y_pred, \"r-\", linewidth=2, label=\"Predictions\")\n",
        "plt.xlabel(\"$X$\", fontsize=18)\n",
        "plt.ylabel(\"$y$\", rotation=0, fontsize=18)\n",
        "plt.legend(loc=\"upper left\", fontsize=14);"
      ],
      "metadata": {
        "colab": {
          "base_uri": "https://localhost:8080/",
          "height": 287
        },
        "id": "wmNny7Db4xz-",
        "outputId": "23974da6-696c-4ed8-fade-0e52a629668c"
      },
      "execution_count": 23,
      "outputs": [
        {
          "output_type": "display_data",
          "data": {
            "text/plain": [
              "<Figure size 432x288 with 1 Axes>"
            ],
            "image/png": "[encoded data removed]"
          },
          "metadata": {
            "needs_background": "light"
          }
        }
      ]
    },
    {
      "cell_type": "markdown",
      "source": [
        "#**Ecuación:**#\n",
        "\n",
        "\\begin{align}\n",
        "\\hat{y} = -3.31x + 54.89\n",
        "\\end{align}"
      ],
      "metadata": {
        "id": "qi2jWZ7X44wp"
      }
    },
    {
      "cell_type": "code",
      "source": [
        "mae = metrics.mean_absolute_error(y_val, y_pred)\n",
        "rmse = np.sqrt(metrics.mean_squared_error(y_val, y_pred))\n",
        "r2 = r2_score(y_val, y_pred)\n",
        "\n",
        "print('Error medio Absoluto (MAE):', mae)\n",
        "print('Root Mean Squared Error:', rmse)\n",
        "print('r2_score',r2)\n",
        "\n",
        "list_mae.append(mae)\n",
        "list_r2.append(rmse)\n",
        "list_rmse.append(r2)"
      ],
      "metadata": {
        "colab": {
          "base_uri": "https://localhost:8080/"
        },
        "id": "OhkO9I-t4_V3",
        "outputId": "3becb0e9-f995-4ae6-8288-f7ed0f4a827b"
      },
      "execution_count": 24,
      "outputs": [
        {
          "output_type": "stream",
          "name": "stdout",
          "text": [
            "Error medio Absoluto (MAE): 4.8279247900793685\n",
            "Root Mean Squared Error: 6.4327468944642945\n",
            "r2_score 0.530684697869921\n"
          ]
        }
      ]
    },
    {
      "cell_type": "markdown",
      "source": [
        "#Regresión Lasso Polinomial.#"
      ],
      "metadata": {
        "id": "TCzxGW6siaor"
      }
    },
    {
      "cell_type": "code",
      "source": [
        "lasso_polyreg = Lasso(fit_intercept=True)\n",
        "lasso_polyreg.fit(X_poly_train, y_train)\n",
        "\n",
        "print(\"Coeficiente: \", lasso_polyreg.coef_)\n",
        "print(\"Intercepto: \", lasso_polyreg.intercept_)"
      ],
      "metadata": {
        "colab": {
          "base_uri": "https://localhost:8080/"
        },
        "id": "UALyGVUq5Ekv",
        "outputId": "eb405d7b-9c29-4898-8842-e6c689f5058b"
      },
      "execution_count": 25,
      "outputs": [
        {
          "output_type": "stream",
          "name": "stdout",
          "text": [
            "Coeficiente:  [-5.57581899 -0.        ]\n",
            "Intercepto:  [64.98757315]\n"
          ]
        }
      ]
    },
    {
      "cell_type": "markdown",
      "source": [
        "#**Ecuación:**#\n",
        "\n",
        "\\begin{align}\n",
        "\\hat{y} = -17.27x + 1.21x^2 + 90.79\n",
        "\\end{align}"
      ],
      "metadata": {
        "id": "K_WNx2CG5UFX"
      }
    },
    {
      "cell_type": "code",
      "source": [
        "order = np.argsort(X_val.values.ravel())\n",
        "X_poly_val = poly_features.fit_transform(X_val)\n",
        "y_pred = lasso_polyreg.predict(X_poly_val)\n",
        "plt.plot(X_train, y_train, \"b.\")\n",
        "plt.plot(X_val.to_numpy()[order], y_pred[order], \"r-\", linewidth=2, label=\"Predictions\")\n",
        "plt.xlabel(\"$x_1$\", fontsize=18)\n",
        "plt.ylabel(\"$y$\", rotation=0, fontsize=18)\n",
        "plt.legend(loc=\"upper left\", fontsize=14)"
      ],
      "metadata": {
        "colab": {
          "base_uri": "https://localhost:8080/",
          "height": 305
        },
        "id": "rZDv-9Xy5YcT",
        "outputId": "a98e3e36-87c9-4471-a072-8b9daec4498b"
      },
      "execution_count": 26,
      "outputs": [
        {
          "output_type": "execute_result",
          "data": {
            "text/plain": [
              "<matplotlib.legend.Legend at 0x7fe6b2fa8f50>"
            ]
          },
          "metadata": {},
          "execution_count": 26
        },
        {
          "output_type": "display_data",
          "data": {
            "text/plain": [
              "<Figure size 432x288 with 1 Axes>"
            ],
            "image/png": "[encoded data removed]"
          },
          "metadata": {
            "needs_background": "light"
          }
        }
      ]
    },
    {
      "cell_type": "code",
      "source": [
        "mae = metrics.mean_absolute_error(y_val, y_pred)\n",
        "rmse = np.sqrt(metrics.mean_squared_error(y_val, y_pred))\n",
        "r2 = r2_score(y_val, y_pred)\n",
        "\n",
        "print('Error medio Absoluto (MAE):', mae)\n",
        "print('Root Mean Squared Error:', rmse)\n",
        "print('r2_score',r2)\n",
        "\n",
        "list_mae.append(mae)\n",
        "list_r2.append(rmse)\n",
        "list_rmse.append(r2)"
      ],
      "metadata": {
        "colab": {
          "base_uri": "https://localhost:8080/"
        },
        "id": "Pb7ZZa635fnP",
        "outputId": "b5d548b3-ec07-4951-dc37-fae3de379145"
      },
      "execution_count": 27,
      "outputs": [
        {
          "output_type": "stream",
          "name": "stdout",
          "text": [
            "Error medio Absoluto (MAE): 4.435821067963493\n",
            "Root Mean Squared Error: 5.7365175635060925\n",
            "r2_score 0.6267769631700428\n"
          ]
        }
      ]
    },
    {
      "cell_type": "markdown",
      "source": [
        "###Finalmente grafica :###\n",
        "###MAE (de los cuatro métodos)###\n",
        "###R2 (de los cuatro métodos)###\n",
        "\n",
        "###Explica tus resultados, que método conviene más a la empresa, ¿por que?, ¿que porcentajes de entrenamiento y evaluación usaste?, ¿que error tienes?, ¿es bueno?, ¿cómo lo sabes?###"
      ],
      "metadata": {
        "id": "J5_0iTT7dLav"
      }
    },
    {
      "cell_type": "code",
      "source": [
        "plt.bar([\"Regresión lineal\", \"Regresión polinomial\", \"Ridge lineal\", \"Ridge polinomial\", \"Lasso lineal\", \"Lasso polinomial\"], list_mae)\n",
        "plt.title(\"MAE\")\n",
        "plt.xticks(rotation=90)\n",
        "plt.show()"
      ],
      "metadata": {
        "colab": {
          "base_uri": "https://localhost:8080/",
          "height": 376
        },
        "id": "QEuppfUF8muX",
        "outputId": "1ded28ec-9d38-4dd9-cdf8-19b67423685a"
      },
      "execution_count": 31,
      "outputs": [
        {
          "output_type": "display_data",
          "data": {
            "text/plain": [
              "<Figure size 432x288 with 1 Axes>"
            ],
            "image/png": "[encoded data removed]"
          },
          "metadata": {
            "needs_background": "light"
          }
        }
      ]
    },
    {
      "cell_type": "code",
      "source": [
        "plt.bar([\"Regresión lineal\", \"Regresión polinomial\", \"Ridge lineal\", \"Ridge polinomial\", \"Lasso lineal\", \"Lasso polinomial\"], list_rmse)\n",
        "plt.title(\"RMSE\")\n",
        "plt.xticks(rotation=90)\n",
        "plt.show()"
      ],
      "metadata": {
        "colab": {
          "base_uri": "https://localhost:8080/",
          "height": 376
        },
        "id": "0Q4H04Ux9H42",
        "outputId": "5bf575d4-617f-4cda-9add-0c445c8d3714"
      },
      "execution_count": 32,
      "outputs": [
        {
          "output_type": "display_data",
          "data": {
            "text/plain": [
              "<Figure size 432x288 with 1 Axes>"
            ],
            "image/png": "[encoded data removed]"
          },
          "metadata": {
            "needs_background": "light"
          }
        }
      ]
    },
    {
      "cell_type": "code",
      "source": [
        "plt.bar([\"Regresión lineal\", \"Regresión polinomial\", \"Ridge lineal\", \"Ridge polinomial\", \"Lasso lineal\", \"Lasso polinomial\"], list_r2)\n",
        "plt.title(\"R2\")\n",
        "plt.xticks(rotation=90)\n",
        "plt.show()"
      ],
      "metadata": {
        "colab": {
          "base_uri": "https://localhost:8080/",
          "height": 376
        },
        "id": "TNmd8zY_9LTB",
        "outputId": "6ff62f57-f5c7-4eea-c692-70550f7f8202"
      },
      "execution_count": 33,
      "outputs": [
        {
          "output_type": "display_data",
          "data": {
            "text/plain": [
              "<Figure size 432x288 with 1 Axes>"
            ],
            "image/png": "[encoded data removed]"
          },
          "metadata": {
            "needs_background": "light"
          }
        }
      ]
    },
    {
      "cell_type": "markdown",
      "source": [
        "#**Conclusiones**#\n",
        "\n",
        "####Con los modelos de regresión, como los aplicados en este ejercicio, predecimos o estimamos el valor numérico de una cantidad desconocida, de acuerdo con unas características dadas. La diferencia entre la predicción y el valor real es el error, este es una variable, que puede depender de las características dadas.####\n",
        "\n",
        "\n",
        "####En la actualidad hay algunas formas para estimar el rendimiento y evaluar el ajuste del modelo, algunas de ellas son: el error cuadrático medio (RMSE, por sus siglas en inglés, root mean squared error), error absoluto medio (MAE, mean absolute error) y R-cuadrada.####\n",
        "\n",
        "####Por lo que investigamos, la métrica más comúnmente utilizada para las tareas de regresión es el error cuadrático medio (RMSE) y representa a la raíz cuadrada de la distancia cuadrada promedio entre el valor real y el valor pronosticado, por lo cual es la que usaremos para evaluar nuestras regresiones####\n",
        "\n",
        "####El RMSE ndica el ajuste absoluto del modelo a los datos, cuán cerca están los puntos de los datos de los valores predichos del modelo. El error cuadratico medio o RMSE es una medida absoluta de ajuste.####\n",
        "\n",
        "####Los valores más bajos de RMSE indican un mejor ajuste. RMSE es una buena medida de la precisión con que el modelo predice la respuesta, y es el criterio más importante para ajustar si el propósito principal del modelo es la predicción.####\n",
        "\n",
        "###1.-¿Qué método conviene más a la empresa, ¿por que?, \n",
        "\n",
        "####Seleccionamos el método Lasso Lineal debido que posee un valor más bajo de RMSE comparado con las otras métricas de medición.####\n",
        "\n",
        "###2.-¿Qué porcentajes de entrenamiento y evaluación usaste?###, \n",
        "\n",
        "#### Un 85% para entrenamiento y un 15% para evaluación de los datos####\n",
        "\n",
        "###3.-¿Qué error tienes?, ¿es bueno?, ¿cómo lo sabes?###\n",
        "\n",
        "####La mejor métrica para ajustar el modelo depende de los objetivos del problema. En nuestro caso para el problema de regresión nos basamos en el RMSE a pesar de que algunas veces se aconseja el R cuadrado ajustado, consideramos que es bueno dado que las demás métricas rondan similarmente por el mismo umbral####"
      ],
      "metadata": {
        "id": "RDLlobpWh6Un"
      }
    }
  ]
}