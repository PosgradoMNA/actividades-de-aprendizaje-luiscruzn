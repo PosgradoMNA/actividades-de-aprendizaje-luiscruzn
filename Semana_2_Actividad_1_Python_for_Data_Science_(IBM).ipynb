{
  "nbformat": 4,
  "nbformat_minor": 0,
  "metadata": {
    "colab": {
      "provenance": [],
      "collapsed_sections": [],
      "authorship_tag": "ABX9TyOmLtcVT2DKbLXB3ryezrf3",
      "include_colab_link": true
    },
    "kernelspec": {
      "name": "python3",
      "display_name": "Python 3"
    },
    "language_info": {
      "name": "python"
    }
  },
  "cells": [
    {
      "cell_type": "markdown",
      "metadata": {
        "id": "view-in-github",
        "colab_type": "text"
      },
      "source": [
        "<a href=\"https://colab.research.google.com/github/PosgradoMNA/actividades-de-aprendizaje-luiscruzn/blob/main/Semana_2_Actividad_1_Python_for_Data_Science_(IBM).ipynb\" target=\"_parent\"><img src=\"https://colab.research.google.com/assets/colab-badge.svg\" alt=\"Open In Colab\"/></a>"
      ]
    },
    {
      "cell_type": "markdown",
      "source": [
        "# **Module 4 - Working with Data in Python**"
      ],
      "metadata": {
        "id": "5we1iUcKO487"
      }
    },
    {
      "cell_type": "markdown",
      "source": [
        "**4.1. Reading Files with Open**"
      ],
      "metadata": {
        "id": "1BhE_Tz_PGts"
      }
    },
    {
      "cell_type": "code",
      "execution_count": 157,
      "metadata": {
        "id": "hmbnUDqQOyVY"
      },
      "outputs": [],
      "source": [
        "# Usaremos la función open de Python para leer un archivo, recibe dos parámetros, el \n",
        "# primero es el path y el segundo es el mode, que indica si será de lectura, escritura o agregar\n",
        "\n",
        "File1 = open(\"/content/sample_data/ejemplo.txt\", \"r\")"
      ]
    },
    {
      "cell_type": "code",
      "source": [
        "# Con el atributo name podemos ver el nombre\n",
        "print(File1.name)"
      ],
      "metadata": {
        "colab": {
          "base_uri": "https://localhost:8080/"
        },
        "id": "jmBOQMdEQYYM",
        "outputId": "52ea8fd5-ebf5-4fff-f936-e3172e8e7bae"
      },
      "execution_count": 158,
      "outputs": [
        {
          "output_type": "stream",
          "name": "stdout",
          "text": [
            "/content/sample_data/ejemplo.txt\n"
          ]
        }
      ]
    },
    {
      "cell_type": "code",
      "source": [
        "# Con el parámetro mode podemos ver el valor de mode\n",
        "print(File1.mode)"
      ],
      "metadata": {
        "colab": {
          "base_uri": "https://localhost:8080/"
        },
        "id": "IXyygwzmQpMa",
        "outputId": "c574da8b-0585-43a7-c970-288d91cd6478"
      },
      "execution_count": 159,
      "outputs": [
        {
          "output_type": "stream",
          "name": "stdout",
          "text": [
            "r\n"
          ]
        }
      ]
    },
    {
      "cell_type": "code",
      "source": [
        "# Siempre debemos cerrar el archivo con el método close\n",
        "File1.close()"
      ],
      "metadata": {
        "id": "cmil46HyQ0YB"
      },
      "execution_count": 160,
      "outputs": []
    },
    {
      "cell_type": "code",
      "source": [
        "# Este código lee el archivo ejemplo.txt; podemos usar el objeto de archivo File1. \n",
        "# El código realizará todas las operaciones en el bloque que tiene sangría y luego cerrará el archivo \n",
        "# al final de la sangría. El método read almacena los valores del archivo en la variable \n",
        "# file_stuff como una cadena.\n",
        "with open(\"/content/sample_data/ejemplo.txt\", \"r\") as File1:\n",
        "    file_stuff = File1.read()\n",
        "    print(file_stuff)"
      ],
      "metadata": {
        "colab": {
          "base_uri": "https://localhost:8080/"
        },
        "id": "7dxZKk6uRDFx",
        "outputId": "6e6caf50-78de-47b6-82ad-d2fff43326ff"
      },
      "execution_count": 161,
      "outputs": [
        {
          "output_type": "stream",
          "name": "stdout",
          "text": [
            "esta es la primera línea\n",
            "esta es la segunda línea\n",
            "esta es la tercera línea\n"
          ]
        }
      ]
    },
    {
      "cell_type": "code",
      "source": [
        "# Verificamos si el archivo realmente se cerró\n",
        "print(File1.closed)"
      ],
      "metadata": {
        "colab": {
          "base_uri": "https://localhost:8080/"
        },
        "id": "JSI2scicRWIk",
        "outputId": "fa9080fb-cbe2-48af-a480-36a75f639a97"
      },
      "execution_count": 162,
      "outputs": [
        {
          "output_type": "stream",
          "name": "stdout",
          "text": [
            "True\n"
          ]
        }
      ]
    },
    {
      "cell_type": "code",
      "source": [
        "# A pesar de que se cerró, la info esta almacenada en una variable\n",
        "print(file_stuff)"
      ],
      "metadata": {
        "colab": {
          "base_uri": "https://localhost:8080/"
        },
        "id": "BnaVjNv1RbN7",
        "outputId": "88bf4643-021a-4bae-bf7f-7c58387edf19"
      },
      "execution_count": 163,
      "outputs": [
        {
          "output_type": "stream",
          "name": "stdout",
          "text": [
            "esta es la primera línea\n",
            "esta es la segunda línea\n",
            "esta es la tercera línea\n"
          ]
        }
      ]
    },
    {
      "cell_type": "code",
      "source": [
        "# Podemos generar cada línea como un elemento en una lista usando el método readlines. La primera línea corresponde al primer elemento de la lista. La segunda línea corresponde al segundo elemento de la lista, y así sucesivamente.\n",
        "with open(\"/content/sample_data/ejemplo.txt\", \"r\") as File1:\n",
        "    file_stuff = File1.readlines()\n",
        "    print(file_stuff)"
      ],
      "metadata": {
        "colab": {
          "base_uri": "https://localhost:8080/"
        },
        "id": "26NOHSBnGFcu",
        "outputId": "6fe4750c-f30b-4dbd-aa2d-db3dd5ce6f97"
      },
      "execution_count": 164,
      "outputs": [
        {
          "output_type": "stream",
          "name": "stdout",
          "text": [
            "['esta es la primera línea\\n', 'esta es la segunda línea\\n', 'esta es la tercera línea']\n"
          ]
        }
      ]
    },
    {
      "cell_type": "code",
      "source": [
        "# Con el método readline solo leemos la primera línea del archivo\n",
        "with open(\"/content/sample_data/ejemplo.txt\", \"r\") as File1:\n",
        "    file_stuff = File1.readline()\n",
        "    print(file_stuff)"
      ],
      "metadata": {
        "colab": {
          "base_uri": "https://localhost:8080/"
        },
        "id": "tTJS0WobGYd2",
        "outputId": "325d5395-a86b-47a3-e15a-a05cfc696194"
      },
      "execution_count": 165,
      "outputs": [
        {
          "output_type": "stream",
          "name": "stdout",
          "text": [
            "esta es la primera línea\n",
            "\n"
          ]
        }
      ]
    },
    {
      "cell_type": "code",
      "source": [
        "# Con el método readline solo leemos la primera línea del archivo\n",
        "with open(\"/content/sample_data/ejemplo.txt\", \"r\") as File1:\n",
        "    file_stuff = File1.readline()\n",
        "    print(file_stuff)\n",
        "    file_stuff = File1.readline()\n",
        "    print(file_stuff)"
      ],
      "metadata": {
        "colab": {
          "base_uri": "https://localhost:8080/"
        },
        "id": "jBybNZjKHXyx",
        "outputId": "c3dc5b51-3006-4255-f645-8d16b49b42af"
      },
      "execution_count": 166,
      "outputs": [
        {
          "output_type": "stream",
          "name": "stdout",
          "text": [
            "esta es la primera línea\n",
            "\n",
            "esta es la segunda línea\n",
            "\n"
          ]
        }
      ]
    },
    {
      "cell_type": "code",
      "source": [
        "# Podemos iterar a través de el archivo mediante un for\n",
        "with open(\"/content/sample_data/ejemplo.txt\", \"r\") as File1:\n",
        "    for line in File1:\n",
        "        print(line)"
      ],
      "metadata": {
        "colab": {
          "base_uri": "https://localhost:8080/"
        },
        "id": "Jr4JFda3HeWG",
        "outputId": "369fe5da-5627-43a5-a925-8f8dc2ea8d6e"
      },
      "execution_count": 167,
      "outputs": [
        {
          "output_type": "stream",
          "name": "stdout",
          "text": [
            "esta es la primera línea\n",
            "\n",
            "esta es la segunda línea\n",
            "\n",
            "esta es la tercera línea\n"
          ]
        }
      ]
    },
    {
      "cell_type": "code",
      "source": [
        "# Con el método read y con el parámetro numérico podemos obtener el número de caracteres indicado\n",
        "with open(\"/content/sample_data/ejemplo.txt\", \"r\") as File1:\n",
        "    file_stuff = File1.read(16)\n",
        "    print(file_stuff)\n",
        "    file_stuff = File1.read(5)\n",
        "    print(file_stuff)\n",
        "    file_stuff = File1.read(9)\n",
        "    print(file_stuff)"
      ],
      "metadata": {
        "colab": {
          "base_uri": "https://localhost:8080/"
        },
        "id": "6KbM9xunHxJu",
        "outputId": "1e6243ef-b58f-4599-c52e-1fa4892410f0"
      },
      "execution_count": 168,
      "outputs": [
        {
          "output_type": "stream",
          "name": "stdout",
          "text": [
            "esta es la prime\n",
            "ra lí\n",
            "nea\n",
            "esta \n"
          ]
        }
      ]
    },
    {
      "cell_type": "code",
      "source": [
        "# Con esta instrucción podemos escribir un archivo, como primer argumento debemos enviar el path y \n",
        "# como segundo argumento enviamos el mode, en este casi w\n",
        "\n",
        "File1 = open(\"/content/sample_data/ejemplo2.txt\", \"w\")"
      ],
      "metadata": {
        "id": "vSC-maTwKUdg"
      },
      "execution_count": 169,
      "outputs": []
    },
    {
      "cell_type": "code",
      "source": [
        "# Con el método write escribimos texto dentro del archivo creado anteriormente\n",
        "File1.write(\"Ejemplo de escritura\\n\")"
      ],
      "metadata": {
        "colab": {
          "base_uri": "https://localhost:8080/"
        },
        "id": "RA_xO6OcKhU6",
        "outputId": "46aeb1db-4cce-4431-c412-f159b4c3f824"
      },
      "execution_count": 170,
      "outputs": [
        {
          "output_type": "execute_result",
          "data": {
            "text/plain": [
              "21"
            ]
          },
          "metadata": {},
          "execution_count": 170
        }
      ]
    },
    {
      "cell_type": "code",
      "source": [
        "#Escribimos otra línea en el arhivo File1\n",
        "File1.write(\"Ejemplo de escritura 2\\n\")"
      ],
      "metadata": {
        "colab": {
          "base_uri": "https://localhost:8080/"
        },
        "id": "QF-F3whKK9oM",
        "outputId": "4e4995e0-db19-43da-8df6-953f8b1d4703"
      },
      "execution_count": 171,
      "outputs": [
        {
          "output_type": "execute_result",
          "data": {
            "text/plain": [
              "23"
            ]
          },
          "metadata": {},
          "execution_count": 171
        }
      ]
    },
    {
      "cell_type": "code",
      "source": [
        "# Cerramos para ver reflejados los cambios\n",
        "File1.close()"
      ],
      "metadata": {
        "id": "I8u9lKEqLKgZ"
      },
      "execution_count": 172,
      "outputs": []
    },
    {
      "cell_type": "code",
      "source": [
        "# Verficamos que el archivo se haya guardado correctamente\n",
        "with open(\"/content/sample_data/ejemplo2.txt\", 'r') as testwritefile:\n",
        "    print(testwritefile.read())"
      ],
      "metadata": {
        "colab": {
          "base_uri": "https://localhost:8080/"
        },
        "id": "OhjRDoiTMYgG",
        "outputId": "41d5f2b4-3b91-4b01-8265-9b291ff337de"
      },
      "execution_count": 173,
      "outputs": [
        {
          "output_type": "stream",
          "name": "stdout",
          "text": [
            "Ejemplo de escritura\n",
            "Ejemplo de escritura 2\n",
            "\n"
          ]
        }
      ]
    },
    {
      "cell_type": "code",
      "source": [
        "# Podemos guardar un conjunto de líneas iterandolas y agregandolas al archivo\n",
        "Lines = [\"This is line A\\n\", \"This is line B\\n\", \"This is line C\\n\"]\n",
        "with open('/content/sample_data/example3.txt', 'w') as File1:\n",
        "    for line in Lines:\n",
        "        print(line)\n",
        "        File1.write(line)"
      ],
      "metadata": {
        "colab": {
          "base_uri": "https://localhost:8080/"
        },
        "id": "MeyuHiD_MeBl",
        "outputId": "af730d29-b596-45d2-a2ea-38a39bc32117"
      },
      "execution_count": 174,
      "outputs": [
        {
          "output_type": "stream",
          "name": "stdout",
          "text": [
            "This is line A\n",
            "\n",
            "This is line B\n",
            "\n",
            "This is line C\n",
            "\n"
          ]
        }
      ]
    },
    {
      "cell_type": "code",
      "source": [
        "# Para agregar info a un archivo existente usamos el parámetro mode = \"a\" \n",
        "with open('/content/sample_data/example3.txt', 'a') as File1:\n",
        "    File1.write(\"This is line D\\n\")"
      ],
      "metadata": {
        "id": "qwVVBzLAMySy"
      },
      "execution_count": 175,
      "outputs": []
    },
    {
      "cell_type": "code",
      "source": [
        "# Verificamos que efectivamente se agregó la información\n",
        "with open(\"/content/sample_data/example3.txt\", 'r') as File1:\n",
        "    print(File1.read())"
      ],
      "metadata": {
        "colab": {
          "base_uri": "https://localhost:8080/"
        },
        "id": "icNM8P9XM8MM",
        "outputId": "24c77e5c-a786-4beb-b119-a6cfc61cf752"
      },
      "execution_count": 176,
      "outputs": [
        {
          "output_type": "stream",
          "name": "stdout",
          "text": [
            "This is line A\n",
            "This is line B\n",
            "This is line C\n",
            "This is line D\n",
            "\n"
          ]
        }
      ]
    },
    {
      "cell_type": "code",
      "source": [
        "#Podemos copiar el contenido de un archivo a otro por medio de dos variables\n",
        "with open('/content/sample_data/example3.txt', 'r') as readfile:\n",
        "    with open('/content/sample_data/example4.txt', 'w') as writefile:\n",
        "        for line in readfile:\n",
        "            writefile.write(line)\n",
        "\n",
        "with open(\"/content/sample_data/example4.txt\", 'r') as File1:\n",
        "    print(File1.read())"
      ],
      "metadata": {
        "colab": {
          "base_uri": "https://localhost:8080/"
        },
        "id": "HM97_YoTRiLh",
        "outputId": "a537111d-3430-486a-a45a-d33388567480"
      },
      "execution_count": 177,
      "outputs": [
        {
          "output_type": "stream",
          "name": "stdout",
          "text": [
            "This is line A\n",
            "This is line B\n",
            "This is line C\n",
            "This is line D\n",
            "\n"
          ]
        }
      ]
    },
    {
      "cell_type": "code",
      "source": [
        "# Ejemeplificamos como agregar varias líneas a un archivo existente\n",
        "with open('/content/sample_data/example4.txt', 'a') as testwritefile:\n",
        "    testwritefile.write(\"This is line E\\n\")\n",
        "    testwritefile.write(\"This is line F\\n\")\n",
        "    testwritefile.write(\"This is line G\\n\")"
      ],
      "metadata": {
        "id": "Q1Ok4UTrSkvU"
      },
      "execution_count": 178,
      "outputs": []
    },
    {
      "cell_type": "code",
      "source": [
        "# Importamos librería pandas y cargamos un archivo csv\n",
        "import pandas as pd\n",
        "\n",
        "df = pd.read_csv(\"/content/sample_data/TopSellingAlbums.csv\")\n",
        "df.head()"
      ],
      "metadata": {
        "colab": {
          "base_uri": "https://localhost:8080/",
          "height": 424
        },
        "id": "DJDDgpp-UAI1",
        "outputId": "0e25700d-5202-42a6-c364-0268c1e911fe"
      },
      "execution_count": 179,
      "outputs": [
        {
          "output_type": "execute_result",
          "data": {
            "text/plain": [
              "            Artist                      Album  Released   Length  \\\n",
              "0  Michael Jackson                   Thriller      1982  0:42:19   \n",
              "1            AC/DC              Back in Black      1980  0:42:11   \n",
              "2       Pink Floyd  The Dark Side of the Moon      1973  0:42:49   \n",
              "3  Whitney Houston              The Bodyguard      1992  0:57:44   \n",
              "4        Meat Loaf            Bat Out of Hell      1977  0:46:33   \n",
              "\n",
              "                         Genre  Music Recording Sales (millions)  \\\n",
              "0               pop, rock, R&B                              46.0   \n",
              "1                    hard rock                              26.1   \n",
              "2             progressive rock                              24.2   \n",
              "3               R&B, soul, pop                              27.4   \n",
              "4  hard rock, progressive rock                              20.6   \n",
              "\n",
              "   Claimed Sales (millions) Released.1 Soundtrack  Rating  \n",
              "0                        65  30-Nov-82        NaN    10.0  \n",
              "1                        50  25-Jul-80        NaN     9.5  \n",
              "2                        45  01-Mar-73        NaN     9.0  \n",
              "3                        44  17-Nov-92          Y     8.5  \n",
              "4                        43  21-Oct-77        NaN     8.0  "
            ],
            "text/html": [
              "\n",
              "  <div id=\"df-272bc5a0-5385-48d4-9dc2-32be0217bbb6\">\n",
              "    <div class=\"colab-df-container\">\n",
              "      <div>\n",
              "<style scoped>\n",
              "    .dataframe tbody tr th:only-of-type {\n",
              "        vertical-align: middle;\n",
              "    }\n",
              "\n",
              "    .dataframe tbody tr th {\n",
              "        vertical-align: top;\n",
              "    }\n",
              "\n",
              "    .dataframe thead th {\n",
              "        text-align: right;\n",
              "    }\n",
              "</style>\n",
              "<table border=\"1\" class=\"dataframe\">\n",
              "  <thead>\n",
              "    <tr style=\"text-align: right;\">\n",
              "      <th></th>\n",
              "      <th>Artist</th>\n",
              "      <th>Album</th>\n",
              "      <th>Released</th>\n",
              "      <th>Length</th>\n",
              "      <th>Genre</th>\n",
              "      <th>Music Recording Sales (millions)</th>\n",
              "      <th>Claimed Sales (millions)</th>\n",
              "      <th>Released.1</th>\n",
              "      <th>Soundtrack</th>\n",
              "      <th>Rating</th>\n",
              "    </tr>\n",
              "  </thead>\n",
              "  <tbody>\n",
              "    <tr>\n",
              "      <th>0</th>\n",
              "      <td>Michael Jackson</td>\n",
              "      <td>Thriller</td>\n",
              "      <td>1982</td>\n",
              "      <td>0:42:19</td>\n",
              "      <td>pop, rock, R&amp;B</td>\n",
              "      <td>46.0</td>\n",
              "      <td>65</td>\n",
              "      <td>30-Nov-82</td>\n",
              "      <td>NaN</td>\n",
              "      <td>10.0</td>\n",
              "    </tr>\n",
              "    <tr>\n",
              "      <th>1</th>\n",
              "      <td>AC/DC</td>\n",
              "      <td>Back in Black</td>\n",
              "      <td>1980</td>\n",
              "      <td>0:42:11</td>\n",
              "      <td>hard rock</td>\n",
              "      <td>26.1</td>\n",
              "      <td>50</td>\n",
              "      <td>25-Jul-80</td>\n",
              "      <td>NaN</td>\n",
              "      <td>9.5</td>\n",
              "    </tr>\n",
              "    <tr>\n",
              "      <th>2</th>\n",
              "      <td>Pink Floyd</td>\n",
              "      <td>The Dark Side of the Moon</td>\n",
              "      <td>1973</td>\n",
              "      <td>0:42:49</td>\n",
              "      <td>progressive rock</td>\n",
              "      <td>24.2</td>\n",
              "      <td>45</td>\n",
              "      <td>01-Mar-73</td>\n",
              "      <td>NaN</td>\n",
              "      <td>9.0</td>\n",
              "    </tr>\n",
              "    <tr>\n",
              "      <th>3</th>\n",
              "      <td>Whitney Houston</td>\n",
              "      <td>The Bodyguard</td>\n",
              "      <td>1992</td>\n",
              "      <td>0:57:44</td>\n",
              "      <td>R&amp;B, soul, pop</td>\n",
              "      <td>27.4</td>\n",
              "      <td>44</td>\n",
              "      <td>17-Nov-92</td>\n",
              "      <td>Y</td>\n",
              "      <td>8.5</td>\n",
              "    </tr>\n",
              "    <tr>\n",
              "      <th>4</th>\n",
              "      <td>Meat Loaf</td>\n",
              "      <td>Bat Out of Hell</td>\n",
              "      <td>1977</td>\n",
              "      <td>0:46:33</td>\n",
              "      <td>hard rock, progressive rock</td>\n",
              "      <td>20.6</td>\n",
              "      <td>43</td>\n",
              "      <td>21-Oct-77</td>\n",
              "      <td>NaN</td>\n",
              "      <td>8.0</td>\n",
              "    </tr>\n",
              "  </tbody>\n",
              "</table>\n",
              "</div>\n",
              "      <button class=\"colab-df-convert\" onclick=\"convertToInteractive('df-272bc5a0-5385-48d4-9dc2-32be0217bbb6')\"\n",
              "              title=\"Convert this dataframe to an interactive table.\"\n",
              "              style=\"display:none;\">\n",
              "        \n",
              "  <svg xmlns=\"http://www.w3.org/2000/svg\" height=\"24px\"viewBox=\"0 0 24 24\"\n",
              "       width=\"24px\">\n",
              "    <path d=\"M0 0h24v24H0V0z\" fill=\"none\"/>\n",
              "    <path d=\"M18.56 5.44l.94 2.06.94-2.06 2.06-.94-2.06-.94-.94-2.06-.94 2.06-2.06.94zm-11 1L8.5 8.5l.94-2.06 2.06-.94-2.06-.94L8.5 2.5l-.94 2.06-2.06.94zm10 10l.94 2.06.94-2.06 2.06-.94-2.06-.94-.94-2.06-.94 2.06-2.06.94z\"/><path d=\"M17.41 7.96l-1.37-1.37c-.4-.4-.92-.59-1.43-.59-.52 0-1.04.2-1.43.59L10.3 9.45l-7.72 7.72c-.78.78-.78 2.05 0 2.83L4 21.41c.39.39.9.59 1.41.59.51 0 1.02-.2 1.41-.59l7.78-7.78 2.81-2.81c.8-.78.8-2.07 0-2.86zM5.41 20L4 18.59l7.72-7.72 1.47 1.35L5.41 20z\"/>\n",
              "  </svg>\n",
              "      </button>\n",
              "      \n",
              "  <style>\n",
              "    .colab-df-container {\n",
              "      display:flex;\n",
              "      flex-wrap:wrap;\n",
              "      gap: 12px;\n",
              "    }\n",
              "\n",
              "    .colab-df-convert {\n",
              "      background-color: #E8F0FE;\n",
              "      border: none;\n",
              "      border-radius: 50%;\n",
              "      cursor: pointer;\n",
              "      display: none;\n",
              "      fill: #1967D2;\n",
              "      height: 32px;\n",
              "      padding: 0 0 0 0;\n",
              "      width: 32px;\n",
              "    }\n",
              "\n",
              "    .colab-df-convert:hover {\n",
              "      background-color: #E2EBFA;\n",
              "      box-shadow: 0px 1px 2px rgba(60, 64, 67, 0.3), 0px 1px 3px 1px rgba(60, 64, 67, 0.15);\n",
              "      fill: #174EA6;\n",
              "    }\n",
              "\n",
              "    [theme=dark] .colab-df-convert {\n",
              "      background-color: #3B4455;\n",
              "      fill: #D2E3FC;\n",
              "    }\n",
              "\n",
              "    [theme=dark] .colab-df-convert:hover {\n",
              "      background-color: #434B5C;\n",
              "      box-shadow: 0px 1px 3px 1px rgba(0, 0, 0, 0.15);\n",
              "      filter: drop-shadow(0px 1px 2px rgba(0, 0, 0, 0.3));\n",
              "      fill: #FFFFFF;\n",
              "    }\n",
              "  </style>\n",
              "\n",
              "      <script>\n",
              "        const buttonEl =\n",
              "          document.querySelector('#df-272bc5a0-5385-48d4-9dc2-32be0217bbb6 button.colab-df-convert');\n",
              "        buttonEl.style.display =\n",
              "          google.colab.kernel.accessAllowed ? 'block' : 'none';\n",
              "\n",
              "        async function convertToInteractive(key) {\n",
              "          const element = document.querySelector('#df-272bc5a0-5385-48d4-9dc2-32be0217bbb6');\n",
              "          const dataTable =\n",
              "            await google.colab.kernel.invokeFunction('convertToInteractive',\n",
              "                                                     [key], {});\n",
              "          if (!dataTable) return;\n",
              "\n",
              "          const docLinkHtml = 'Like what you see? Visit the ' +\n",
              "            '<a target=\"_blank\" href=https://colab.research.google.com/notebooks/data_table.ipynb>data table notebook</a>'\n",
              "            + ' to learn more about interactive tables.';\n",
              "          element.innerHTML = '';\n",
              "          dataTable['output_type'] = 'display_data';\n",
              "          await google.colab.output.renderOutput(dataTable, element);\n",
              "          const docLink = document.createElement('div');\n",
              "          docLink.innerHTML = docLinkHtml;\n",
              "          element.appendChild(docLink);\n",
              "        }\n",
              "      </script>\n",
              "    </div>\n",
              "  </div>\n",
              "  "
            ]
          },
          "metadata": {},
          "execution_count": 179
        }
      ]
    },
    {
      "cell_type": "code",
      "source": [
        "# Podemos asignar un alias a la librería pandas, el más común es pd pero no es mandatorio, podemos \n",
        "# usar cualquier nombre\n",
        "\n",
        "import pandas as banana\n",
        "\n",
        "df = banana.read_csv(\"/content/sample_data/TopSellingAlbums.csv\")\n",
        "df.head()"
      ],
      "metadata": {
        "colab": {
          "base_uri": "https://localhost:8080/",
          "height": 424
        },
        "id": "OF5WgwMgZWJ8",
        "outputId": "2c63ed55-bfe3-48bf-eae2-180702015263"
      },
      "execution_count": 180,
      "outputs": [
        {
          "output_type": "execute_result",
          "data": {
            "text/plain": [
              "            Artist                      Album  Released   Length  \\\n",
              "0  Michael Jackson                   Thriller      1982  0:42:19   \n",
              "1            AC/DC              Back in Black      1980  0:42:11   \n",
              "2       Pink Floyd  The Dark Side of the Moon      1973  0:42:49   \n",
              "3  Whitney Houston              The Bodyguard      1992  0:57:44   \n",
              "4        Meat Loaf            Bat Out of Hell      1977  0:46:33   \n",
              "\n",
              "                         Genre  Music Recording Sales (millions)  \\\n",
              "0               pop, rock, R&B                              46.0   \n",
              "1                    hard rock                              26.1   \n",
              "2             progressive rock                              24.2   \n",
              "3               R&B, soul, pop                              27.4   \n",
              "4  hard rock, progressive rock                              20.6   \n",
              "\n",
              "   Claimed Sales (millions) Released.1 Soundtrack  Rating  \n",
              "0                        65  30-Nov-82        NaN    10.0  \n",
              "1                        50  25-Jul-80        NaN     9.5  \n",
              "2                        45  01-Mar-73        NaN     9.0  \n",
              "3                        44  17-Nov-92          Y     8.5  \n",
              "4                        43  21-Oct-77        NaN     8.0  "
            ],
            "text/html": [
              "\n",
              "  <div id=\"df-0b5267a2-064d-4c56-b18d-7230502c1b55\">\n",
              "    <div class=\"colab-df-container\">\n",
              "      <div>\n",
              "<style scoped>\n",
              "    .dataframe tbody tr th:only-of-type {\n",
              "        vertical-align: middle;\n",
              "    }\n",
              "\n",
              "    .dataframe tbody tr th {\n",
              "        vertical-align: top;\n",
              "    }\n",
              "\n",
              "    .dataframe thead th {\n",
              "        text-align: right;\n",
              "    }\n",
              "</style>\n",
              "<table border=\"1\" class=\"dataframe\">\n",
              "  <thead>\n",
              "    <tr style=\"text-align: right;\">\n",
              "      <th></th>\n",
              "      <th>Artist</th>\n",
              "      <th>Album</th>\n",
              "      <th>Released</th>\n",
              "      <th>Length</th>\n",
              "      <th>Genre</th>\n",
              "      <th>Music Recording Sales (millions)</th>\n",
              "      <th>Claimed Sales (millions)</th>\n",
              "      <th>Released.1</th>\n",
              "      <th>Soundtrack</th>\n",
              "      <th>Rating</th>\n",
              "    </tr>\n",
              "  </thead>\n",
              "  <tbody>\n",
              "    <tr>\n",
              "      <th>0</th>\n",
              "      <td>Michael Jackson</td>\n",
              "      <td>Thriller</td>\n",
              "      <td>1982</td>\n",
              "      <td>0:42:19</td>\n",
              "      <td>pop, rock, R&amp;B</td>\n",
              "      <td>46.0</td>\n",
              "      <td>65</td>\n",
              "      <td>30-Nov-82</td>\n",
              "      <td>NaN</td>\n",
              "      <td>10.0</td>\n",
              "    </tr>\n",
              "    <tr>\n",
              "      <th>1</th>\n",
              "      <td>AC/DC</td>\n",
              "      <td>Back in Black</td>\n",
              "      <td>1980</td>\n",
              "      <td>0:42:11</td>\n",
              "      <td>hard rock</td>\n",
              "      <td>26.1</td>\n",
              "      <td>50</td>\n",
              "      <td>25-Jul-80</td>\n",
              "      <td>NaN</td>\n",
              "      <td>9.5</td>\n",
              "    </tr>\n",
              "    <tr>\n",
              "      <th>2</th>\n",
              "      <td>Pink Floyd</td>\n",
              "      <td>The Dark Side of the Moon</td>\n",
              "      <td>1973</td>\n",
              "      <td>0:42:49</td>\n",
              "      <td>progressive rock</td>\n",
              "      <td>24.2</td>\n",
              "      <td>45</td>\n",
              "      <td>01-Mar-73</td>\n",
              "      <td>NaN</td>\n",
              "      <td>9.0</td>\n",
              "    </tr>\n",
              "    <tr>\n",
              "      <th>3</th>\n",
              "      <td>Whitney Houston</td>\n",
              "      <td>The Bodyguard</td>\n",
              "      <td>1992</td>\n",
              "      <td>0:57:44</td>\n",
              "      <td>R&amp;B, soul, pop</td>\n",
              "      <td>27.4</td>\n",
              "      <td>44</td>\n",
              "      <td>17-Nov-92</td>\n",
              "      <td>Y</td>\n",
              "      <td>8.5</td>\n",
              "    </tr>\n",
              "    <tr>\n",
              "      <th>4</th>\n",
              "      <td>Meat Loaf</td>\n",
              "      <td>Bat Out of Hell</td>\n",
              "      <td>1977</td>\n",
              "      <td>0:46:33</td>\n",
              "      <td>hard rock, progressive rock</td>\n",
              "      <td>20.6</td>\n",
              "      <td>43</td>\n",
              "      <td>21-Oct-77</td>\n",
              "      <td>NaN</td>\n",
              "      <td>8.0</td>\n",
              "    </tr>\n",
              "  </tbody>\n",
              "</table>\n",
              "</div>\n",
              "      <button class=\"colab-df-convert\" onclick=\"convertToInteractive('df-0b5267a2-064d-4c56-b18d-7230502c1b55')\"\n",
              "              title=\"Convert this dataframe to an interactive table.\"\n",
              "              style=\"display:none;\">\n",
              "        \n",
              "  <svg xmlns=\"http://www.w3.org/2000/svg\" height=\"24px\"viewBox=\"0 0 24 24\"\n",
              "       width=\"24px\">\n",
              "    <path d=\"M0 0h24v24H0V0z\" fill=\"none\"/>\n",
              "    <path d=\"M18.56 5.44l.94 2.06.94-2.06 2.06-.94-2.06-.94-.94-2.06-.94 2.06-2.06.94zm-11 1L8.5 8.5l.94-2.06 2.06-.94-2.06-.94L8.5 2.5l-.94 2.06-2.06.94zm10 10l.94 2.06.94-2.06 2.06-.94-2.06-.94-.94-2.06-.94 2.06-2.06.94z\"/><path d=\"M17.41 7.96l-1.37-1.37c-.4-.4-.92-.59-1.43-.59-.52 0-1.04.2-1.43.59L10.3 9.45l-7.72 7.72c-.78.78-.78 2.05 0 2.83L4 21.41c.39.39.9.59 1.41.59.51 0 1.02-.2 1.41-.59l7.78-7.78 2.81-2.81c.8-.78.8-2.07 0-2.86zM5.41 20L4 18.59l7.72-7.72 1.47 1.35L5.41 20z\"/>\n",
              "  </svg>\n",
              "      </button>\n",
              "      \n",
              "  <style>\n",
              "    .colab-df-container {\n",
              "      display:flex;\n",
              "      flex-wrap:wrap;\n",
              "      gap: 12px;\n",
              "    }\n",
              "\n",
              "    .colab-df-convert {\n",
              "      background-color: #E8F0FE;\n",
              "      border: none;\n",
              "      border-radius: 50%;\n",
              "      cursor: pointer;\n",
              "      display: none;\n",
              "      fill: #1967D2;\n",
              "      height: 32px;\n",
              "      padding: 0 0 0 0;\n",
              "      width: 32px;\n",
              "    }\n",
              "\n",
              "    .colab-df-convert:hover {\n",
              "      background-color: #E2EBFA;\n",
              "      box-shadow: 0px 1px 2px rgba(60, 64, 67, 0.3), 0px 1px 3px 1px rgba(60, 64, 67, 0.15);\n",
              "      fill: #174EA6;\n",
              "    }\n",
              "\n",
              "    [theme=dark] .colab-df-convert {\n",
              "      background-color: #3B4455;\n",
              "      fill: #D2E3FC;\n",
              "    }\n",
              "\n",
              "    [theme=dark] .colab-df-convert:hover {\n",
              "      background-color: #434B5C;\n",
              "      box-shadow: 0px 1px 3px 1px rgba(0, 0, 0, 0.15);\n",
              "      filter: drop-shadow(0px 1px 2px rgba(0, 0, 0, 0.3));\n",
              "      fill: #FFFFFF;\n",
              "    }\n",
              "  </style>\n",
              "\n",
              "      <script>\n",
              "        const buttonEl =\n",
              "          document.querySelector('#df-0b5267a2-064d-4c56-b18d-7230502c1b55 button.colab-df-convert');\n",
              "        buttonEl.style.display =\n",
              "          google.colab.kernel.accessAllowed ? 'block' : 'none';\n",
              "\n",
              "        async function convertToInteractive(key) {\n",
              "          const element = document.querySelector('#df-0b5267a2-064d-4c56-b18d-7230502c1b55');\n",
              "          const dataTable =\n",
              "            await google.colab.kernel.invokeFunction('convertToInteractive',\n",
              "                                                     [key], {});\n",
              "          if (!dataTable) return;\n",
              "\n",
              "          const docLinkHtml = 'Like what you see? Visit the ' +\n",
              "            '<a target=\"_blank\" href=https://colab.research.google.com/notebooks/data_table.ipynb>data table notebook</a>'\n",
              "            + ' to learn more about interactive tables.';\n",
              "          element.innerHTML = '';\n",
              "          dataTable['output_type'] = 'display_data';\n",
              "          await google.colab.output.renderOutput(dataTable, element);\n",
              "          const docLink = document.createElement('div');\n",
              "          docLink.innerHTML = docLinkHtml;\n",
              "          element.appendChild(docLink);\n",
              "        }\n",
              "      </script>\n",
              "    </div>\n",
              "  </div>\n",
              "  "
            ]
          },
          "metadata": {},
          "execution_count": 180
        }
      ]
    },
    {
      "cell_type": "code",
      "source": [
        "# Con la función read_excel podemos cargar un archivo de excel a un dataframe de Pandas\n",
        "\n",
        "df = pd.read_excel(\"/content/sample_data/TopSellingAlbums.xlsx\")\n",
        "df.head()"
      ],
      "metadata": {
        "colab": {
          "base_uri": "https://localhost:8080/",
          "height": 424
        },
        "id": "3ryK83zrW1yb",
        "outputId": "cb9fdb59-1789-43e6-9762-c3f2be721100"
      },
      "execution_count": 181,
      "outputs": [
        {
          "output_type": "execute_result",
          "data": {
            "text/plain": [
              "            Artist                      Album  Released    Length  \\\n",
              "0  Michael Jackson                   Thriller      1982  00:42:19   \n",
              "1            AC/DC              Back in Black      1980  00:42:11   \n",
              "2       Pink Floyd  The Dark Side of the Moon      1973  00:42:49   \n",
              "3  Whitney Houston              The Bodyguard      1992  00:57:44   \n",
              "4        Meat Loaf            Bat Out of Hell      1977  00:46:33   \n",
              "\n",
              "                         Genre  Music Recording Sales (millions)  \\\n",
              "0               pop, rock, R&B                              46.0   \n",
              "1                    hard rock                              26.1   \n",
              "2             progressive rock                              24.2   \n",
              "3               R&B, soul, pop                              27.4   \n",
              "4  hard rock, progressive rock                              20.6   \n",
              "\n",
              "   Claimed Sales (millions) Released.1 Soundtrack  Rating  \n",
              "0                        65 1982-11-30        NaN    10.0  \n",
              "1                        50 1980-07-25        NaN     9.5  \n",
              "2                        45 1973-03-01        NaN     9.0  \n",
              "3                        44 1992-11-17          Y     8.5  \n",
              "4                        43 1977-10-21        NaN     8.0  "
            ],
            "text/html": [
              "\n",
              "  <div id=\"df-e8b77df5-c03b-4532-bea4-95aea2210478\">\n",
              "    <div class=\"colab-df-container\">\n",
              "      <div>\n",
              "<style scoped>\n",
              "    .dataframe tbody tr th:only-of-type {\n",
              "        vertical-align: middle;\n",
              "    }\n",
              "\n",
              "    .dataframe tbody tr th {\n",
              "        vertical-align: top;\n",
              "    }\n",
              "\n",
              "    .dataframe thead th {\n",
              "        text-align: right;\n",
              "    }\n",
              "</style>\n",
              "<table border=\"1\" class=\"dataframe\">\n",
              "  <thead>\n",
              "    <tr style=\"text-align: right;\">\n",
              "      <th></th>\n",
              "      <th>Artist</th>\n",
              "      <th>Album</th>\n",
              "      <th>Released</th>\n",
              "      <th>Length</th>\n",
              "      <th>Genre</th>\n",
              "      <th>Music Recording Sales (millions)</th>\n",
              "      <th>Claimed Sales (millions)</th>\n",
              "      <th>Released.1</th>\n",
              "      <th>Soundtrack</th>\n",
              "      <th>Rating</th>\n",
              "    </tr>\n",
              "  </thead>\n",
              "  <tbody>\n",
              "    <tr>\n",
              "      <th>0</th>\n",
              "      <td>Michael Jackson</td>\n",
              "      <td>Thriller</td>\n",
              "      <td>1982</td>\n",
              "      <td>00:42:19</td>\n",
              "      <td>pop, rock, R&amp;B</td>\n",
              "      <td>46.0</td>\n",
              "      <td>65</td>\n",
              "      <td>1982-11-30</td>\n",
              "      <td>NaN</td>\n",
              "      <td>10.0</td>\n",
              "    </tr>\n",
              "    <tr>\n",
              "      <th>1</th>\n",
              "      <td>AC/DC</td>\n",
              "      <td>Back in Black</td>\n",
              "      <td>1980</td>\n",
              "      <td>00:42:11</td>\n",
              "      <td>hard rock</td>\n",
              "      <td>26.1</td>\n",
              "      <td>50</td>\n",
              "      <td>1980-07-25</td>\n",
              "      <td>NaN</td>\n",
              "      <td>9.5</td>\n",
              "    </tr>\n",
              "    <tr>\n",
              "      <th>2</th>\n",
              "      <td>Pink Floyd</td>\n",
              "      <td>The Dark Side of the Moon</td>\n",
              "      <td>1973</td>\n",
              "      <td>00:42:49</td>\n",
              "      <td>progressive rock</td>\n",
              "      <td>24.2</td>\n",
              "      <td>45</td>\n",
              "      <td>1973-03-01</td>\n",
              "      <td>NaN</td>\n",
              "      <td>9.0</td>\n",
              "    </tr>\n",
              "    <tr>\n",
              "      <th>3</th>\n",
              "      <td>Whitney Houston</td>\n",
              "      <td>The Bodyguard</td>\n",
              "      <td>1992</td>\n",
              "      <td>00:57:44</td>\n",
              "      <td>R&amp;B, soul, pop</td>\n",
              "      <td>27.4</td>\n",
              "      <td>44</td>\n",
              "      <td>1992-11-17</td>\n",
              "      <td>Y</td>\n",
              "      <td>8.5</td>\n",
              "    </tr>\n",
              "    <tr>\n",
              "      <th>4</th>\n",
              "      <td>Meat Loaf</td>\n",
              "      <td>Bat Out of Hell</td>\n",
              "      <td>1977</td>\n",
              "      <td>00:46:33</td>\n",
              "      <td>hard rock, progressive rock</td>\n",
              "      <td>20.6</td>\n",
              "      <td>43</td>\n",
              "      <td>1977-10-21</td>\n",
              "      <td>NaN</td>\n",
              "      <td>8.0</td>\n",
              "    </tr>\n",
              "  </tbody>\n",
              "</table>\n",
              "</div>\n",
              "      <button class=\"colab-df-convert\" onclick=\"convertToInteractive('df-e8b77df5-c03b-4532-bea4-95aea2210478')\"\n",
              "              title=\"Convert this dataframe to an interactive table.\"\n",
              "              style=\"display:none;\">\n",
              "        \n",
              "  <svg xmlns=\"http://www.w3.org/2000/svg\" height=\"24px\"viewBox=\"0 0 24 24\"\n",
              "       width=\"24px\">\n",
              "    <path d=\"M0 0h24v24H0V0z\" fill=\"none\"/>\n",
              "    <path d=\"M18.56 5.44l.94 2.06.94-2.06 2.06-.94-2.06-.94-.94-2.06-.94 2.06-2.06.94zm-11 1L8.5 8.5l.94-2.06 2.06-.94-2.06-.94L8.5 2.5l-.94 2.06-2.06.94zm10 10l.94 2.06.94-2.06 2.06-.94-2.06-.94-.94-2.06-.94 2.06-2.06.94z\"/><path d=\"M17.41 7.96l-1.37-1.37c-.4-.4-.92-.59-1.43-.59-.52 0-1.04.2-1.43.59L10.3 9.45l-7.72 7.72c-.78.78-.78 2.05 0 2.83L4 21.41c.39.39.9.59 1.41.59.51 0 1.02-.2 1.41-.59l7.78-7.78 2.81-2.81c.8-.78.8-2.07 0-2.86zM5.41 20L4 18.59l7.72-7.72 1.47 1.35L5.41 20z\"/>\n",
              "  </svg>\n",
              "      </button>\n",
              "      \n",
              "  <style>\n",
              "    .colab-df-container {\n",
              "      display:flex;\n",
              "      flex-wrap:wrap;\n",
              "      gap: 12px;\n",
              "    }\n",
              "\n",
              "    .colab-df-convert {\n",
              "      background-color: #E8F0FE;\n",
              "      border: none;\n",
              "      border-radius: 50%;\n",
              "      cursor: pointer;\n",
              "      display: none;\n",
              "      fill: #1967D2;\n",
              "      height: 32px;\n",
              "      padding: 0 0 0 0;\n",
              "      width: 32px;\n",
              "    }\n",
              "\n",
              "    .colab-df-convert:hover {\n",
              "      background-color: #E2EBFA;\n",
              "      box-shadow: 0px 1px 2px rgba(60, 64, 67, 0.3), 0px 1px 3px 1px rgba(60, 64, 67, 0.15);\n",
              "      fill: #174EA6;\n",
              "    }\n",
              "\n",
              "    [theme=dark] .colab-df-convert {\n",
              "      background-color: #3B4455;\n",
              "      fill: #D2E3FC;\n",
              "    }\n",
              "\n",
              "    [theme=dark] .colab-df-convert:hover {\n",
              "      background-color: #434B5C;\n",
              "      box-shadow: 0px 1px 3px 1px rgba(0, 0, 0, 0.15);\n",
              "      filter: drop-shadow(0px 1px 2px rgba(0, 0, 0, 0.3));\n",
              "      fill: #FFFFFF;\n",
              "    }\n",
              "  </style>\n",
              "\n",
              "      <script>\n",
              "        const buttonEl =\n",
              "          document.querySelector('#df-e8b77df5-c03b-4532-bea4-95aea2210478 button.colab-df-convert');\n",
              "        buttonEl.style.display =\n",
              "          google.colab.kernel.accessAllowed ? 'block' : 'none';\n",
              "\n",
              "        async function convertToInteractive(key) {\n",
              "          const element = document.querySelector('#df-e8b77df5-c03b-4532-bea4-95aea2210478');\n",
              "          const dataTable =\n",
              "            await google.colab.kernel.invokeFunction('convertToInteractive',\n",
              "                                                     [key], {});\n",
              "          if (!dataTable) return;\n",
              "\n",
              "          const docLinkHtml = 'Like what you see? Visit the ' +\n",
              "            '<a target=\"_blank\" href=https://colab.research.google.com/notebooks/data_table.ipynb>data table notebook</a>'\n",
              "            + ' to learn more about interactive tables.';\n",
              "          element.innerHTML = '';\n",
              "          dataTable['output_type'] = 'display_data';\n",
              "          await google.colab.output.renderOutput(dataTable, element);\n",
              "          const docLink = document.createElement('div');\n",
              "          docLink.innerHTML = docLinkHtml;\n",
              "          element.appendChild(docLink);\n",
              "        }\n",
              "      </script>\n",
              "    </div>\n",
              "  </div>\n",
              "  "
            ]
          },
          "metadata": {},
          "execution_count": 181
        }
      ]
    },
    {
      "cell_type": "code",
      "source": [
        "# Ejemplo para accesar a la columna Length, usamos doble corchete\n",
        "\n",
        "x = df[['Length']]\n",
        "x"
      ],
      "metadata": {
        "colab": {
          "base_uri": "https://localhost:8080/",
          "height": 300
        },
        "id": "sJm5FKl9XETp",
        "outputId": "ed68bec3-f28e-42eb-ed15-97a3f511244a"
      },
      "execution_count": 182,
      "outputs": [
        {
          "output_type": "execute_result",
          "data": {
            "text/plain": [
              "     Length\n",
              "0  00:42:19\n",
              "1  00:42:11\n",
              "2  00:42:49\n",
              "3  00:57:44\n",
              "4  00:46:33\n",
              "5  00:43:08\n",
              "6  01:15:54\n",
              "7  00:40:01"
            ],
            "text/html": [
              "\n",
              "  <div id=\"df-37ebda3e-c4b7-4051-b51c-fb9af279fc71\">\n",
              "    <div class=\"colab-df-container\">\n",
              "      <div>\n",
              "<style scoped>\n",
              "    .dataframe tbody tr th:only-of-type {\n",
              "        vertical-align: middle;\n",
              "    }\n",
              "\n",
              "    .dataframe tbody tr th {\n",
              "        vertical-align: top;\n",
              "    }\n",
              "\n",
              "    .dataframe thead th {\n",
              "        text-align: right;\n",
              "    }\n",
              "</style>\n",
              "<table border=\"1\" class=\"dataframe\">\n",
              "  <thead>\n",
              "    <tr style=\"text-align: right;\">\n",
              "      <th></th>\n",
              "      <th>Length</th>\n",
              "    </tr>\n",
              "  </thead>\n",
              "  <tbody>\n",
              "    <tr>\n",
              "      <th>0</th>\n",
              "      <td>00:42:19</td>\n",
              "    </tr>\n",
              "    <tr>\n",
              "      <th>1</th>\n",
              "      <td>00:42:11</td>\n",
              "    </tr>\n",
              "    <tr>\n",
              "      <th>2</th>\n",
              "      <td>00:42:49</td>\n",
              "    </tr>\n",
              "    <tr>\n",
              "      <th>3</th>\n",
              "      <td>00:57:44</td>\n",
              "    </tr>\n",
              "    <tr>\n",
              "      <th>4</th>\n",
              "      <td>00:46:33</td>\n",
              "    </tr>\n",
              "    <tr>\n",
              "      <th>5</th>\n",
              "      <td>00:43:08</td>\n",
              "    </tr>\n",
              "    <tr>\n",
              "      <th>6</th>\n",
              "      <td>01:15:54</td>\n",
              "    </tr>\n",
              "    <tr>\n",
              "      <th>7</th>\n",
              "      <td>00:40:01</td>\n",
              "    </tr>\n",
              "  </tbody>\n",
              "</table>\n",
              "</div>\n",
              "      <button class=\"colab-df-convert\" onclick=\"convertToInteractive('df-37ebda3e-c4b7-4051-b51c-fb9af279fc71')\"\n",
              "              title=\"Convert this dataframe to an interactive table.\"\n",
              "              style=\"display:none;\">\n",
              "        \n",
              "  <svg xmlns=\"http://www.w3.org/2000/svg\" height=\"24px\"viewBox=\"0 0 24 24\"\n",
              "       width=\"24px\">\n",
              "    <path d=\"M0 0h24v24H0V0z\" fill=\"none\"/>\n",
              "    <path d=\"M18.56 5.44l.94 2.06.94-2.06 2.06-.94-2.06-.94-.94-2.06-.94 2.06-2.06.94zm-11 1L8.5 8.5l.94-2.06 2.06-.94-2.06-.94L8.5 2.5l-.94 2.06-2.06.94zm10 10l.94 2.06.94-2.06 2.06-.94-2.06-.94-.94-2.06-.94 2.06-2.06.94z\"/><path d=\"M17.41 7.96l-1.37-1.37c-.4-.4-.92-.59-1.43-.59-.52 0-1.04.2-1.43.59L10.3 9.45l-7.72 7.72c-.78.78-.78 2.05 0 2.83L4 21.41c.39.39.9.59 1.41.59.51 0 1.02-.2 1.41-.59l7.78-7.78 2.81-2.81c.8-.78.8-2.07 0-2.86zM5.41 20L4 18.59l7.72-7.72 1.47 1.35L5.41 20z\"/>\n",
              "  </svg>\n",
              "      </button>\n",
              "      \n",
              "  <style>\n",
              "    .colab-df-container {\n",
              "      display:flex;\n",
              "      flex-wrap:wrap;\n",
              "      gap: 12px;\n",
              "    }\n",
              "\n",
              "    .colab-df-convert {\n",
              "      background-color: #E8F0FE;\n",
              "      border: none;\n",
              "      border-radius: 50%;\n",
              "      cursor: pointer;\n",
              "      display: none;\n",
              "      fill: #1967D2;\n",
              "      height: 32px;\n",
              "      padding: 0 0 0 0;\n",
              "      width: 32px;\n",
              "    }\n",
              "\n",
              "    .colab-df-convert:hover {\n",
              "      background-color: #E2EBFA;\n",
              "      box-shadow: 0px 1px 2px rgba(60, 64, 67, 0.3), 0px 1px 3px 1px rgba(60, 64, 67, 0.15);\n",
              "      fill: #174EA6;\n",
              "    }\n",
              "\n",
              "    [theme=dark] .colab-df-convert {\n",
              "      background-color: #3B4455;\n",
              "      fill: #D2E3FC;\n",
              "    }\n",
              "\n",
              "    [theme=dark] .colab-df-convert:hover {\n",
              "      background-color: #434B5C;\n",
              "      box-shadow: 0px 1px 3px 1px rgba(0, 0, 0, 0.15);\n",
              "      filter: drop-shadow(0px 1px 2px rgba(0, 0, 0, 0.3));\n",
              "      fill: #FFFFFF;\n",
              "    }\n",
              "  </style>\n",
              "\n",
              "      <script>\n",
              "        const buttonEl =\n",
              "          document.querySelector('#df-37ebda3e-c4b7-4051-b51c-fb9af279fc71 button.colab-df-convert');\n",
              "        buttonEl.style.display =\n",
              "          google.colab.kernel.accessAllowed ? 'block' : 'none';\n",
              "\n",
              "        async function convertToInteractive(key) {\n",
              "          const element = document.querySelector('#df-37ebda3e-c4b7-4051-b51c-fb9af279fc71');\n",
              "          const dataTable =\n",
              "            await google.colab.kernel.invokeFunction('convertToInteractive',\n",
              "                                                     [key], {});\n",
              "          if (!dataTable) return;\n",
              "\n",
              "          const docLinkHtml = 'Like what you see? Visit the ' +\n",
              "            '<a target=\"_blank\" href=https://colab.research.google.com/notebooks/data_table.ipynb>data table notebook</a>'\n",
              "            + ' to learn more about interactive tables.';\n",
              "          element.innerHTML = '';\n",
              "          dataTable['output_type'] = 'display_data';\n",
              "          await google.colab.output.renderOutput(dataTable, element);\n",
              "          const docLink = document.createElement('div');\n",
              "          docLink.innerHTML = docLinkHtml;\n",
              "          element.appendChild(docLink);\n",
              "        }\n",
              "      </script>\n",
              "    </div>\n",
              "  </div>\n",
              "  "
            ]
          },
          "metadata": {},
          "execution_count": 182
        }
      ]
    },
    {
      "cell_type": "code",
      "source": [
        "# Accesamos a la columna Length, pero de este modo obtenemos un tipo Series\n",
        "\n",
        "x = df['Length']\n",
        "x"
      ],
      "metadata": {
        "colab": {
          "base_uri": "https://localhost:8080/"
        },
        "id": "EektbofvXTJY",
        "outputId": "812ebe4d-8d3b-4573-d53d-02ddfcc7cb24"
      },
      "execution_count": 183,
      "outputs": [
        {
          "output_type": "execute_result",
          "data": {
            "text/plain": [
              "0    00:42:19\n",
              "1    00:42:11\n",
              "2    00:42:49\n",
              "3    00:57:44\n",
              "4    00:46:33\n",
              "5    00:43:08\n",
              "6    01:15:54\n",
              "7    00:40:01\n",
              "Name: Length, dtype: object"
            ]
          },
          "metadata": {},
          "execution_count": 183
        }
      ]
    },
    {
      "cell_type": "code",
      "source": [
        "# Accesamos a múltiples columnas del dataframe\n",
        "\n",
        "y = df[['Artist','Length','Genre']]\n",
        "y"
      ],
      "metadata": {
        "colab": {
          "base_uri": "https://localhost:8080/",
          "height": 300
        },
        "id": "Cy0VZME6XYhD",
        "outputId": "b7ed6228-8a30-463f-cceb-134c1480b267"
      },
      "execution_count": 184,
      "outputs": [
        {
          "output_type": "execute_result",
          "data": {
            "text/plain": [
              "            Artist    Length                        Genre\n",
              "0  Michael Jackson  00:42:19               pop, rock, R&B\n",
              "1            AC/DC  00:42:11                    hard rock\n",
              "2       Pink Floyd  00:42:49             progressive rock\n",
              "3  Whitney Houston  00:57:44               R&B, soul, pop\n",
              "4        Meat Loaf  00:46:33  hard rock, progressive rock\n",
              "5           Eagles  00:43:08   rock, soft rock, folk rock\n",
              "6         Bee Gees  01:15:54                        disco\n",
              "7    Fleetwood Mac  00:40:01                    soft rock"
            ],
            "text/html": [
              "\n",
              "  <div id=\"df-e2e485db-2138-414b-a10c-a59483fc0056\">\n",
              "    <div class=\"colab-df-container\">\n",
              "      <div>\n",
              "<style scoped>\n",
              "    .dataframe tbody tr th:only-of-type {\n",
              "        vertical-align: middle;\n",
              "    }\n",
              "\n",
              "    .dataframe tbody tr th {\n",
              "        vertical-align: top;\n",
              "    }\n",
              "\n",
              "    .dataframe thead th {\n",
              "        text-align: right;\n",
              "    }\n",
              "</style>\n",
              "<table border=\"1\" class=\"dataframe\">\n",
              "  <thead>\n",
              "    <tr style=\"text-align: right;\">\n",
              "      <th></th>\n",
              "      <th>Artist</th>\n",
              "      <th>Length</th>\n",
              "      <th>Genre</th>\n",
              "    </tr>\n",
              "  </thead>\n",
              "  <tbody>\n",
              "    <tr>\n",
              "      <th>0</th>\n",
              "      <td>Michael Jackson</td>\n",
              "      <td>00:42:19</td>\n",
              "      <td>pop, rock, R&amp;B</td>\n",
              "    </tr>\n",
              "    <tr>\n",
              "      <th>1</th>\n",
              "      <td>AC/DC</td>\n",
              "      <td>00:42:11</td>\n",
              "      <td>hard rock</td>\n",
              "    </tr>\n",
              "    <tr>\n",
              "      <th>2</th>\n",
              "      <td>Pink Floyd</td>\n",
              "      <td>00:42:49</td>\n",
              "      <td>progressive rock</td>\n",
              "    </tr>\n",
              "    <tr>\n",
              "      <th>3</th>\n",
              "      <td>Whitney Houston</td>\n",
              "      <td>00:57:44</td>\n",
              "      <td>R&amp;B, soul, pop</td>\n",
              "    </tr>\n",
              "    <tr>\n",
              "      <th>4</th>\n",
              "      <td>Meat Loaf</td>\n",
              "      <td>00:46:33</td>\n",
              "      <td>hard rock, progressive rock</td>\n",
              "    </tr>\n",
              "    <tr>\n",
              "      <th>5</th>\n",
              "      <td>Eagles</td>\n",
              "      <td>00:43:08</td>\n",
              "      <td>rock, soft rock, folk rock</td>\n",
              "    </tr>\n",
              "    <tr>\n",
              "      <th>6</th>\n",
              "      <td>Bee Gees</td>\n",
              "      <td>01:15:54</td>\n",
              "      <td>disco</td>\n",
              "    </tr>\n",
              "    <tr>\n",
              "      <th>7</th>\n",
              "      <td>Fleetwood Mac</td>\n",
              "      <td>00:40:01</td>\n",
              "      <td>soft rock</td>\n",
              "    </tr>\n",
              "  </tbody>\n",
              "</table>\n",
              "</div>\n",
              "      <button class=\"colab-df-convert\" onclick=\"convertToInteractive('df-e2e485db-2138-414b-a10c-a59483fc0056')\"\n",
              "              title=\"Convert this dataframe to an interactive table.\"\n",
              "              style=\"display:none;\">\n",
              "        \n",
              "  <svg xmlns=\"http://www.w3.org/2000/svg\" height=\"24px\"viewBox=\"0 0 24 24\"\n",
              "       width=\"24px\">\n",
              "    <path d=\"M0 0h24v24H0V0z\" fill=\"none\"/>\n",
              "    <path d=\"M18.56 5.44l.94 2.06.94-2.06 2.06-.94-2.06-.94-.94-2.06-.94 2.06-2.06.94zm-11 1L8.5 8.5l.94-2.06 2.06-.94-2.06-.94L8.5 2.5l-.94 2.06-2.06.94zm10 10l.94 2.06.94-2.06 2.06-.94-2.06-.94-.94-2.06-.94 2.06-2.06.94z\"/><path d=\"M17.41 7.96l-1.37-1.37c-.4-.4-.92-.59-1.43-.59-.52 0-1.04.2-1.43.59L10.3 9.45l-7.72 7.72c-.78.78-.78 2.05 0 2.83L4 21.41c.39.39.9.59 1.41.59.51 0 1.02-.2 1.41-.59l7.78-7.78 2.81-2.81c.8-.78.8-2.07 0-2.86zM5.41 20L4 18.59l7.72-7.72 1.47 1.35L5.41 20z\"/>\n",
              "  </svg>\n",
              "      </button>\n",
              "      \n",
              "  <style>\n",
              "    .colab-df-container {\n",
              "      display:flex;\n",
              "      flex-wrap:wrap;\n",
              "      gap: 12px;\n",
              "    }\n",
              "\n",
              "    .colab-df-convert {\n",
              "      background-color: #E8F0FE;\n",
              "      border: none;\n",
              "      border-radius: 50%;\n",
              "      cursor: pointer;\n",
              "      display: none;\n",
              "      fill: #1967D2;\n",
              "      height: 32px;\n",
              "      padding: 0 0 0 0;\n",
              "      width: 32px;\n",
              "    }\n",
              "\n",
              "    .colab-df-convert:hover {\n",
              "      background-color: #E2EBFA;\n",
              "      box-shadow: 0px 1px 2px rgba(60, 64, 67, 0.3), 0px 1px 3px 1px rgba(60, 64, 67, 0.15);\n",
              "      fill: #174EA6;\n",
              "    }\n",
              "\n",
              "    [theme=dark] .colab-df-convert {\n",
              "      background-color: #3B4455;\n",
              "      fill: #D2E3FC;\n",
              "    }\n",
              "\n",
              "    [theme=dark] .colab-df-convert:hover {\n",
              "      background-color: #434B5C;\n",
              "      box-shadow: 0px 1px 3px 1px rgba(0, 0, 0, 0.15);\n",
              "      filter: drop-shadow(0px 1px 2px rgba(0, 0, 0, 0.3));\n",
              "      fill: #FFFFFF;\n",
              "    }\n",
              "  </style>\n",
              "\n",
              "      <script>\n",
              "        const buttonEl =\n",
              "          document.querySelector('#df-e2e485db-2138-414b-a10c-a59483fc0056 button.colab-df-convert');\n",
              "        buttonEl.style.display =\n",
              "          google.colab.kernel.accessAllowed ? 'block' : 'none';\n",
              "\n",
              "        async function convertToInteractive(key) {\n",
              "          const element = document.querySelector('#df-e2e485db-2138-414b-a10c-a59483fc0056');\n",
              "          const dataTable =\n",
              "            await google.colab.kernel.invokeFunction('convertToInteractive',\n",
              "                                                     [key], {});\n",
              "          if (!dataTable) return;\n",
              "\n",
              "          const docLinkHtml = 'Like what you see? Visit the ' +\n",
              "            '<a target=\"_blank\" href=https://colab.research.google.com/notebooks/data_table.ipynb>data table notebook</a>'\n",
              "            + ' to learn more about interactive tables.';\n",
              "          element.innerHTML = '';\n",
              "          dataTable['output_type'] = 'display_data';\n",
              "          await google.colab.output.renderOutput(dataTable, element);\n",
              "          const docLink = document.createElement('div');\n",
              "          docLink.innerHTML = docLinkHtml;\n",
              "          element.appendChild(docLink);\n",
              "        }\n",
              "      </script>\n",
              "    </div>\n",
              "  </div>\n",
              "  "
            ]
          },
          "metadata": {},
          "execution_count": 184
        }
      ]
    },
    {
      "cell_type": "code",
      "source": [
        "# Accesamos al valor de la primer columna y primer renglon mediante iloc\n",
        "\n",
        "df.iloc[0, 0]"
      ],
      "metadata": {
        "colab": {
          "base_uri": "https://localhost:8080/",
          "height": 35
        },
        "id": "txKoHDWiXb2a",
        "outputId": "8a9ebdd4-4225-4aba-dbd6-50e5c78f1569"
      },
      "execution_count": 185,
      "outputs": [
        {
          "output_type": "execute_result",
          "data": {
            "text/plain": [
              "'Michael Jackson'"
            ],
            "application/vnd.google.colaboratory.intrinsic+json": {
              "type": "string"
            }
          },
          "metadata": {},
          "execution_count": 185
        }
      ]
    },
    {
      "cell_type": "code",
      "source": [
        "# Accesamos al valor de la primer columna y segundo renglon mediante iloc\n",
        "\n",
        "df.iloc[1,0]"
      ],
      "metadata": {
        "colab": {
          "base_uri": "https://localhost:8080/",
          "height": 35
        },
        "id": "y6DLsvB-XeIv",
        "outputId": "fc2c2ead-a43e-416f-cfa1-4703b37d9343"
      },
      "execution_count": 186,
      "outputs": [
        {
          "output_type": "execute_result",
          "data": {
            "text/plain": [
              "'AC/DC'"
            ],
            "application/vnd.google.colaboratory.intrinsic+json": {
              "type": "string"
            }
          },
          "metadata": {},
          "execution_count": 186
        }
      ]
    },
    {
      "cell_type": "code",
      "source": [
        "# Acceda al valor en la primera fila y la tercera columna\n",
        "\n",
        "df.iloc[0,2]"
      ],
      "metadata": {
        "colab": {
          "base_uri": "https://localhost:8080/"
        },
        "id": "12HrWxYyXgXa",
        "outputId": "d763b78c-1735-4c6c-8bf8-44f14d4be7ee"
      },
      "execution_count": 187,
      "outputs": [
        {
          "output_type": "execute_result",
          "data": {
            "text/plain": [
              "1982"
            ]
          },
          "metadata": {},
          "execution_count": 187
        }
      ]
    },
    {
      "cell_type": "code",
      "source": [
        "# Acceda al valor en la segunda fila y la tercera columna\n",
        "df.iloc[1,2]"
      ],
      "metadata": {
        "colab": {
          "base_uri": "https://localhost:8080/"
        },
        "id": "q9hJ34HvXjEm",
        "outputId": "8cdf5f28-cc5d-4128-9cd8-bf9aa90838ae"
      },
      "execution_count": 188,
      "outputs": [
        {
          "output_type": "execute_result",
          "data": {
            "text/plain": [
              "1980"
            ]
          },
          "metadata": {},
          "execution_count": 188
        }
      ]
    },
    {
      "cell_type": "code",
      "source": [
        "# Segmentamos el dataframe por los primeros dos renglones y tres columnas\n",
        "\n",
        "df.iloc[0:2, 0:3]"
      ],
      "metadata": {
        "colab": {
          "base_uri": "https://localhost:8080/",
          "height": 112
        },
        "id": "RKJJx6BVXrXM",
        "outputId": "061c5403-13e8-427b-ac92-bd7925c978b5"
      },
      "execution_count": 189,
      "outputs": [
        {
          "output_type": "execute_result",
          "data": {
            "text/plain": [
              "            Artist          Album  Released\n",
              "0  Michael Jackson       Thriller      1982\n",
              "1            AC/DC  Back in Black      1980"
            ],
            "text/html": [
              "\n",
              "  <div id=\"df-bd6ab246-3481-4304-9770-b8acbf37691e\">\n",
              "    <div class=\"colab-df-container\">\n",
              "      <div>\n",
              "<style scoped>\n",
              "    .dataframe tbody tr th:only-of-type {\n",
              "        vertical-align: middle;\n",
              "    }\n",
              "\n",
              "    .dataframe tbody tr th {\n",
              "        vertical-align: top;\n",
              "    }\n",
              "\n",
              "    .dataframe thead th {\n",
              "        text-align: right;\n",
              "    }\n",
              "</style>\n",
              "<table border=\"1\" class=\"dataframe\">\n",
              "  <thead>\n",
              "    <tr style=\"text-align: right;\">\n",
              "      <th></th>\n",
              "      <th>Artist</th>\n",
              "      <th>Album</th>\n",
              "      <th>Released</th>\n",
              "    </tr>\n",
              "  </thead>\n",
              "  <tbody>\n",
              "    <tr>\n",
              "      <th>0</th>\n",
              "      <td>Michael Jackson</td>\n",
              "      <td>Thriller</td>\n",
              "      <td>1982</td>\n",
              "    </tr>\n",
              "    <tr>\n",
              "      <th>1</th>\n",
              "      <td>AC/DC</td>\n",
              "      <td>Back in Black</td>\n",
              "      <td>1980</td>\n",
              "    </tr>\n",
              "  </tbody>\n",
              "</table>\n",
              "</div>\n",
              "      <button class=\"colab-df-convert\" onclick=\"convertToInteractive('df-bd6ab246-3481-4304-9770-b8acbf37691e')\"\n",
              "              title=\"Convert this dataframe to an interactive table.\"\n",
              "              style=\"display:none;\">\n",
              "        \n",
              "  <svg xmlns=\"http://www.w3.org/2000/svg\" height=\"24px\"viewBox=\"0 0 24 24\"\n",
              "       width=\"24px\">\n",
              "    <path d=\"M0 0h24v24H0V0z\" fill=\"none\"/>\n",
              "    <path d=\"M18.56 5.44l.94 2.06.94-2.06 2.06-.94-2.06-.94-.94-2.06-.94 2.06-2.06.94zm-11 1L8.5 8.5l.94-2.06 2.06-.94-2.06-.94L8.5 2.5l-.94 2.06-2.06.94zm10 10l.94 2.06.94-2.06 2.06-.94-2.06-.94-.94-2.06-.94 2.06-2.06.94z\"/><path d=\"M17.41 7.96l-1.37-1.37c-.4-.4-.92-.59-1.43-.59-.52 0-1.04.2-1.43.59L10.3 9.45l-7.72 7.72c-.78.78-.78 2.05 0 2.83L4 21.41c.39.39.9.59 1.41.59.51 0 1.02-.2 1.41-.59l7.78-7.78 2.81-2.81c.8-.78.8-2.07 0-2.86zM5.41 20L4 18.59l7.72-7.72 1.47 1.35L5.41 20z\"/>\n",
              "  </svg>\n",
              "      </button>\n",
              "      \n",
              "  <style>\n",
              "    .colab-df-container {\n",
              "      display:flex;\n",
              "      flex-wrap:wrap;\n",
              "      gap: 12px;\n",
              "    }\n",
              "\n",
              "    .colab-df-convert {\n",
              "      background-color: #E8F0FE;\n",
              "      border: none;\n",
              "      border-radius: 50%;\n",
              "      cursor: pointer;\n",
              "      display: none;\n",
              "      fill: #1967D2;\n",
              "      height: 32px;\n",
              "      padding: 0 0 0 0;\n",
              "      width: 32px;\n",
              "    }\n",
              "\n",
              "    .colab-df-convert:hover {\n",
              "      background-color: #E2EBFA;\n",
              "      box-shadow: 0px 1px 2px rgba(60, 64, 67, 0.3), 0px 1px 3px 1px rgba(60, 64, 67, 0.15);\n",
              "      fill: #174EA6;\n",
              "    }\n",
              "\n",
              "    [theme=dark] .colab-df-convert {\n",
              "      background-color: #3B4455;\n",
              "      fill: #D2E3FC;\n",
              "    }\n",
              "\n",
              "    [theme=dark] .colab-df-convert:hover {\n",
              "      background-color: #434B5C;\n",
              "      box-shadow: 0px 1px 3px 1px rgba(0, 0, 0, 0.15);\n",
              "      filter: drop-shadow(0px 1px 2px rgba(0, 0, 0, 0.3));\n",
              "      fill: #FFFFFF;\n",
              "    }\n",
              "  </style>\n",
              "\n",
              "      <script>\n",
              "        const buttonEl =\n",
              "          document.querySelector('#df-bd6ab246-3481-4304-9770-b8acbf37691e button.colab-df-convert');\n",
              "        buttonEl.style.display =\n",
              "          google.colab.kernel.accessAllowed ? 'block' : 'none';\n",
              "\n",
              "        async function convertToInteractive(key) {\n",
              "          const element = document.querySelector('#df-bd6ab246-3481-4304-9770-b8acbf37691e');\n",
              "          const dataTable =\n",
              "            await google.colab.kernel.invokeFunction('convertToInteractive',\n",
              "                                                     [key], {});\n",
              "          if (!dataTable) return;\n",
              "\n",
              "          const docLinkHtml = 'Like what you see? Visit the ' +\n",
              "            '<a target=\"_blank\" href=https://colab.research.google.com/notebooks/data_table.ipynb>data table notebook</a>'\n",
              "            + ' to learn more about interactive tables.';\n",
              "          element.innerHTML = '';\n",
              "          dataTable['output_type'] = 'display_data';\n",
              "          await google.colab.output.renderOutput(dataTable, element);\n",
              "          const docLink = document.createElement('div');\n",
              "          docLink.innerHTML = docLinkHtml;\n",
              "          element.appendChild(docLink);\n",
              "        }\n",
              "      </script>\n",
              "    </div>\n",
              "  </div>\n",
              "  "
            ]
          },
          "metadata": {},
          "execution_count": 189
        }
      ]
    },
    {
      "cell_type": "code",
      "source": [
        "# Segmentamos el dataframe usando el nobre de la columna\n",
        "\n",
        "df.loc[0:2, 'Artist':'Released']"
      ],
      "metadata": {
        "colab": {
          "base_uri": "https://localhost:8080/",
          "height": 143
        },
        "id": "2GYbiruHXrfM",
        "outputId": "388c06ec-1dcd-41b1-9513-c2693e29160c"
      },
      "execution_count": 190,
      "outputs": [
        {
          "output_type": "execute_result",
          "data": {
            "text/plain": [
              "            Artist                      Album  Released\n",
              "0  Michael Jackson                   Thriller      1982\n",
              "1            AC/DC              Back in Black      1980\n",
              "2       Pink Floyd  The Dark Side of the Moon      1973"
            ],
            "text/html": [
              "\n",
              "  <div id=\"df-9e1d1cdc-717f-4aca-8b07-3d76167fbb8a\">\n",
              "    <div class=\"colab-df-container\">\n",
              "      <div>\n",
              "<style scoped>\n",
              "    .dataframe tbody tr th:only-of-type {\n",
              "        vertical-align: middle;\n",
              "    }\n",
              "\n",
              "    .dataframe tbody tr th {\n",
              "        vertical-align: top;\n",
              "    }\n",
              "\n",
              "    .dataframe thead th {\n",
              "        text-align: right;\n",
              "    }\n",
              "</style>\n",
              "<table border=\"1\" class=\"dataframe\">\n",
              "  <thead>\n",
              "    <tr style=\"text-align: right;\">\n",
              "      <th></th>\n",
              "      <th>Artist</th>\n",
              "      <th>Album</th>\n",
              "      <th>Released</th>\n",
              "    </tr>\n",
              "  </thead>\n",
              "  <tbody>\n",
              "    <tr>\n",
              "      <th>0</th>\n",
              "      <td>Michael Jackson</td>\n",
              "      <td>Thriller</td>\n",
              "      <td>1982</td>\n",
              "    </tr>\n",
              "    <tr>\n",
              "      <th>1</th>\n",
              "      <td>AC/DC</td>\n",
              "      <td>Back in Black</td>\n",
              "      <td>1980</td>\n",
              "    </tr>\n",
              "    <tr>\n",
              "      <th>2</th>\n",
              "      <td>Pink Floyd</td>\n",
              "      <td>The Dark Side of the Moon</td>\n",
              "      <td>1973</td>\n",
              "    </tr>\n",
              "  </tbody>\n",
              "</table>\n",
              "</div>\n",
              "      <button class=\"colab-df-convert\" onclick=\"convertToInteractive('df-9e1d1cdc-717f-4aca-8b07-3d76167fbb8a')\"\n",
              "              title=\"Convert this dataframe to an interactive table.\"\n",
              "              style=\"display:none;\">\n",
              "        \n",
              "  <svg xmlns=\"http://www.w3.org/2000/svg\" height=\"24px\"viewBox=\"0 0 24 24\"\n",
              "       width=\"24px\">\n",
              "    <path d=\"M0 0h24v24H0V0z\" fill=\"none\"/>\n",
              "    <path d=\"M18.56 5.44l.94 2.06.94-2.06 2.06-.94-2.06-.94-.94-2.06-.94 2.06-2.06.94zm-11 1L8.5 8.5l.94-2.06 2.06-.94-2.06-.94L8.5 2.5l-.94 2.06-2.06.94zm10 10l.94 2.06.94-2.06 2.06-.94-2.06-.94-.94-2.06-.94 2.06-2.06.94z\"/><path d=\"M17.41 7.96l-1.37-1.37c-.4-.4-.92-.59-1.43-.59-.52 0-1.04.2-1.43.59L10.3 9.45l-7.72 7.72c-.78.78-.78 2.05 0 2.83L4 21.41c.39.39.9.59 1.41.59.51 0 1.02-.2 1.41-.59l7.78-7.78 2.81-2.81c.8-.78.8-2.07 0-2.86zM5.41 20L4 18.59l7.72-7.72 1.47 1.35L5.41 20z\"/>\n",
              "  </svg>\n",
              "      </button>\n",
              "      \n",
              "  <style>\n",
              "    .colab-df-container {\n",
              "      display:flex;\n",
              "      flex-wrap:wrap;\n",
              "      gap: 12px;\n",
              "    }\n",
              "\n",
              "    .colab-df-convert {\n",
              "      background-color: #E8F0FE;\n",
              "      border: none;\n",
              "      border-radius: 50%;\n",
              "      cursor: pointer;\n",
              "      display: none;\n",
              "      fill: #1967D2;\n",
              "      height: 32px;\n",
              "      padding: 0 0 0 0;\n",
              "      width: 32px;\n",
              "    }\n",
              "\n",
              "    .colab-df-convert:hover {\n",
              "      background-color: #E2EBFA;\n",
              "      box-shadow: 0px 1px 2px rgba(60, 64, 67, 0.3), 0px 1px 3px 1px rgba(60, 64, 67, 0.15);\n",
              "      fill: #174EA6;\n",
              "    }\n",
              "\n",
              "    [theme=dark] .colab-df-convert {\n",
              "      background-color: #3B4455;\n",
              "      fill: #D2E3FC;\n",
              "    }\n",
              "\n",
              "    [theme=dark] .colab-df-convert:hover {\n",
              "      background-color: #434B5C;\n",
              "      box-shadow: 0px 1px 3px 1px rgba(0, 0, 0, 0.15);\n",
              "      filter: drop-shadow(0px 1px 2px rgba(0, 0, 0, 0.3));\n",
              "      fill: #FFFFFF;\n",
              "    }\n",
              "  </style>\n",
              "\n",
              "      <script>\n",
              "        const buttonEl =\n",
              "          document.querySelector('#df-9e1d1cdc-717f-4aca-8b07-3d76167fbb8a button.colab-df-convert');\n",
              "        buttonEl.style.display =\n",
              "          google.colab.kernel.accessAllowed ? 'block' : 'none';\n",
              "\n",
              "        async function convertToInteractive(key) {\n",
              "          const element = document.querySelector('#df-9e1d1cdc-717f-4aca-8b07-3d76167fbb8a');\n",
              "          const dataTable =\n",
              "            await google.colab.kernel.invokeFunction('convertToInteractive',\n",
              "                                                     [key], {});\n",
              "          if (!dataTable) return;\n",
              "\n",
              "          const docLinkHtml = 'Like what you see? Visit the ' +\n",
              "            '<a target=\"_blank\" href=https://colab.research.google.com/notebooks/data_table.ipynb>data table notebook</a>'\n",
              "            + ' to learn more about interactive tables.';\n",
              "          element.innerHTML = '';\n",
              "          dataTable['output_type'] = 'display_data';\n",
              "          await google.colab.output.renderOutput(dataTable, element);\n",
              "          const docLink = document.createElement('div');\n",
              "          docLink.innerHTML = docLinkHtml;\n",
              "          element.appendChild(docLink);\n",
              "        }\n",
              "      </script>\n",
              "    </div>\n",
              "  </div>\n",
              "  "
            ]
          },
          "metadata": {},
          "execution_count": 190
        }
      ]
    },
    {
      "cell_type": "code",
      "source": [
        "# Obtenemos la columna Rating\n",
        "q = df[['Rating']]\n",
        "q"
      ],
      "metadata": {
        "colab": {
          "base_uri": "https://localhost:8080/",
          "height": 300
        },
        "id": "Pj58vu13YCFs",
        "outputId": "282f9fb1-c725-44aa-db70-a6587a8337b7"
      },
      "execution_count": 191,
      "outputs": [
        {
          "output_type": "execute_result",
          "data": {
            "text/plain": [
              "   Rating\n",
              "0    10.0\n",
              "1     9.5\n",
              "2     9.0\n",
              "3     8.5\n",
              "4     8.0\n",
              "5     7.5\n",
              "6     7.0\n",
              "7     6.5"
            ],
            "text/html": [
              "\n",
              "  <div id=\"df-78929a1b-2efe-4057-aabf-093fc6730ec0\">\n",
              "    <div class=\"colab-df-container\">\n",
              "      <div>\n",
              "<style scoped>\n",
              "    .dataframe tbody tr th:only-of-type {\n",
              "        vertical-align: middle;\n",
              "    }\n",
              "\n",
              "    .dataframe tbody tr th {\n",
              "        vertical-align: top;\n",
              "    }\n",
              "\n",
              "    .dataframe thead th {\n",
              "        text-align: right;\n",
              "    }\n",
              "</style>\n",
              "<table border=\"1\" class=\"dataframe\">\n",
              "  <thead>\n",
              "    <tr style=\"text-align: right;\">\n",
              "      <th></th>\n",
              "      <th>Rating</th>\n",
              "    </tr>\n",
              "  </thead>\n",
              "  <tbody>\n",
              "    <tr>\n",
              "      <th>0</th>\n",
              "      <td>10.0</td>\n",
              "    </tr>\n",
              "    <tr>\n",
              "      <th>1</th>\n",
              "      <td>9.5</td>\n",
              "    </tr>\n",
              "    <tr>\n",
              "      <th>2</th>\n",
              "      <td>9.0</td>\n",
              "    </tr>\n",
              "    <tr>\n",
              "      <th>3</th>\n",
              "      <td>8.5</td>\n",
              "    </tr>\n",
              "    <tr>\n",
              "      <th>4</th>\n",
              "      <td>8.0</td>\n",
              "    </tr>\n",
              "    <tr>\n",
              "      <th>5</th>\n",
              "      <td>7.5</td>\n",
              "    </tr>\n",
              "    <tr>\n",
              "      <th>6</th>\n",
              "      <td>7.0</td>\n",
              "    </tr>\n",
              "    <tr>\n",
              "      <th>7</th>\n",
              "      <td>6.5</td>\n",
              "    </tr>\n",
              "  </tbody>\n",
              "</table>\n",
              "</div>\n",
              "      <button class=\"colab-df-convert\" onclick=\"convertToInteractive('df-78929a1b-2efe-4057-aabf-093fc6730ec0')\"\n",
              "              title=\"Convert this dataframe to an interactive table.\"\n",
              "              style=\"display:none;\">\n",
              "        \n",
              "  <svg xmlns=\"http://www.w3.org/2000/svg\" height=\"24px\"viewBox=\"0 0 24 24\"\n",
              "       width=\"24px\">\n",
              "    <path d=\"M0 0h24v24H0V0z\" fill=\"none\"/>\n",
              "    <path d=\"M18.56 5.44l.94 2.06.94-2.06 2.06-.94-2.06-.94-.94-2.06-.94 2.06-2.06.94zm-11 1L8.5 8.5l.94-2.06 2.06-.94-2.06-.94L8.5 2.5l-.94 2.06-2.06.94zm10 10l.94 2.06.94-2.06 2.06-.94-2.06-.94-.94-2.06-.94 2.06-2.06.94z\"/><path d=\"M17.41 7.96l-1.37-1.37c-.4-.4-.92-.59-1.43-.59-.52 0-1.04.2-1.43.59L10.3 9.45l-7.72 7.72c-.78.78-.78 2.05 0 2.83L4 21.41c.39.39.9.59 1.41.59.51 0 1.02-.2 1.41-.59l7.78-7.78 2.81-2.81c.8-.78.8-2.07 0-2.86zM5.41 20L4 18.59l7.72-7.72 1.47 1.35L5.41 20z\"/>\n",
              "  </svg>\n",
              "      </button>\n",
              "      \n",
              "  <style>\n",
              "    .colab-df-container {\n",
              "      display:flex;\n",
              "      flex-wrap:wrap;\n",
              "      gap: 12px;\n",
              "    }\n",
              "\n",
              "    .colab-df-convert {\n",
              "      background-color: #E8F0FE;\n",
              "      border: none;\n",
              "      border-radius: 50%;\n",
              "      cursor: pointer;\n",
              "      display: none;\n",
              "      fill: #1967D2;\n",
              "      height: 32px;\n",
              "      padding: 0 0 0 0;\n",
              "      width: 32px;\n",
              "    }\n",
              "\n",
              "    .colab-df-convert:hover {\n",
              "      background-color: #E2EBFA;\n",
              "      box-shadow: 0px 1px 2px rgba(60, 64, 67, 0.3), 0px 1px 3px 1px rgba(60, 64, 67, 0.15);\n",
              "      fill: #174EA6;\n",
              "    }\n",
              "\n",
              "    [theme=dark] .colab-df-convert {\n",
              "      background-color: #3B4455;\n",
              "      fill: #D2E3FC;\n",
              "    }\n",
              "\n",
              "    [theme=dark] .colab-df-convert:hover {\n",
              "      background-color: #434B5C;\n",
              "      box-shadow: 0px 1px 3px 1px rgba(0, 0, 0, 0.15);\n",
              "      filter: drop-shadow(0px 1px 2px rgba(0, 0, 0, 0.3));\n",
              "      fill: #FFFFFF;\n",
              "    }\n",
              "  </style>\n",
              "\n",
              "      <script>\n",
              "        const buttonEl =\n",
              "          document.querySelector('#df-78929a1b-2efe-4057-aabf-093fc6730ec0 button.colab-df-convert');\n",
              "        buttonEl.style.display =\n",
              "          google.colab.kernel.accessAllowed ? 'block' : 'none';\n",
              "\n",
              "        async function convertToInteractive(key) {\n",
              "          const element = document.querySelector('#df-78929a1b-2efe-4057-aabf-093fc6730ec0');\n",
              "          const dataTable =\n",
              "            await google.colab.kernel.invokeFunction('convertToInteractive',\n",
              "                                                     [key], {});\n",
              "          if (!dataTable) return;\n",
              "\n",
              "          const docLinkHtml = 'Like what you see? Visit the ' +\n",
              "            '<a target=\"_blank\" href=https://colab.research.google.com/notebooks/data_table.ipynb>data table notebook</a>'\n",
              "            + ' to learn more about interactive tables.';\n",
              "          element.innerHTML = '';\n",
              "          dataTable['output_type'] = 'display_data';\n",
              "          await google.colab.output.renderOutput(dataTable, element);\n",
              "          const docLink = document.createElement('div');\n",
              "          docLink.innerHTML = docLinkHtml;\n",
              "          element.appendChild(docLink);\n",
              "        }\n",
              "      </script>\n",
              "    </div>\n",
              "  </div>\n",
              "  "
            ]
          },
          "metadata": {},
          "execution_count": 191
        }
      ]
    },
    {
      "cell_type": "code",
      "source": [
        "# Obtenemos la columna Released y Artist del dataframe\n",
        "q = df[['Released', 'Artist']]\n",
        "q"
      ],
      "metadata": {
        "colab": {
          "base_uri": "https://localhost:8080/",
          "height": 300
        },
        "id": "VopTJ-buYCuj",
        "outputId": "61be979e-5df5-4c65-ed8e-5532b0a37e6b"
      },
      "execution_count": 192,
      "outputs": [
        {
          "output_type": "execute_result",
          "data": {
            "text/plain": [
              "   Released           Artist\n",
              "0      1982  Michael Jackson\n",
              "1      1980            AC/DC\n",
              "2      1973       Pink Floyd\n",
              "3      1992  Whitney Houston\n",
              "4      1977        Meat Loaf\n",
              "5      1976           Eagles\n",
              "6      1977         Bee Gees\n",
              "7      1977    Fleetwood Mac"
            ],
            "text/html": [
              "\n",
              "  <div id=\"df-98b01a66-696f-43b3-aa0c-94229fdd6b2d\">\n",
              "    <div class=\"colab-df-container\">\n",
              "      <div>\n",
              "<style scoped>\n",
              "    .dataframe tbody tr th:only-of-type {\n",
              "        vertical-align: middle;\n",
              "    }\n",
              "\n",
              "    .dataframe tbody tr th {\n",
              "        vertical-align: top;\n",
              "    }\n",
              "\n",
              "    .dataframe thead th {\n",
              "        text-align: right;\n",
              "    }\n",
              "</style>\n",
              "<table border=\"1\" class=\"dataframe\">\n",
              "  <thead>\n",
              "    <tr style=\"text-align: right;\">\n",
              "      <th></th>\n",
              "      <th>Released</th>\n",
              "      <th>Artist</th>\n",
              "    </tr>\n",
              "  </thead>\n",
              "  <tbody>\n",
              "    <tr>\n",
              "      <th>0</th>\n",
              "      <td>1982</td>\n",
              "      <td>Michael Jackson</td>\n",
              "    </tr>\n",
              "    <tr>\n",
              "      <th>1</th>\n",
              "      <td>1980</td>\n",
              "      <td>AC/DC</td>\n",
              "    </tr>\n",
              "    <tr>\n",
              "      <th>2</th>\n",
              "      <td>1973</td>\n",
              "      <td>Pink Floyd</td>\n",
              "    </tr>\n",
              "    <tr>\n",
              "      <th>3</th>\n",
              "      <td>1992</td>\n",
              "      <td>Whitney Houston</td>\n",
              "    </tr>\n",
              "    <tr>\n",
              "      <th>4</th>\n",
              "      <td>1977</td>\n",
              "      <td>Meat Loaf</td>\n",
              "    </tr>\n",
              "    <tr>\n",
              "      <th>5</th>\n",
              "      <td>1976</td>\n",
              "      <td>Eagles</td>\n",
              "    </tr>\n",
              "    <tr>\n",
              "      <th>6</th>\n",
              "      <td>1977</td>\n",
              "      <td>Bee Gees</td>\n",
              "    </tr>\n",
              "    <tr>\n",
              "      <th>7</th>\n",
              "      <td>1977</td>\n",
              "      <td>Fleetwood Mac</td>\n",
              "    </tr>\n",
              "  </tbody>\n",
              "</table>\n",
              "</div>\n",
              "      <button class=\"colab-df-convert\" onclick=\"convertToInteractive('df-98b01a66-696f-43b3-aa0c-94229fdd6b2d')\"\n",
              "              title=\"Convert this dataframe to an interactive table.\"\n",
              "              style=\"display:none;\">\n",
              "        \n",
              "  <svg xmlns=\"http://www.w3.org/2000/svg\" height=\"24px\"viewBox=\"0 0 24 24\"\n",
              "       width=\"24px\">\n",
              "    <path d=\"M0 0h24v24H0V0z\" fill=\"none\"/>\n",
              "    <path d=\"M18.56 5.44l.94 2.06.94-2.06 2.06-.94-2.06-.94-.94-2.06-.94 2.06-2.06.94zm-11 1L8.5 8.5l.94-2.06 2.06-.94-2.06-.94L8.5 2.5l-.94 2.06-2.06.94zm10 10l.94 2.06.94-2.06 2.06-.94-2.06-.94-.94-2.06-.94 2.06-2.06.94z\"/><path d=\"M17.41 7.96l-1.37-1.37c-.4-.4-.92-.59-1.43-.59-.52 0-1.04.2-1.43.59L10.3 9.45l-7.72 7.72c-.78.78-.78 2.05 0 2.83L4 21.41c.39.39.9.59 1.41.59.51 0 1.02-.2 1.41-.59l7.78-7.78 2.81-2.81c.8-.78.8-2.07 0-2.86zM5.41 20L4 18.59l7.72-7.72 1.47 1.35L5.41 20z\"/>\n",
              "  </svg>\n",
              "      </button>\n",
              "      \n",
              "  <style>\n",
              "    .colab-df-container {\n",
              "      display:flex;\n",
              "      flex-wrap:wrap;\n",
              "      gap: 12px;\n",
              "    }\n",
              "\n",
              "    .colab-df-convert {\n",
              "      background-color: #E8F0FE;\n",
              "      border: none;\n",
              "      border-radius: 50%;\n",
              "      cursor: pointer;\n",
              "      display: none;\n",
              "      fill: #1967D2;\n",
              "      height: 32px;\n",
              "      padding: 0 0 0 0;\n",
              "      width: 32px;\n",
              "    }\n",
              "\n",
              "    .colab-df-convert:hover {\n",
              "      background-color: #E2EBFA;\n",
              "      box-shadow: 0px 1px 2px rgba(60, 64, 67, 0.3), 0px 1px 3px 1px rgba(60, 64, 67, 0.15);\n",
              "      fill: #174EA6;\n",
              "    }\n",
              "\n",
              "    [theme=dark] .colab-df-convert {\n",
              "      background-color: #3B4455;\n",
              "      fill: #D2E3FC;\n",
              "    }\n",
              "\n",
              "    [theme=dark] .colab-df-convert:hover {\n",
              "      background-color: #434B5C;\n",
              "      box-shadow: 0px 1px 3px 1px rgba(0, 0, 0, 0.15);\n",
              "      filter: drop-shadow(0px 1px 2px rgba(0, 0, 0, 0.3));\n",
              "      fill: #FFFFFF;\n",
              "    }\n",
              "  </style>\n",
              "\n",
              "      <script>\n",
              "        const buttonEl =\n",
              "          document.querySelector('#df-98b01a66-696f-43b3-aa0c-94229fdd6b2d button.colab-df-convert');\n",
              "        buttonEl.style.display =\n",
              "          google.colab.kernel.accessAllowed ? 'block' : 'none';\n",
              "\n",
              "        async function convertToInteractive(key) {\n",
              "          const element = document.querySelector('#df-98b01a66-696f-43b3-aa0c-94229fdd6b2d');\n",
              "          const dataTable =\n",
              "            await google.colab.kernel.invokeFunction('convertToInteractive',\n",
              "                                                     [key], {});\n",
              "          if (!dataTable) return;\n",
              "\n",
              "          const docLinkHtml = 'Like what you see? Visit the ' +\n",
              "            '<a target=\"_blank\" href=https://colab.research.google.com/notebooks/data_table.ipynb>data table notebook</a>'\n",
              "            + ' to learn more about interactive tables.';\n",
              "          element.innerHTML = '';\n",
              "          dataTable['output_type'] = 'display_data';\n",
              "          await google.colab.output.renderOutput(dataTable, element);\n",
              "          const docLink = document.createElement('div');\n",
              "          docLink.innerHTML = docLinkHtml;\n",
              "          element.appendChild(docLink);\n",
              "        }\n",
              "      </script>\n",
              "    </div>\n",
              "  </div>\n",
              "  "
            ]
          },
          "metadata": {},
          "execution_count": 192
        }
      ]
    },
    {
      "cell_type": "code",
      "source": [
        "# Obtenemos el segundo renglón y la primer columna del dataframe\n",
        "df.iloc[1, 2]"
      ],
      "metadata": {
        "colab": {
          "base_uri": "https://localhost:8080/"
        },
        "id": "tXdm7FeNYGeE",
        "outputId": "c8f67f3e-3b08-4c84-d024-a76602b7ca86"
      },
      "execution_count": 193,
      "outputs": [
        {
          "output_type": "execute_result",
          "data": {
            "text/plain": [
              "1980"
            ]
          },
          "metadata": {},
          "execution_count": 193
        }
      ]
    },
    {
      "cell_type": "code",
      "source": [
        "#Ejercicio\n",
        "\n",
        "# Use the following list to convert the dataframe index df to characters and assign it to df_new; \n",
        "#find the element corresponding to the row index a and column 'Artist'. Then select the rows a through d for the column 'Artist'\n",
        "new_index=['a','b','c','d','e','f','g','h']\n",
        "df_new=df\n",
        "df_new.index=new_index\n",
        "df_new.loc['a', 'Artist']\n",
        "df_new.loc['a':'d', 'Artist']"
      ],
      "metadata": {
        "colab": {
          "base_uri": "https://localhost:8080/"
        },
        "id": "UgQnLURDYI7-",
        "outputId": "297a9ee6-479e-45cf-d630-61fc358bd20c"
      },
      "execution_count": 194,
      "outputs": [
        {
          "output_type": "execute_result",
          "data": {
            "text/plain": [
              "a    Michael Jackson\n",
              "b              AC/DC\n",
              "c         Pink Floyd\n",
              "d    Whitney Houston\n",
              "Name: Artist, dtype: object"
            ]
          },
          "metadata": {},
          "execution_count": 194
        }
      ]
    },
    {
      "cell_type": "markdown",
      "source": [
        "Question 1\n",
        "1 point possible (graded)\n",
        "What do the following lines of code do?"
      ],
      "metadata": {
        "id": "4dh-rOAfYU2w"
      }
    },
    {
      "cell_type": "code",
      "source": [
        "with open(\"/content/sample_data/ejemplo.txt\",\"r\") as file1:\n",
        "    FileContent=file1.readlines()\n",
        "    print(FileContent)"
      ],
      "metadata": {
        "colab": {
          "base_uri": "https://localhost:8080/"
        },
        "id": "2PPH1K65YXma",
        "outputId": "f4bf53fb-1352-4cf1-8ba7-460099e4346a"
      },
      "execution_count": 195,
      "outputs": [
        {
          "output_type": "stream",
          "name": "stdout",
          "text": [
            "['esta es la primera línea\\n', 'esta es la segunda línea\\n', 'esta es la tercera línea']\n"
          ]
        }
      ]
    },
    {
      "cell_type": "markdown",
      "source": [
        "Question 2\n",
        "1 point possible (graded)\n",
        "What do the following lines of code do?"
      ],
      "metadata": {
        "id": "WlcEBRn9Yjfw"
      }
    },
    {
      "cell_type": "code",
      "source": [
        "with open(\"/content/sample_data/Example2.txt\",\"w\") as writefile:\n",
        "    writefile.write(\"This is line A\\n\")\n",
        "    writefile.write(\"This is line B\\n\")"
      ],
      "metadata": {
        "id": "5eSndAtoYmjY"
      },
      "execution_count": 196,
      "outputs": []
    },
    {
      "cell_type": "markdown",
      "source": [
        "Question 3\n",
        "1 point possible (graded)\n",
        "What do the following lines of code do?"
      ],
      "metadata": {
        "id": "9XMbYAbYYwR2"
      }
    },
    {
      "cell_type": "code",
      "source": [
        "with open(\"/content/sample_data/Example2.txt\",\"a\") as file1:\n",
        "    file1.write(\"This is line C\\n\")"
      ],
      "metadata": {
        "id": "ZRbFlmcEYww3"
      },
      "execution_count": 197,
      "outputs": []
    },
    {
      "cell_type": "code",
      "source": [
        "import pandas as pd\n",
        "\n",
        "df=pd.DataFrame({'a':[11,21,31],'b':[21,22,23]})"
      ],
      "metadata": {
        "id": "-gqNOp9Da7IS"
      },
      "execution_count": 198,
      "outputs": []
    },
    {
      "cell_type": "code",
      "source": [
        "# Despliega los tres primeros rengloes del dataframe\n",
        "df.head(3)"
      ],
      "metadata": {
        "colab": {
          "base_uri": "https://localhost:8080/",
          "height": 143
        },
        "id": "jSpB-O_ia8KR",
        "outputId": "85faa0e6-2335-4f60-8dfb-2a5c1074bb2d"
      },
      "execution_count": 199,
      "outputs": [
        {
          "output_type": "execute_result",
          "data": {
            "text/plain": [
              "    a   b\n",
              "0  11  21\n",
              "1  21  22\n",
              "2  31  23"
            ],
            "text/html": [
              "\n",
              "  <div id=\"df-dd7ce749-a8c1-4cc5-8ddf-dc8ac3c2ac51\">\n",
              "    <div class=\"colab-df-container\">\n",
              "      <div>\n",
              "<style scoped>\n",
              "    .dataframe tbody tr th:only-of-type {\n",
              "        vertical-align: middle;\n",
              "    }\n",
              "\n",
              "    .dataframe tbody tr th {\n",
              "        vertical-align: top;\n",
              "    }\n",
              "\n",
              "    .dataframe thead th {\n",
              "        text-align: right;\n",
              "    }\n",
              "</style>\n",
              "<table border=\"1\" class=\"dataframe\">\n",
              "  <thead>\n",
              "    <tr style=\"text-align: right;\">\n",
              "      <th></th>\n",
              "      <th>a</th>\n",
              "      <th>b</th>\n",
              "    </tr>\n",
              "  </thead>\n",
              "  <tbody>\n",
              "    <tr>\n",
              "      <th>0</th>\n",
              "      <td>11</td>\n",
              "      <td>21</td>\n",
              "    </tr>\n",
              "    <tr>\n",
              "      <th>1</th>\n",
              "      <td>21</td>\n",
              "      <td>22</td>\n",
              "    </tr>\n",
              "    <tr>\n",
              "      <th>2</th>\n",
              "      <td>31</td>\n",
              "      <td>23</td>\n",
              "    </tr>\n",
              "  </tbody>\n",
              "</table>\n",
              "</div>\n",
              "      <button class=\"colab-df-convert\" onclick=\"convertToInteractive('df-dd7ce749-a8c1-4cc5-8ddf-dc8ac3c2ac51')\"\n",
              "              title=\"Convert this dataframe to an interactive table.\"\n",
              "              style=\"display:none;\">\n",
              "        \n",
              "  <svg xmlns=\"http://www.w3.org/2000/svg\" height=\"24px\"viewBox=\"0 0 24 24\"\n",
              "       width=\"24px\">\n",
              "    <path d=\"M0 0h24v24H0V0z\" fill=\"none\"/>\n",
              "    <path d=\"M18.56 5.44l.94 2.06.94-2.06 2.06-.94-2.06-.94-.94-2.06-.94 2.06-2.06.94zm-11 1L8.5 8.5l.94-2.06 2.06-.94-2.06-.94L8.5 2.5l-.94 2.06-2.06.94zm10 10l.94 2.06.94-2.06 2.06-.94-2.06-.94-.94-2.06-.94 2.06-2.06.94z\"/><path d=\"M17.41 7.96l-1.37-1.37c-.4-.4-.92-.59-1.43-.59-.52 0-1.04.2-1.43.59L10.3 9.45l-7.72 7.72c-.78.78-.78 2.05 0 2.83L4 21.41c.39.39.9.59 1.41.59.51 0 1.02-.2 1.41-.59l7.78-7.78 2.81-2.81c.8-.78.8-2.07 0-2.86zM5.41 20L4 18.59l7.72-7.72 1.47 1.35L5.41 20z\"/>\n",
              "  </svg>\n",
              "      </button>\n",
              "      \n",
              "  <style>\n",
              "    .colab-df-container {\n",
              "      display:flex;\n",
              "      flex-wrap:wrap;\n",
              "      gap: 12px;\n",
              "    }\n",
              "\n",
              "    .colab-df-convert {\n",
              "      background-color: #E8F0FE;\n",
              "      border: none;\n",
              "      border-radius: 50%;\n",
              "      cursor: pointer;\n",
              "      display: none;\n",
              "      fill: #1967D2;\n",
              "      height: 32px;\n",
              "      padding: 0 0 0 0;\n",
              "      width: 32px;\n",
              "    }\n",
              "\n",
              "    .colab-df-convert:hover {\n",
              "      background-color: #E2EBFA;\n",
              "      box-shadow: 0px 1px 2px rgba(60, 64, 67, 0.3), 0px 1px 3px 1px rgba(60, 64, 67, 0.15);\n",
              "      fill: #174EA6;\n",
              "    }\n",
              "\n",
              "    [theme=dark] .colab-df-convert {\n",
              "      background-color: #3B4455;\n",
              "      fill: #D2E3FC;\n",
              "    }\n",
              "\n",
              "    [theme=dark] .colab-df-convert:hover {\n",
              "      background-color: #434B5C;\n",
              "      box-shadow: 0px 1px 3px 1px rgba(0, 0, 0, 0.15);\n",
              "      filter: drop-shadow(0px 1px 2px rgba(0, 0, 0, 0.3));\n",
              "      fill: #FFFFFF;\n",
              "    }\n",
              "  </style>\n",
              "\n",
              "      <script>\n",
              "        const buttonEl =\n",
              "          document.querySelector('#df-dd7ce749-a8c1-4cc5-8ddf-dc8ac3c2ac51 button.colab-df-convert');\n",
              "        buttonEl.style.display =\n",
              "          google.colab.kernel.accessAllowed ? 'block' : 'none';\n",
              "\n",
              "        async function convertToInteractive(key) {\n",
              "          const element = document.querySelector('#df-dd7ce749-a8c1-4cc5-8ddf-dc8ac3c2ac51');\n",
              "          const dataTable =\n",
              "            await google.colab.kernel.invokeFunction('convertToInteractive',\n",
              "                                                     [key], {});\n",
              "          if (!dataTable) return;\n",
              "\n",
              "          const docLinkHtml = 'Like what you see? Visit the ' +\n",
              "            '<a target=\"_blank\" href=https://colab.research.google.com/notebooks/data_table.ipynb>data table notebook</a>'\n",
              "            + ' to learn more about interactive tables.';\n",
              "          element.innerHTML = '';\n",
              "          dataTable['output_type'] = 'display_data';\n",
              "          await google.colab.output.renderOutput(dataTable, element);\n",
              "          const docLink = document.createElement('div');\n",
              "          docLink.innerHTML = docLinkHtml;\n",
              "          element.appendChild(docLink);\n",
              "        }\n",
              "      </script>\n",
              "    </div>\n",
              "  </div>\n",
              "  "
            ]
          },
          "metadata": {},
          "execution_count": 199
        }
      ]
    },
    {
      "cell_type": "code",
      "source": [
        "# Obtenemos columna a\n",
        "df['a']"
      ],
      "metadata": {
        "colab": {
          "base_uri": "https://localhost:8080/"
        },
        "id": "-Jfhu7z9a_yp",
        "outputId": "48cef354-c8af-49cb-9f0b-3b8a04807674"
      },
      "execution_count": 200,
      "outputs": [
        {
          "output_type": "execute_result",
          "data": {
            "text/plain": [
              "0    11\n",
              "1    21\n",
              "2    31\n",
              "Name: a, dtype: int64"
            ]
          },
          "metadata": {},
          "execution_count": 200
        }
      ]
    },
    {
      "cell_type": "code",
      "source": [
        "import pandas as pd\n",
        "\n",
        "df=pd.DataFrame({'a':[1,2,1],'b':[1,1,1]})"
      ],
      "metadata": {
        "id": "EBCq_bFhahlE"
      },
      "execution_count": 201,
      "outputs": []
    },
    {
      "cell_type": "markdown",
      "source": [
        "Find the unique values in column  'a' :"
      ],
      "metadata": {
        "id": "E0pNG_j8anJ-"
      }
    },
    {
      "cell_type": "code",
      "source": [
        "df['a'].unique()"
      ],
      "metadata": {
        "colab": {
          "base_uri": "https://localhost:8080/"
        },
        "id": "tAMXrwmrantN",
        "outputId": "4cf8ff70-9ed4-46c0-e6ee-66294cf6ad29"
      },
      "execution_count": 202,
      "outputs": [
        {
          "output_type": "execute_result",
          "data": {
            "text/plain": [
              "array([1, 2])"
            ]
          },
          "metadata": {},
          "execution_count": 202
        }
      ]
    },
    {
      "cell_type": "markdown",
      "source": [
        "Return a dataframe with only the rows where column  a  is less than two:"
      ],
      "metadata": {
        "id": "ZtYFxgWeap3t"
      }
    },
    {
      "cell_type": "code",
      "source": [
        "df[df['a']<2]"
      ],
      "metadata": {
        "colab": {
          "base_uri": "https://localhost:8080/",
          "height": 112
        },
        "id": "TLxm_McDasGr",
        "outputId": "84c74ecc-9779-4dd2-8dd5-751da4c523ba"
      },
      "execution_count": 203,
      "outputs": [
        {
          "output_type": "execute_result",
          "data": {
            "text/plain": [
              "   a  b\n",
              "0  1  1\n",
              "2  1  1"
            ],
            "text/html": [
              "\n",
              "  <div id=\"df-30389db1-d8f5-4af6-87ef-ad0372230573\">\n",
              "    <div class=\"colab-df-container\">\n",
              "      <div>\n",
              "<style scoped>\n",
              "    .dataframe tbody tr th:only-of-type {\n",
              "        vertical-align: middle;\n",
              "    }\n",
              "\n",
              "    .dataframe tbody tr th {\n",
              "        vertical-align: top;\n",
              "    }\n",
              "\n",
              "    .dataframe thead th {\n",
              "        text-align: right;\n",
              "    }\n",
              "</style>\n",
              "<table border=\"1\" class=\"dataframe\">\n",
              "  <thead>\n",
              "    <tr style=\"text-align: right;\">\n",
              "      <th></th>\n",
              "      <th>a</th>\n",
              "      <th>b</th>\n",
              "    </tr>\n",
              "  </thead>\n",
              "  <tbody>\n",
              "    <tr>\n",
              "      <th>0</th>\n",
              "      <td>1</td>\n",
              "      <td>1</td>\n",
              "    </tr>\n",
              "    <tr>\n",
              "      <th>2</th>\n",
              "      <td>1</td>\n",
              "      <td>1</td>\n",
              "    </tr>\n",
              "  </tbody>\n",
              "</table>\n",
              "</div>\n",
              "      <button class=\"colab-df-convert\" onclick=\"convertToInteractive('df-30389db1-d8f5-4af6-87ef-ad0372230573')\"\n",
              "              title=\"Convert this dataframe to an interactive table.\"\n",
              "              style=\"display:none;\">\n",
              "        \n",
              "  <svg xmlns=\"http://www.w3.org/2000/svg\" height=\"24px\"viewBox=\"0 0 24 24\"\n",
              "       width=\"24px\">\n",
              "    <path d=\"M0 0h24v24H0V0z\" fill=\"none\"/>\n",
              "    <path d=\"M18.56 5.44l.94 2.06.94-2.06 2.06-.94-2.06-.94-.94-2.06-.94 2.06-2.06.94zm-11 1L8.5 8.5l.94-2.06 2.06-.94-2.06-.94L8.5 2.5l-.94 2.06-2.06.94zm10 10l.94 2.06.94-2.06 2.06-.94-2.06-.94-.94-2.06-.94 2.06-2.06.94z\"/><path d=\"M17.41 7.96l-1.37-1.37c-.4-.4-.92-.59-1.43-.59-.52 0-1.04.2-1.43.59L10.3 9.45l-7.72 7.72c-.78.78-.78 2.05 0 2.83L4 21.41c.39.39.9.59 1.41.59.51 0 1.02-.2 1.41-.59l7.78-7.78 2.81-2.81c.8-.78.8-2.07 0-2.86zM5.41 20L4 18.59l7.72-7.72 1.47 1.35L5.41 20z\"/>\n",
              "  </svg>\n",
              "      </button>\n",
              "      \n",
              "  <style>\n",
              "    .colab-df-container {\n",
              "      display:flex;\n",
              "      flex-wrap:wrap;\n",
              "      gap: 12px;\n",
              "    }\n",
              "\n",
              "    .colab-df-convert {\n",
              "      background-color: #E8F0FE;\n",
              "      border: none;\n",
              "      border-radius: 50%;\n",
              "      cursor: pointer;\n",
              "      display: none;\n",
              "      fill: #1967D2;\n",
              "      height: 32px;\n",
              "      padding: 0 0 0 0;\n",
              "      width: 32px;\n",
              "    }\n",
              "\n",
              "    .colab-df-convert:hover {\n",
              "      background-color: #E2EBFA;\n",
              "      box-shadow: 0px 1px 2px rgba(60, 64, 67, 0.3), 0px 1px 3px 1px rgba(60, 64, 67, 0.15);\n",
              "      fill: #174EA6;\n",
              "    }\n",
              "\n",
              "    [theme=dark] .colab-df-convert {\n",
              "      background-color: #3B4455;\n",
              "      fill: #D2E3FC;\n",
              "    }\n",
              "\n",
              "    [theme=dark] .colab-df-convert:hover {\n",
              "      background-color: #434B5C;\n",
              "      box-shadow: 0px 1px 3px 1px rgba(0, 0, 0, 0.15);\n",
              "      filter: drop-shadow(0px 1px 2px rgba(0, 0, 0, 0.3));\n",
              "      fill: #FFFFFF;\n",
              "    }\n",
              "  </style>\n",
              "\n",
              "      <script>\n",
              "        const buttonEl =\n",
              "          document.querySelector('#df-30389db1-d8f5-4af6-87ef-ad0372230573 button.colab-df-convert');\n",
              "        buttonEl.style.display =\n",
              "          google.colab.kernel.accessAllowed ? 'block' : 'none';\n",
              "\n",
              "        async function convertToInteractive(key) {\n",
              "          const element = document.querySelector('#df-30389db1-d8f5-4af6-87ef-ad0372230573');\n",
              "          const dataTable =\n",
              "            await google.colab.kernel.invokeFunction('convertToInteractive',\n",
              "                                                     [key], {});\n",
              "          if (!dataTable) return;\n",
              "\n",
              "          const docLinkHtml = 'Like what you see? Visit the ' +\n",
              "            '<a target=\"_blank\" href=https://colab.research.google.com/notebooks/data_table.ipynb>data table notebook</a>'\n",
              "            + ' to learn more about interactive tables.';\n",
              "          element.innerHTML = '';\n",
              "          dataTable['output_type'] = 'display_data';\n",
              "          await google.colab.output.renderOutput(dataTable, element);\n",
              "          const docLink = document.createElement('div');\n",
              "          docLink.innerHTML = docLinkHtml;\n",
              "          element.appendChild(docLink);\n",
              "        }\n",
              "      </script>\n",
              "    </div>\n",
              "  </div>\n",
              "  "
            ]
          },
          "metadata": {},
          "execution_count": 203
        }
      ]
    },
    {
      "cell_type": "code",
      "source": [
        "import pandas as pd"
      ],
      "metadata": {
        "id": "jNnfSmkMbuGV"
      },
      "execution_count": 204,
      "outputs": []
    },
    {
      "cell_type": "code",
      "source": [
        "#Define a dictionary 'x'\n",
        "\n",
        "x = {'Name': ['Rose','John', 'Jane', 'Mary'], 'ID': [1, 2, 3, 4], 'Department': ['Architect Group', 'Software Group', 'Design Team', 'Infrastructure'], \n",
        "      'Salary':[100000, 80000, 50000, 60000]}\n",
        "\n",
        "#casting the dictionary to a DataFrame\n",
        "df = pd.DataFrame(x)\n",
        "\n",
        "#display the result df\n",
        "df"
      ],
      "metadata": {
        "colab": {
          "base_uri": "https://localhost:8080/",
          "height": 175
        },
        "id": "Xs78UeuCbw4K",
        "outputId": "3eaa8abd-ae84-4080-fece-12c5dffc8be0"
      },
      "execution_count": 205,
      "outputs": [
        {
          "output_type": "execute_result",
          "data": {
            "text/plain": [
              "   Name  ID       Department  Salary\n",
              "0  Rose   1  Architect Group  100000\n",
              "1  John   2   Software Group   80000\n",
              "2  Jane   3      Design Team   50000\n",
              "3  Mary   4   Infrastructure   60000"
            ],
            "text/html": [
              "\n",
              "  <div id=\"df-16f79305-5ebf-4613-b1c7-bc01a8db8f00\">\n",
              "    <div class=\"colab-df-container\">\n",
              "      <div>\n",
              "<style scoped>\n",
              "    .dataframe tbody tr th:only-of-type {\n",
              "        vertical-align: middle;\n",
              "    }\n",
              "\n",
              "    .dataframe tbody tr th {\n",
              "        vertical-align: top;\n",
              "    }\n",
              "\n",
              "    .dataframe thead th {\n",
              "        text-align: right;\n",
              "    }\n",
              "</style>\n",
              "<table border=\"1\" class=\"dataframe\">\n",
              "  <thead>\n",
              "    <tr style=\"text-align: right;\">\n",
              "      <th></th>\n",
              "      <th>Name</th>\n",
              "      <th>ID</th>\n",
              "      <th>Department</th>\n",
              "      <th>Salary</th>\n",
              "    </tr>\n",
              "  </thead>\n",
              "  <tbody>\n",
              "    <tr>\n",
              "      <th>0</th>\n",
              "      <td>Rose</td>\n",
              "      <td>1</td>\n",
              "      <td>Architect Group</td>\n",
              "      <td>100000</td>\n",
              "    </tr>\n",
              "    <tr>\n",
              "      <th>1</th>\n",
              "      <td>John</td>\n",
              "      <td>2</td>\n",
              "      <td>Software Group</td>\n",
              "      <td>80000</td>\n",
              "    </tr>\n",
              "    <tr>\n",
              "      <th>2</th>\n",
              "      <td>Jane</td>\n",
              "      <td>3</td>\n",
              "      <td>Design Team</td>\n",
              "      <td>50000</td>\n",
              "    </tr>\n",
              "    <tr>\n",
              "      <th>3</th>\n",
              "      <td>Mary</td>\n",
              "      <td>4</td>\n",
              "      <td>Infrastructure</td>\n",
              "      <td>60000</td>\n",
              "    </tr>\n",
              "  </tbody>\n",
              "</table>\n",
              "</div>\n",
              "      <button class=\"colab-df-convert\" onclick=\"convertToInteractive('df-16f79305-5ebf-4613-b1c7-bc01a8db8f00')\"\n",
              "              title=\"Convert this dataframe to an interactive table.\"\n",
              "              style=\"display:none;\">\n",
              "        \n",
              "  <svg xmlns=\"http://www.w3.org/2000/svg\" height=\"24px\"viewBox=\"0 0 24 24\"\n",
              "       width=\"24px\">\n",
              "    <path d=\"M0 0h24v24H0V0z\" fill=\"none\"/>\n",
              "    <path d=\"M18.56 5.44l.94 2.06.94-2.06 2.06-.94-2.06-.94-.94-2.06-.94 2.06-2.06.94zm-11 1L8.5 8.5l.94-2.06 2.06-.94-2.06-.94L8.5 2.5l-.94 2.06-2.06.94zm10 10l.94 2.06.94-2.06 2.06-.94-2.06-.94-.94-2.06-.94 2.06-2.06.94z\"/><path d=\"M17.41 7.96l-1.37-1.37c-.4-.4-.92-.59-1.43-.59-.52 0-1.04.2-1.43.59L10.3 9.45l-7.72 7.72c-.78.78-.78 2.05 0 2.83L4 21.41c.39.39.9.59 1.41.59.51 0 1.02-.2 1.41-.59l7.78-7.78 2.81-2.81c.8-.78.8-2.07 0-2.86zM5.41 20L4 18.59l7.72-7.72 1.47 1.35L5.41 20z\"/>\n",
              "  </svg>\n",
              "      </button>\n",
              "      \n",
              "  <style>\n",
              "    .colab-df-container {\n",
              "      display:flex;\n",
              "      flex-wrap:wrap;\n",
              "      gap: 12px;\n",
              "    }\n",
              "\n",
              "    .colab-df-convert {\n",
              "      background-color: #E8F0FE;\n",
              "      border: none;\n",
              "      border-radius: 50%;\n",
              "      cursor: pointer;\n",
              "      display: none;\n",
              "      fill: #1967D2;\n",
              "      height: 32px;\n",
              "      padding: 0 0 0 0;\n",
              "      width: 32px;\n",
              "    }\n",
              "\n",
              "    .colab-df-convert:hover {\n",
              "      background-color: #E2EBFA;\n",
              "      box-shadow: 0px 1px 2px rgba(60, 64, 67, 0.3), 0px 1px 3px 1px rgba(60, 64, 67, 0.15);\n",
              "      fill: #174EA6;\n",
              "    }\n",
              "\n",
              "    [theme=dark] .colab-df-convert {\n",
              "      background-color: #3B4455;\n",
              "      fill: #D2E3FC;\n",
              "    }\n",
              "\n",
              "    [theme=dark] .colab-df-convert:hover {\n",
              "      background-color: #434B5C;\n",
              "      box-shadow: 0px 1px 3px 1px rgba(0, 0, 0, 0.15);\n",
              "      filter: drop-shadow(0px 1px 2px rgba(0, 0, 0, 0.3));\n",
              "      fill: #FFFFFF;\n",
              "    }\n",
              "  </style>\n",
              "\n",
              "      <script>\n",
              "        const buttonEl =\n",
              "          document.querySelector('#df-16f79305-5ebf-4613-b1c7-bc01a8db8f00 button.colab-df-convert');\n",
              "        buttonEl.style.display =\n",
              "          google.colab.kernel.accessAllowed ? 'block' : 'none';\n",
              "\n",
              "        async function convertToInteractive(key) {\n",
              "          const element = document.querySelector('#df-16f79305-5ebf-4613-b1c7-bc01a8db8f00');\n",
              "          const dataTable =\n",
              "            await google.colab.kernel.invokeFunction('convertToInteractive',\n",
              "                                                     [key], {});\n",
              "          if (!dataTable) return;\n",
              "\n",
              "          const docLinkHtml = 'Like what you see? Visit the ' +\n",
              "            '<a target=\"_blank\" href=https://colab.research.google.com/notebooks/data_table.ipynb>data table notebook</a>'\n",
              "            + ' to learn more about interactive tables.';\n",
              "          element.innerHTML = '';\n",
              "          dataTable['output_type'] = 'display_data';\n",
              "          await google.colab.output.renderOutput(dataTable, element);\n",
              "          const docLink = document.createElement('div');\n",
              "          docLink.innerHTML = docLinkHtml;\n",
              "          element.appendChild(docLink);\n",
              "        }\n",
              "      </script>\n",
              "    </div>\n",
              "  </div>\n",
              "  "
            ]
          },
          "metadata": {},
          "execution_count": 205
        }
      ]
    },
    {
      "cell_type": "code",
      "source": [
        "#Retrieving the \"ID\" column and assigning it to a variable x\n",
        "x = df[['ID']]\n",
        "x"
      ],
      "metadata": {
        "colab": {
          "base_uri": "https://localhost:8080/",
          "height": 175
        },
        "id": "bqkwpDPYbzRG",
        "outputId": "7672728e-f7d0-49d7-fee3-1d4b02542e22"
      },
      "execution_count": 206,
      "outputs": [
        {
          "output_type": "execute_result",
          "data": {
            "text/plain": [
              "   ID\n",
              "0   1\n",
              "1   2\n",
              "2   3\n",
              "3   4"
            ],
            "text/html": [
              "\n",
              "  <div id=\"df-2b4dd3d8-02c2-4306-b726-5372df7c873b\">\n",
              "    <div class=\"colab-df-container\">\n",
              "      <div>\n",
              "<style scoped>\n",
              "    .dataframe tbody tr th:only-of-type {\n",
              "        vertical-align: middle;\n",
              "    }\n",
              "\n",
              "    .dataframe tbody tr th {\n",
              "        vertical-align: top;\n",
              "    }\n",
              "\n",
              "    .dataframe thead th {\n",
              "        text-align: right;\n",
              "    }\n",
              "</style>\n",
              "<table border=\"1\" class=\"dataframe\">\n",
              "  <thead>\n",
              "    <tr style=\"text-align: right;\">\n",
              "      <th></th>\n",
              "      <th>ID</th>\n",
              "    </tr>\n",
              "  </thead>\n",
              "  <tbody>\n",
              "    <tr>\n",
              "      <th>0</th>\n",
              "      <td>1</td>\n",
              "    </tr>\n",
              "    <tr>\n",
              "      <th>1</th>\n",
              "      <td>2</td>\n",
              "    </tr>\n",
              "    <tr>\n",
              "      <th>2</th>\n",
              "      <td>3</td>\n",
              "    </tr>\n",
              "    <tr>\n",
              "      <th>3</th>\n",
              "      <td>4</td>\n",
              "    </tr>\n",
              "  </tbody>\n",
              "</table>\n",
              "</div>\n",
              "      <button class=\"colab-df-convert\" onclick=\"convertToInteractive('df-2b4dd3d8-02c2-4306-b726-5372df7c873b')\"\n",
              "              title=\"Convert this dataframe to an interactive table.\"\n",
              "              style=\"display:none;\">\n",
              "        \n",
              "  <svg xmlns=\"http://www.w3.org/2000/svg\" height=\"24px\"viewBox=\"0 0 24 24\"\n",
              "       width=\"24px\">\n",
              "    <path d=\"M0 0h24v24H0V0z\" fill=\"none\"/>\n",
              "    <path d=\"M18.56 5.44l.94 2.06.94-2.06 2.06-.94-2.06-.94-.94-2.06-.94 2.06-2.06.94zm-11 1L8.5 8.5l.94-2.06 2.06-.94-2.06-.94L8.5 2.5l-.94 2.06-2.06.94zm10 10l.94 2.06.94-2.06 2.06-.94-2.06-.94-.94-2.06-.94 2.06-2.06.94z\"/><path d=\"M17.41 7.96l-1.37-1.37c-.4-.4-.92-.59-1.43-.59-.52 0-1.04.2-1.43.59L10.3 9.45l-7.72 7.72c-.78.78-.78 2.05 0 2.83L4 21.41c.39.39.9.59 1.41.59.51 0 1.02-.2 1.41-.59l7.78-7.78 2.81-2.81c.8-.78.8-2.07 0-2.86zM5.41 20L4 18.59l7.72-7.72 1.47 1.35L5.41 20z\"/>\n",
              "  </svg>\n",
              "      </button>\n",
              "      \n",
              "  <style>\n",
              "    .colab-df-container {\n",
              "      display:flex;\n",
              "      flex-wrap:wrap;\n",
              "      gap: 12px;\n",
              "    }\n",
              "\n",
              "    .colab-df-convert {\n",
              "      background-color: #E8F0FE;\n",
              "      border: none;\n",
              "      border-radius: 50%;\n",
              "      cursor: pointer;\n",
              "      display: none;\n",
              "      fill: #1967D2;\n",
              "      height: 32px;\n",
              "      padding: 0 0 0 0;\n",
              "      width: 32px;\n",
              "    }\n",
              "\n",
              "    .colab-df-convert:hover {\n",
              "      background-color: #E2EBFA;\n",
              "      box-shadow: 0px 1px 2px rgba(60, 64, 67, 0.3), 0px 1px 3px 1px rgba(60, 64, 67, 0.15);\n",
              "      fill: #174EA6;\n",
              "    }\n",
              "\n",
              "    [theme=dark] .colab-df-convert {\n",
              "      background-color: #3B4455;\n",
              "      fill: #D2E3FC;\n",
              "    }\n",
              "\n",
              "    [theme=dark] .colab-df-convert:hover {\n",
              "      background-color: #434B5C;\n",
              "      box-shadow: 0px 1px 3px 1px rgba(0, 0, 0, 0.15);\n",
              "      filter: drop-shadow(0px 1px 2px rgba(0, 0, 0, 0.3));\n",
              "      fill: #FFFFFF;\n",
              "    }\n",
              "  </style>\n",
              "\n",
              "      <script>\n",
              "        const buttonEl =\n",
              "          document.querySelector('#df-2b4dd3d8-02c2-4306-b726-5372df7c873b button.colab-df-convert');\n",
              "        buttonEl.style.display =\n",
              "          google.colab.kernel.accessAllowed ? 'block' : 'none';\n",
              "\n",
              "        async function convertToInteractive(key) {\n",
              "          const element = document.querySelector('#df-2b4dd3d8-02c2-4306-b726-5372df7c873b');\n",
              "          const dataTable =\n",
              "            await google.colab.kernel.invokeFunction('convertToInteractive',\n",
              "                                                     [key], {});\n",
              "          if (!dataTable) return;\n",
              "\n",
              "          const docLinkHtml = 'Like what you see? Visit the ' +\n",
              "            '<a target=\"_blank\" href=https://colab.research.google.com/notebooks/data_table.ipynb>data table notebook</a>'\n",
              "            + ' to learn more about interactive tables.';\n",
              "          element.innerHTML = '';\n",
              "          dataTable['output_type'] = 'display_data';\n",
              "          await google.colab.output.renderOutput(dataTable, element);\n",
              "          const docLink = document.createElement('div');\n",
              "          docLink.innerHTML = docLinkHtml;\n",
              "          element.appendChild(docLink);\n",
              "        }\n",
              "      </script>\n",
              "    </div>\n",
              "  </div>\n",
              "  "
            ]
          },
          "metadata": {},
          "execution_count": 206
        }
      ]
    },
    {
      "cell_type": "code",
      "source": [
        "#check the type of x\n",
        "type(x)"
      ],
      "metadata": {
        "colab": {
          "base_uri": "https://localhost:8080/"
        },
        "id": "-s6HQU8Lb0G7",
        "outputId": "cd8a9aed-7b4b-4136-a8fb-7689fa2c7712"
      },
      "execution_count": 207,
      "outputs": [
        {
          "output_type": "execute_result",
          "data": {
            "text/plain": [
              "pandas.core.frame.DataFrame"
            ]
          },
          "metadata": {},
          "execution_count": 207
        }
      ]
    },
    {
      "cell_type": "code",
      "source": [
        "#Retrieving the Department, Salary and ID columns and assigning it to a variable z\n",
        "\n",
        "z = df[['Department','Salary','ID']]\n",
        "z"
      ],
      "metadata": {
        "colab": {
          "base_uri": "https://localhost:8080/",
          "height": 175
        },
        "id": "2VBd9vtHb4q8",
        "outputId": "4d889d58-968e-4ec3-e602-8edf0584be28"
      },
      "execution_count": 208,
      "outputs": [
        {
          "output_type": "execute_result",
          "data": {
            "text/plain": [
              "        Department  Salary  ID\n",
              "0  Architect Group  100000   1\n",
              "1   Software Group   80000   2\n",
              "2      Design Team   50000   3\n",
              "3   Infrastructure   60000   4"
            ],
            "text/html": [
              "\n",
              "  <div id=\"df-832efef8-2c27-424d-93c6-fbf2ef539b75\">\n",
              "    <div class=\"colab-df-container\">\n",
              "      <div>\n",
              "<style scoped>\n",
              "    .dataframe tbody tr th:only-of-type {\n",
              "        vertical-align: middle;\n",
              "    }\n",
              "\n",
              "    .dataframe tbody tr th {\n",
              "        vertical-align: top;\n",
              "    }\n",
              "\n",
              "    .dataframe thead th {\n",
              "        text-align: right;\n",
              "    }\n",
              "</style>\n",
              "<table border=\"1\" class=\"dataframe\">\n",
              "  <thead>\n",
              "    <tr style=\"text-align: right;\">\n",
              "      <th></th>\n",
              "      <th>Department</th>\n",
              "      <th>Salary</th>\n",
              "      <th>ID</th>\n",
              "    </tr>\n",
              "  </thead>\n",
              "  <tbody>\n",
              "    <tr>\n",
              "      <th>0</th>\n",
              "      <td>Architect Group</td>\n",
              "      <td>100000</td>\n",
              "      <td>1</td>\n",
              "    </tr>\n",
              "    <tr>\n",
              "      <th>1</th>\n",
              "      <td>Software Group</td>\n",
              "      <td>80000</td>\n",
              "      <td>2</td>\n",
              "    </tr>\n",
              "    <tr>\n",
              "      <th>2</th>\n",
              "      <td>Design Team</td>\n",
              "      <td>50000</td>\n",
              "      <td>3</td>\n",
              "    </tr>\n",
              "    <tr>\n",
              "      <th>3</th>\n",
              "      <td>Infrastructure</td>\n",
              "      <td>60000</td>\n",
              "      <td>4</td>\n",
              "    </tr>\n",
              "  </tbody>\n",
              "</table>\n",
              "</div>\n",
              "      <button class=\"colab-df-convert\" onclick=\"convertToInteractive('df-832efef8-2c27-424d-93c6-fbf2ef539b75')\"\n",
              "              title=\"Convert this dataframe to an interactive table.\"\n",
              "              style=\"display:none;\">\n",
              "        \n",
              "  <svg xmlns=\"http://www.w3.org/2000/svg\" height=\"24px\"viewBox=\"0 0 24 24\"\n",
              "       width=\"24px\">\n",
              "    <path d=\"M0 0h24v24H0V0z\" fill=\"none\"/>\n",
              "    <path d=\"M18.56 5.44l.94 2.06.94-2.06 2.06-.94-2.06-.94-.94-2.06-.94 2.06-2.06.94zm-11 1L8.5 8.5l.94-2.06 2.06-.94-2.06-.94L8.5 2.5l-.94 2.06-2.06.94zm10 10l.94 2.06.94-2.06 2.06-.94-2.06-.94-.94-2.06-.94 2.06-2.06.94z\"/><path d=\"M17.41 7.96l-1.37-1.37c-.4-.4-.92-.59-1.43-.59-.52 0-1.04.2-1.43.59L10.3 9.45l-7.72 7.72c-.78.78-.78 2.05 0 2.83L4 21.41c.39.39.9.59 1.41.59.51 0 1.02-.2 1.41-.59l7.78-7.78 2.81-2.81c.8-.78.8-2.07 0-2.86zM5.41 20L4 18.59l7.72-7.72 1.47 1.35L5.41 20z\"/>\n",
              "  </svg>\n",
              "      </button>\n",
              "      \n",
              "  <style>\n",
              "    .colab-df-container {\n",
              "      display:flex;\n",
              "      flex-wrap:wrap;\n",
              "      gap: 12px;\n",
              "    }\n",
              "\n",
              "    .colab-df-convert {\n",
              "      background-color: #E8F0FE;\n",
              "      border: none;\n",
              "      border-radius: 50%;\n",
              "      cursor: pointer;\n",
              "      display: none;\n",
              "      fill: #1967D2;\n",
              "      height: 32px;\n",
              "      padding: 0 0 0 0;\n",
              "      width: 32px;\n",
              "    }\n",
              "\n",
              "    .colab-df-convert:hover {\n",
              "      background-color: #E2EBFA;\n",
              "      box-shadow: 0px 1px 2px rgba(60, 64, 67, 0.3), 0px 1px 3px 1px rgba(60, 64, 67, 0.15);\n",
              "      fill: #174EA6;\n",
              "    }\n",
              "\n",
              "    [theme=dark] .colab-df-convert {\n",
              "      background-color: #3B4455;\n",
              "      fill: #D2E3FC;\n",
              "    }\n",
              "\n",
              "    [theme=dark] .colab-df-convert:hover {\n",
              "      background-color: #434B5C;\n",
              "      box-shadow: 0px 1px 3px 1px rgba(0, 0, 0, 0.15);\n",
              "      filter: drop-shadow(0px 1px 2px rgba(0, 0, 0, 0.3));\n",
              "      fill: #FFFFFF;\n",
              "    }\n",
              "  </style>\n",
              "\n",
              "      <script>\n",
              "        const buttonEl =\n",
              "          document.querySelector('#df-832efef8-2c27-424d-93c6-fbf2ef539b75 button.colab-df-convert');\n",
              "        buttonEl.style.display =\n",
              "          google.colab.kernel.accessAllowed ? 'block' : 'none';\n",
              "\n",
              "        async function convertToInteractive(key) {\n",
              "          const element = document.querySelector('#df-832efef8-2c27-424d-93c6-fbf2ef539b75');\n",
              "          const dataTable =\n",
              "            await google.colab.kernel.invokeFunction('convertToInteractive',\n",
              "                                                     [key], {});\n",
              "          if (!dataTable) return;\n",
              "\n",
              "          const docLinkHtml = 'Like what you see? Visit the ' +\n",
              "            '<a target=\"_blank\" href=https://colab.research.google.com/notebooks/data_table.ipynb>data table notebook</a>'\n",
              "            + ' to learn more about interactive tables.';\n",
              "          element.innerHTML = '';\n",
              "          dataTable['output_type'] = 'display_data';\n",
              "          await google.colab.output.renderOutput(dataTable, element);\n",
              "          const docLink = document.createElement('div');\n",
              "          docLink.innerHTML = docLinkHtml;\n",
              "          element.appendChild(docLink);\n",
              "        }\n",
              "      </script>\n",
              "    </div>\n",
              "  </div>\n",
              "  "
            ]
          },
          "metadata": {},
          "execution_count": 208
        }
      ]
    },
    {
      "cell_type": "markdown",
      "source": [
        "Problem 1: Create a dataframe to display the result as below:"
      ],
      "metadata": {
        "id": "fiChXvF9b8MQ"
      }
    },
    {
      "cell_type": "code",
      "source": [
        "#write your code here\n",
        "a = {'Student':['David', 'Samuel', 'Terry', 'Evan'],\n",
        "     'Age':['27', '24', '22', '32'],\n",
        "     'Country':['UK', 'Canada', 'China', 'USA'],\n",
        "     'Course':['Python','Data Structures','Machine Learning','Web Development'],\n",
        "     'Marks':['85','72','89','76']}\n",
        "df1 = pd.DataFrame(a)\n",
        "df1"
      ],
      "metadata": {
        "colab": {
          "base_uri": "https://localhost:8080/",
          "height": 175
        },
        "id": "tjjqJ2jTb8he",
        "outputId": "3ac0d712-3bc7-48bf-d0f1-20e24ed84fba"
      },
      "execution_count": 209,
      "outputs": [
        {
          "output_type": "execute_result",
          "data": {
            "text/plain": [
              "  Student Age Country            Course Marks\n",
              "0   David  27      UK            Python    85\n",
              "1  Samuel  24  Canada   Data Structures    72\n",
              "2   Terry  22   China  Machine Learning    89\n",
              "3    Evan  32     USA   Web Development    76"
            ],
            "text/html": [
              "\n",
              "  <div id=\"df-e38fcfaa-66d4-48a3-87b9-7d5879433292\">\n",
              "    <div class=\"colab-df-container\">\n",
              "      <div>\n",
              "<style scoped>\n",
              "    .dataframe tbody tr th:only-of-type {\n",
              "        vertical-align: middle;\n",
              "    }\n",
              "\n",
              "    .dataframe tbody tr th {\n",
              "        vertical-align: top;\n",
              "    }\n",
              "\n",
              "    .dataframe thead th {\n",
              "        text-align: right;\n",
              "    }\n",
              "</style>\n",
              "<table border=\"1\" class=\"dataframe\">\n",
              "  <thead>\n",
              "    <tr style=\"text-align: right;\">\n",
              "      <th></th>\n",
              "      <th>Student</th>\n",
              "      <th>Age</th>\n",
              "      <th>Country</th>\n",
              "      <th>Course</th>\n",
              "      <th>Marks</th>\n",
              "    </tr>\n",
              "  </thead>\n",
              "  <tbody>\n",
              "    <tr>\n",
              "      <th>0</th>\n",
              "      <td>David</td>\n",
              "      <td>27</td>\n",
              "      <td>UK</td>\n",
              "      <td>Python</td>\n",
              "      <td>85</td>\n",
              "    </tr>\n",
              "    <tr>\n",
              "      <th>1</th>\n",
              "      <td>Samuel</td>\n",
              "      <td>24</td>\n",
              "      <td>Canada</td>\n",
              "      <td>Data Structures</td>\n",
              "      <td>72</td>\n",
              "    </tr>\n",
              "    <tr>\n",
              "      <th>2</th>\n",
              "      <td>Terry</td>\n",
              "      <td>22</td>\n",
              "      <td>China</td>\n",
              "      <td>Machine Learning</td>\n",
              "      <td>89</td>\n",
              "    </tr>\n",
              "    <tr>\n",
              "      <th>3</th>\n",
              "      <td>Evan</td>\n",
              "      <td>32</td>\n",
              "      <td>USA</td>\n",
              "      <td>Web Development</td>\n",
              "      <td>76</td>\n",
              "    </tr>\n",
              "  </tbody>\n",
              "</table>\n",
              "</div>\n",
              "      <button class=\"colab-df-convert\" onclick=\"convertToInteractive('df-e38fcfaa-66d4-48a3-87b9-7d5879433292')\"\n",
              "              title=\"Convert this dataframe to an interactive table.\"\n",
              "              style=\"display:none;\">\n",
              "        \n",
              "  <svg xmlns=\"http://www.w3.org/2000/svg\" height=\"24px\"viewBox=\"0 0 24 24\"\n",
              "       width=\"24px\">\n",
              "    <path d=\"M0 0h24v24H0V0z\" fill=\"none\"/>\n",
              "    <path d=\"M18.56 5.44l.94 2.06.94-2.06 2.06-.94-2.06-.94-.94-2.06-.94 2.06-2.06.94zm-11 1L8.5 8.5l.94-2.06 2.06-.94-2.06-.94L8.5 2.5l-.94 2.06-2.06.94zm10 10l.94 2.06.94-2.06 2.06-.94-2.06-.94-.94-2.06-.94 2.06-2.06.94z\"/><path d=\"M17.41 7.96l-1.37-1.37c-.4-.4-.92-.59-1.43-.59-.52 0-1.04.2-1.43.59L10.3 9.45l-7.72 7.72c-.78.78-.78 2.05 0 2.83L4 21.41c.39.39.9.59 1.41.59.51 0 1.02-.2 1.41-.59l7.78-7.78 2.81-2.81c.8-.78.8-2.07 0-2.86zM5.41 20L4 18.59l7.72-7.72 1.47 1.35L5.41 20z\"/>\n",
              "  </svg>\n",
              "      </button>\n",
              "      \n",
              "  <style>\n",
              "    .colab-df-container {\n",
              "      display:flex;\n",
              "      flex-wrap:wrap;\n",
              "      gap: 12px;\n",
              "    }\n",
              "\n",
              "    .colab-df-convert {\n",
              "      background-color: #E8F0FE;\n",
              "      border: none;\n",
              "      border-radius: 50%;\n",
              "      cursor: pointer;\n",
              "      display: none;\n",
              "      fill: #1967D2;\n",
              "      height: 32px;\n",
              "      padding: 0 0 0 0;\n",
              "      width: 32px;\n",
              "    }\n",
              "\n",
              "    .colab-df-convert:hover {\n",
              "      background-color: #E2EBFA;\n",
              "      box-shadow: 0px 1px 2px rgba(60, 64, 67, 0.3), 0px 1px 3px 1px rgba(60, 64, 67, 0.15);\n",
              "      fill: #174EA6;\n",
              "    }\n",
              "\n",
              "    [theme=dark] .colab-df-convert {\n",
              "      background-color: #3B4455;\n",
              "      fill: #D2E3FC;\n",
              "    }\n",
              "\n",
              "    [theme=dark] .colab-df-convert:hover {\n",
              "      background-color: #434B5C;\n",
              "      box-shadow: 0px 1px 3px 1px rgba(0, 0, 0, 0.15);\n",
              "      filter: drop-shadow(0px 1px 2px rgba(0, 0, 0, 0.3));\n",
              "      fill: #FFFFFF;\n",
              "    }\n",
              "  </style>\n",
              "\n",
              "      <script>\n",
              "        const buttonEl =\n",
              "          document.querySelector('#df-e38fcfaa-66d4-48a3-87b9-7d5879433292 button.colab-df-convert');\n",
              "        buttonEl.style.display =\n",
              "          google.colab.kernel.accessAllowed ? 'block' : 'none';\n",
              "\n",
              "        async function convertToInteractive(key) {\n",
              "          const element = document.querySelector('#df-e38fcfaa-66d4-48a3-87b9-7d5879433292');\n",
              "          const dataTable =\n",
              "            await google.colab.kernel.invokeFunction('convertToInteractive',\n",
              "                                                     [key], {});\n",
              "          if (!dataTable) return;\n",
              "\n",
              "          const docLinkHtml = 'Like what you see? Visit the ' +\n",
              "            '<a target=\"_blank\" href=https://colab.research.google.com/notebooks/data_table.ipynb>data table notebook</a>'\n",
              "            + ' to learn more about interactive tables.';\n",
              "          element.innerHTML = '';\n",
              "          dataTable['output_type'] = 'display_data';\n",
              "          await google.colab.output.renderOutput(dataTable, element);\n",
              "          const docLink = document.createElement('div');\n",
              "          docLink.innerHTML = docLinkHtml;\n",
              "          element.appendChild(docLink);\n",
              "        }\n",
              "      </script>\n",
              "    </div>\n",
              "  </div>\n",
              "  "
            ]
          },
          "metadata": {},
          "execution_count": 209
        }
      ]
    },
    {
      "cell_type": "markdown",
      "source": [
        "Problem 2: Retrieve the Marks column and assign it to a variable b"
      ],
      "metadata": {
        "id": "BxbzPgDGcAZk"
      }
    },
    {
      "cell_type": "code",
      "source": [
        "#write your code here\n",
        "b = df1[['Marks']]\n",
        "b"
      ],
      "metadata": {
        "colab": {
          "base_uri": "https://localhost:8080/",
          "height": 175
        },
        "id": "2KM1exzDcA2Y",
        "outputId": "bfb38b7a-60d7-4c39-f68b-e72f040b5212"
      },
      "execution_count": 210,
      "outputs": [
        {
          "output_type": "execute_result",
          "data": {
            "text/plain": [
              "  Marks\n",
              "0    85\n",
              "1    72\n",
              "2    89\n",
              "3    76"
            ],
            "text/html": [
              "\n",
              "  <div id=\"df-bb7e9165-12c2-46d0-8621-37851ff65e45\">\n",
              "    <div class=\"colab-df-container\">\n",
              "      <div>\n",
              "<style scoped>\n",
              "    .dataframe tbody tr th:only-of-type {\n",
              "        vertical-align: middle;\n",
              "    }\n",
              "\n",
              "    .dataframe tbody tr th {\n",
              "        vertical-align: top;\n",
              "    }\n",
              "\n",
              "    .dataframe thead th {\n",
              "        text-align: right;\n",
              "    }\n",
              "</style>\n",
              "<table border=\"1\" class=\"dataframe\">\n",
              "  <thead>\n",
              "    <tr style=\"text-align: right;\">\n",
              "      <th></th>\n",
              "      <th>Marks</th>\n",
              "    </tr>\n",
              "  </thead>\n",
              "  <tbody>\n",
              "    <tr>\n",
              "      <th>0</th>\n",
              "      <td>85</td>\n",
              "    </tr>\n",
              "    <tr>\n",
              "      <th>1</th>\n",
              "      <td>72</td>\n",
              "    </tr>\n",
              "    <tr>\n",
              "      <th>2</th>\n",
              "      <td>89</td>\n",
              "    </tr>\n",
              "    <tr>\n",
              "      <th>3</th>\n",
              "      <td>76</td>\n",
              "    </tr>\n",
              "  </tbody>\n",
              "</table>\n",
              "</div>\n",
              "      <button class=\"colab-df-convert\" onclick=\"convertToInteractive('df-bb7e9165-12c2-46d0-8621-37851ff65e45')\"\n",
              "              title=\"Convert this dataframe to an interactive table.\"\n",
              "              style=\"display:none;\">\n",
              "        \n",
              "  <svg xmlns=\"http://www.w3.org/2000/svg\" height=\"24px\"viewBox=\"0 0 24 24\"\n",
              "       width=\"24px\">\n",
              "    <path d=\"M0 0h24v24H0V0z\" fill=\"none\"/>\n",
              "    <path d=\"M18.56 5.44l.94 2.06.94-2.06 2.06-.94-2.06-.94-.94-2.06-.94 2.06-2.06.94zm-11 1L8.5 8.5l.94-2.06 2.06-.94-2.06-.94L8.5 2.5l-.94 2.06-2.06.94zm10 10l.94 2.06.94-2.06 2.06-.94-2.06-.94-.94-2.06-.94 2.06-2.06.94z\"/><path d=\"M17.41 7.96l-1.37-1.37c-.4-.4-.92-.59-1.43-.59-.52 0-1.04.2-1.43.59L10.3 9.45l-7.72 7.72c-.78.78-.78 2.05 0 2.83L4 21.41c.39.39.9.59 1.41.59.51 0 1.02-.2 1.41-.59l7.78-7.78 2.81-2.81c.8-.78.8-2.07 0-2.86zM5.41 20L4 18.59l7.72-7.72 1.47 1.35L5.41 20z\"/>\n",
              "  </svg>\n",
              "      </button>\n",
              "      \n",
              "  <style>\n",
              "    .colab-df-container {\n",
              "      display:flex;\n",
              "      flex-wrap:wrap;\n",
              "      gap: 12px;\n",
              "    }\n",
              "\n",
              "    .colab-df-convert {\n",
              "      background-color: #E8F0FE;\n",
              "      border: none;\n",
              "      border-radius: 50%;\n",
              "      cursor: pointer;\n",
              "      display: none;\n",
              "      fill: #1967D2;\n",
              "      height: 32px;\n",
              "      padding: 0 0 0 0;\n",
              "      width: 32px;\n",
              "    }\n",
              "\n",
              "    .colab-df-convert:hover {\n",
              "      background-color: #E2EBFA;\n",
              "      box-shadow: 0px 1px 2px rgba(60, 64, 67, 0.3), 0px 1px 3px 1px rgba(60, 64, 67, 0.15);\n",
              "      fill: #174EA6;\n",
              "    }\n",
              "\n",
              "    [theme=dark] .colab-df-convert {\n",
              "      background-color: #3B4455;\n",
              "      fill: #D2E3FC;\n",
              "    }\n",
              "\n",
              "    [theme=dark] .colab-df-convert:hover {\n",
              "      background-color: #434B5C;\n",
              "      box-shadow: 0px 1px 3px 1px rgba(0, 0, 0, 0.15);\n",
              "      filter: drop-shadow(0px 1px 2px rgba(0, 0, 0, 0.3));\n",
              "      fill: #FFFFFF;\n",
              "    }\n",
              "  </style>\n",
              "\n",
              "      <script>\n",
              "        const buttonEl =\n",
              "          document.querySelector('#df-bb7e9165-12c2-46d0-8621-37851ff65e45 button.colab-df-convert');\n",
              "        buttonEl.style.display =\n",
              "          google.colab.kernel.accessAllowed ? 'block' : 'none';\n",
              "\n",
              "        async function convertToInteractive(key) {\n",
              "          const element = document.querySelector('#df-bb7e9165-12c2-46d0-8621-37851ff65e45');\n",
              "          const dataTable =\n",
              "            await google.colab.kernel.invokeFunction('convertToInteractive',\n",
              "                                                     [key], {});\n",
              "          if (!dataTable) return;\n",
              "\n",
              "          const docLinkHtml = 'Like what you see? Visit the ' +\n",
              "            '<a target=\"_blank\" href=https://colab.research.google.com/notebooks/data_table.ipynb>data table notebook</a>'\n",
              "            + ' to learn more about interactive tables.';\n",
              "          element.innerHTML = '';\n",
              "          dataTable['output_type'] = 'display_data';\n",
              "          await google.colab.output.renderOutput(dataTable, element);\n",
              "          const docLink = document.createElement('div');\n",
              "          docLink.innerHTML = docLinkHtml;\n",
              "          element.appendChild(docLink);\n",
              "        }\n",
              "      </script>\n",
              "    </div>\n",
              "  </div>\n",
              "  "
            ]
          },
          "metadata": {},
          "execution_count": 210
        }
      ]
    },
    {
      "cell_type": "markdown",
      "source": [
        "Problem 3: Retrieve the Country and Course columns and assign it to a variable c"
      ],
      "metadata": {
        "id": "2bL6KqCucGu1"
      }
    },
    {
      "cell_type": "code",
      "source": [
        "#write your code here\n",
        "c = df1[['Country','Course']]\n",
        "c"
      ],
      "metadata": {
        "colab": {
          "base_uri": "https://localhost:8080/",
          "height": 175
        },
        "id": "zoFCefS6cHHq",
        "outputId": "f129121d-7c4d-408c-8eb4-ec61899de4d4"
      },
      "execution_count": 211,
      "outputs": [
        {
          "output_type": "execute_result",
          "data": {
            "text/plain": [
              "  Country            Course\n",
              "0      UK            Python\n",
              "1  Canada   Data Structures\n",
              "2   China  Machine Learning\n",
              "3     USA   Web Development"
            ],
            "text/html": [
              "\n",
              "  <div id=\"df-d0012286-6e30-4936-b165-0ea62edbe179\">\n",
              "    <div class=\"colab-df-container\">\n",
              "      <div>\n",
              "<style scoped>\n",
              "    .dataframe tbody tr th:only-of-type {\n",
              "        vertical-align: middle;\n",
              "    }\n",
              "\n",
              "    .dataframe tbody tr th {\n",
              "        vertical-align: top;\n",
              "    }\n",
              "\n",
              "    .dataframe thead th {\n",
              "        text-align: right;\n",
              "    }\n",
              "</style>\n",
              "<table border=\"1\" class=\"dataframe\">\n",
              "  <thead>\n",
              "    <tr style=\"text-align: right;\">\n",
              "      <th></th>\n",
              "      <th>Country</th>\n",
              "      <th>Course</th>\n",
              "    </tr>\n",
              "  </thead>\n",
              "  <tbody>\n",
              "    <tr>\n",
              "      <th>0</th>\n",
              "      <td>UK</td>\n",
              "      <td>Python</td>\n",
              "    </tr>\n",
              "    <tr>\n",
              "      <th>1</th>\n",
              "      <td>Canada</td>\n",
              "      <td>Data Structures</td>\n",
              "    </tr>\n",
              "    <tr>\n",
              "      <th>2</th>\n",
              "      <td>China</td>\n",
              "      <td>Machine Learning</td>\n",
              "    </tr>\n",
              "    <tr>\n",
              "      <th>3</th>\n",
              "      <td>USA</td>\n",
              "      <td>Web Development</td>\n",
              "    </tr>\n",
              "  </tbody>\n",
              "</table>\n",
              "</div>\n",
              "      <button class=\"colab-df-convert\" onclick=\"convertToInteractive('df-d0012286-6e30-4936-b165-0ea62edbe179')\"\n",
              "              title=\"Convert this dataframe to an interactive table.\"\n",
              "              style=\"display:none;\">\n",
              "        \n",
              "  <svg xmlns=\"http://www.w3.org/2000/svg\" height=\"24px\"viewBox=\"0 0 24 24\"\n",
              "       width=\"24px\">\n",
              "    <path d=\"M0 0h24v24H0V0z\" fill=\"none\"/>\n",
              "    <path d=\"M18.56 5.44l.94 2.06.94-2.06 2.06-.94-2.06-.94-.94-2.06-.94 2.06-2.06.94zm-11 1L8.5 8.5l.94-2.06 2.06-.94-2.06-.94L8.5 2.5l-.94 2.06-2.06.94zm10 10l.94 2.06.94-2.06 2.06-.94-2.06-.94-.94-2.06-.94 2.06-2.06.94z\"/><path d=\"M17.41 7.96l-1.37-1.37c-.4-.4-.92-.59-1.43-.59-.52 0-1.04.2-1.43.59L10.3 9.45l-7.72 7.72c-.78.78-.78 2.05 0 2.83L4 21.41c.39.39.9.59 1.41.59.51 0 1.02-.2 1.41-.59l7.78-7.78 2.81-2.81c.8-.78.8-2.07 0-2.86zM5.41 20L4 18.59l7.72-7.72 1.47 1.35L5.41 20z\"/>\n",
              "  </svg>\n",
              "      </button>\n",
              "      \n",
              "  <style>\n",
              "    .colab-df-container {\n",
              "      display:flex;\n",
              "      flex-wrap:wrap;\n",
              "      gap: 12px;\n",
              "    }\n",
              "\n",
              "    .colab-df-convert {\n",
              "      background-color: #E8F0FE;\n",
              "      border: none;\n",
              "      border-radius: 50%;\n",
              "      cursor: pointer;\n",
              "      display: none;\n",
              "      fill: #1967D2;\n",
              "      height: 32px;\n",
              "      padding: 0 0 0 0;\n",
              "      width: 32px;\n",
              "    }\n",
              "\n",
              "    .colab-df-convert:hover {\n",
              "      background-color: #E2EBFA;\n",
              "      box-shadow: 0px 1px 2px rgba(60, 64, 67, 0.3), 0px 1px 3px 1px rgba(60, 64, 67, 0.15);\n",
              "      fill: #174EA6;\n",
              "    }\n",
              "\n",
              "    [theme=dark] .colab-df-convert {\n",
              "      background-color: #3B4455;\n",
              "      fill: #D2E3FC;\n",
              "    }\n",
              "\n",
              "    [theme=dark] .colab-df-convert:hover {\n",
              "      background-color: #434B5C;\n",
              "      box-shadow: 0px 1px 3px 1px rgba(0, 0, 0, 0.15);\n",
              "      filter: drop-shadow(0px 1px 2px rgba(0, 0, 0, 0.3));\n",
              "      fill: #FFFFFF;\n",
              "    }\n",
              "  </style>\n",
              "\n",
              "      <script>\n",
              "        const buttonEl =\n",
              "          document.querySelector('#df-d0012286-6e30-4936-b165-0ea62edbe179 button.colab-df-convert');\n",
              "        buttonEl.style.display =\n",
              "          google.colab.kernel.accessAllowed ? 'block' : 'none';\n",
              "\n",
              "        async function convertToInteractive(key) {\n",
              "          const element = document.querySelector('#df-d0012286-6e30-4936-b165-0ea62edbe179');\n",
              "          const dataTable =\n",
              "            await google.colab.kernel.invokeFunction('convertToInteractive',\n",
              "                                                     [key], {});\n",
              "          if (!dataTable) return;\n",
              "\n",
              "          const docLinkHtml = 'Like what you see? Visit the ' +\n",
              "            '<a target=\"_blank\" href=https://colab.research.google.com/notebooks/data_table.ipynb>data table notebook</a>'\n",
              "            + ' to learn more about interactive tables.';\n",
              "          element.innerHTML = '';\n",
              "          dataTable['output_type'] = 'display_data';\n",
              "          await google.colab.output.renderOutput(dataTable, element);\n",
              "          const docLink = document.createElement('div');\n",
              "          docLink.innerHTML = docLinkHtml;\n",
              "          element.appendChild(docLink);\n",
              "        }\n",
              "      </script>\n",
              "    </div>\n",
              "  </div>\n",
              "  "
            ]
          },
          "metadata": {},
          "execution_count": 211
        }
      ]
    },
    {
      "cell_type": "code",
      "source": [
        "# Get the Name column as a series Object\n",
        "\n",
        "x = df['Name']\n",
        "x"
      ],
      "metadata": {
        "colab": {
          "base_uri": "https://localhost:8080/"
        },
        "id": "bUDUEhLvcLoI",
        "outputId": "f330ee1d-4c21-4c92-de90-c75a250b3fe2"
      },
      "execution_count": 212,
      "outputs": [
        {
          "output_type": "execute_result",
          "data": {
            "text/plain": [
              "0    Rose\n",
              "1    John\n",
              "2    Jane\n",
              "3    Mary\n",
              "Name: Name, dtype: object"
            ]
          },
          "metadata": {},
          "execution_count": 212
        }
      ]
    },
    {
      "cell_type": "code",
      "source": [
        "# Access the value on the first row and the first column\n",
        "\n",
        "df.iloc[0, 0]"
      ],
      "metadata": {
        "colab": {
          "base_uri": "https://localhost:8080/",
          "height": 35
        },
        "id": "gT4kF5djcPrJ",
        "outputId": "67d90acd-f8ba-4988-85f8-84c10e764d03"
      },
      "execution_count": 213,
      "outputs": [
        {
          "output_type": "execute_result",
          "data": {
            "text/plain": [
              "'Rose'"
            ],
            "application/vnd.google.colaboratory.intrinsic+json": {
              "type": "string"
            }
          },
          "metadata": {},
          "execution_count": 213
        }
      ]
    },
    {
      "cell_type": "code",
      "source": [
        "# Access the value on the first row and the third column\n",
        "\n",
        "df.iloc[0,2]"
      ],
      "metadata": {
        "colab": {
          "base_uri": "https://localhost:8080/",
          "height": 35
        },
        "id": "UzelZBclcQaK",
        "outputId": "6c7792ce-5c1f-405f-e14b-be1dbf285d1c"
      },
      "execution_count": 214,
      "outputs": [
        {
          "output_type": "execute_result",
          "data": {
            "text/plain": [
              "'Architect Group'"
            ],
            "application/vnd.google.colaboratory.intrinsic+json": {
              "type": "string"
            }
          },
          "metadata": {},
          "execution_count": 214
        }
      ]
    },
    {
      "cell_type": "code",
      "source": [
        "# Access the column using the name\n",
        "\n",
        "df.loc[0, 'Salary']"
      ],
      "metadata": {
        "colab": {
          "base_uri": "https://localhost:8080/"
        },
        "id": "QYoBF-5FcSSf",
        "outputId": "7369c6f8-3238-485e-b905-5938c199fc20"
      },
      "execution_count": 215,
      "outputs": [
        {
          "output_type": "execute_result",
          "data": {
            "text/plain": [
              "100000"
            ]
          },
          "metadata": {},
          "execution_count": 215
        }
      ]
    },
    {
      "cell_type": "code",
      "source": [
        "df2=df\n",
        "df2=df2.set_index(\"Name\")"
      ],
      "metadata": {
        "id": "9YPecxGKcT-B"
      },
      "execution_count": 216,
      "outputs": []
    },
    {
      "cell_type": "code",
      "source": [
        "#To display the first 5 rows of new dataframe\n",
        "df2.head()"
      ],
      "metadata": {
        "colab": {
          "base_uri": "https://localhost:8080/",
          "height": 206
        },
        "id": "MRzLYYPacWuq",
        "outputId": "af01fd1d-c2e9-44bc-da65-ac64529196f7"
      },
      "execution_count": 217,
      "outputs": [
        {
          "output_type": "execute_result",
          "data": {
            "text/plain": [
              "      ID       Department  Salary\n",
              "Name                             \n",
              "Rose   1  Architect Group  100000\n",
              "John   2   Software Group   80000\n",
              "Jane   3      Design Team   50000\n",
              "Mary   4   Infrastructure   60000"
            ],
            "text/html": [
              "\n",
              "  <div id=\"df-d6a42feb-6e22-4c5e-8bb3-6f6826d90424\">\n",
              "    <div class=\"colab-df-container\">\n",
              "      <div>\n",
              "<style scoped>\n",
              "    .dataframe tbody tr th:only-of-type {\n",
              "        vertical-align: middle;\n",
              "    }\n",
              "\n",
              "    .dataframe tbody tr th {\n",
              "        vertical-align: top;\n",
              "    }\n",
              "\n",
              "    .dataframe thead th {\n",
              "        text-align: right;\n",
              "    }\n",
              "</style>\n",
              "<table border=\"1\" class=\"dataframe\">\n",
              "  <thead>\n",
              "    <tr style=\"text-align: right;\">\n",
              "      <th></th>\n",
              "      <th>ID</th>\n",
              "      <th>Department</th>\n",
              "      <th>Salary</th>\n",
              "    </tr>\n",
              "    <tr>\n",
              "      <th>Name</th>\n",
              "      <th></th>\n",
              "      <th></th>\n",
              "      <th></th>\n",
              "    </tr>\n",
              "  </thead>\n",
              "  <tbody>\n",
              "    <tr>\n",
              "      <th>Rose</th>\n",
              "      <td>1</td>\n",
              "      <td>Architect Group</td>\n",
              "      <td>100000</td>\n",
              "    </tr>\n",
              "    <tr>\n",
              "      <th>John</th>\n",
              "      <td>2</td>\n",
              "      <td>Software Group</td>\n",
              "      <td>80000</td>\n",
              "    </tr>\n",
              "    <tr>\n",
              "      <th>Jane</th>\n",
              "      <td>3</td>\n",
              "      <td>Design Team</td>\n",
              "      <td>50000</td>\n",
              "    </tr>\n",
              "    <tr>\n",
              "      <th>Mary</th>\n",
              "      <td>4</td>\n",
              "      <td>Infrastructure</td>\n",
              "      <td>60000</td>\n",
              "    </tr>\n",
              "  </tbody>\n",
              "</table>\n",
              "</div>\n",
              "      <button class=\"colab-df-convert\" onclick=\"convertToInteractive('df-d6a42feb-6e22-4c5e-8bb3-6f6826d90424')\"\n",
              "              title=\"Convert this dataframe to an interactive table.\"\n",
              "              style=\"display:none;\">\n",
              "        \n",
              "  <svg xmlns=\"http://www.w3.org/2000/svg\" height=\"24px\"viewBox=\"0 0 24 24\"\n",
              "       width=\"24px\">\n",
              "    <path d=\"M0 0h24v24H0V0z\" fill=\"none\"/>\n",
              "    <path d=\"M18.56 5.44l.94 2.06.94-2.06 2.06-.94-2.06-.94-.94-2.06-.94 2.06-2.06.94zm-11 1L8.5 8.5l.94-2.06 2.06-.94-2.06-.94L8.5 2.5l-.94 2.06-2.06.94zm10 10l.94 2.06.94-2.06 2.06-.94-2.06-.94-.94-2.06-.94 2.06-2.06.94z\"/><path d=\"M17.41 7.96l-1.37-1.37c-.4-.4-.92-.59-1.43-.59-.52 0-1.04.2-1.43.59L10.3 9.45l-7.72 7.72c-.78.78-.78 2.05 0 2.83L4 21.41c.39.39.9.59 1.41.59.51 0 1.02-.2 1.41-.59l7.78-7.78 2.81-2.81c.8-.78.8-2.07 0-2.86zM5.41 20L4 18.59l7.72-7.72 1.47 1.35L5.41 20z\"/>\n",
              "  </svg>\n",
              "      </button>\n",
              "      \n",
              "  <style>\n",
              "    .colab-df-container {\n",
              "      display:flex;\n",
              "      flex-wrap:wrap;\n",
              "      gap: 12px;\n",
              "    }\n",
              "\n",
              "    .colab-df-convert {\n",
              "      background-color: #E8F0FE;\n",
              "      border: none;\n",
              "      border-radius: 50%;\n",
              "      cursor: pointer;\n",
              "      display: none;\n",
              "      fill: #1967D2;\n",
              "      height: 32px;\n",
              "      padding: 0 0 0 0;\n",
              "      width: 32px;\n",
              "    }\n",
              "\n",
              "    .colab-df-convert:hover {\n",
              "      background-color: #E2EBFA;\n",
              "      box-shadow: 0px 1px 2px rgba(60, 64, 67, 0.3), 0px 1px 3px 1px rgba(60, 64, 67, 0.15);\n",
              "      fill: #174EA6;\n",
              "    }\n",
              "\n",
              "    [theme=dark] .colab-df-convert {\n",
              "      background-color: #3B4455;\n",
              "      fill: #D2E3FC;\n",
              "    }\n",
              "\n",
              "    [theme=dark] .colab-df-convert:hover {\n",
              "      background-color: #434B5C;\n",
              "      box-shadow: 0px 1px 3px 1px rgba(0, 0, 0, 0.15);\n",
              "      filter: drop-shadow(0px 1px 2px rgba(0, 0, 0, 0.3));\n",
              "      fill: #FFFFFF;\n",
              "    }\n",
              "  </style>\n",
              "\n",
              "      <script>\n",
              "        const buttonEl =\n",
              "          document.querySelector('#df-d6a42feb-6e22-4c5e-8bb3-6f6826d90424 button.colab-df-convert');\n",
              "        buttonEl.style.display =\n",
              "          google.colab.kernel.accessAllowed ? 'block' : 'none';\n",
              "\n",
              "        async function convertToInteractive(key) {\n",
              "          const element = document.querySelector('#df-d6a42feb-6e22-4c5e-8bb3-6f6826d90424');\n",
              "          const dataTable =\n",
              "            await google.colab.kernel.invokeFunction('convertToInteractive',\n",
              "                                                     [key], {});\n",
              "          if (!dataTable) return;\n",
              "\n",
              "          const docLinkHtml = 'Like what you see? Visit the ' +\n",
              "            '<a target=\"_blank\" href=https://colab.research.google.com/notebooks/data_table.ipynb>data table notebook</a>'\n",
              "            + ' to learn more about interactive tables.';\n",
              "          element.innerHTML = '';\n",
              "          dataTable['output_type'] = 'display_data';\n",
              "          await google.colab.output.renderOutput(dataTable, element);\n",
              "          const docLink = document.createElement('div');\n",
              "          docLink.innerHTML = docLinkHtml;\n",
              "          element.appendChild(docLink);\n",
              "        }\n",
              "      </script>\n",
              "    </div>\n",
              "  </div>\n",
              "  "
            ]
          },
          "metadata": {},
          "execution_count": 217
        }
      ]
    },
    {
      "cell_type": "code",
      "source": [
        "#Now, let us access the column using the name\n",
        "df2.loc['Jane', 'Salary']"
      ],
      "metadata": {
        "colab": {
          "base_uri": "https://localhost:8080/"
        },
        "id": "szK78fdZcY-L",
        "outputId": "3602b130-7605-414a-b1d9-ded985db0487"
      },
      "execution_count": 218,
      "outputs": [
        {
          "output_type": "execute_result",
          "data": {
            "text/plain": [
              "50000"
            ]
          },
          "metadata": {},
          "execution_count": 218
        }
      ]
    },
    {
      "cell_type": "code",
      "source": [
        "df2.loc['Jane', 'Department']"
      ],
      "metadata": {
        "colab": {
          "base_uri": "https://localhost:8080/",
          "height": 35
        },
        "id": "6JvI-g_OccAe",
        "outputId": "56c1343f-5d1d-4f32-c873-77ced938891a"
      },
      "execution_count": 219,
      "outputs": [
        {
          "output_type": "execute_result",
          "data": {
            "text/plain": [
              "'Design Team'"
            ],
            "application/vnd.google.colaboratory.intrinsic+json": {
              "type": "string"
            }
          },
          "metadata": {},
          "execution_count": 219
        }
      ]
    },
    {
      "cell_type": "code",
      "source": [
        "df2.loc['Jane', 'Department']"
      ],
      "metadata": {
        "colab": {
          "base_uri": "https://localhost:8080/",
          "height": 35
        },
        "id": "qcnNDhR1ceEz",
        "outputId": "68ae69d2-5f7a-4dc7-c655-a4a4d55babe9"
      },
      "execution_count": 220,
      "outputs": [
        {
          "output_type": "execute_result",
          "data": {
            "text/plain": [
              "'Design Team'"
            ],
            "application/vnd.google.colaboratory.intrinsic+json": {
              "type": "string"
            }
          },
          "metadata": {},
          "execution_count": 220
        }
      ]
    },
    {
      "cell_type": "code",
      "source": [
        "df2.iloc[3,2]"
      ],
      "metadata": {
        "colab": {
          "base_uri": "https://localhost:8080/"
        },
        "id": "2pyjBAdlcfY7",
        "outputId": "c9ef8800-1f53-4b2f-9cce-0ef52c37882a"
      },
      "execution_count": 221,
      "outputs": [
        {
          "output_type": "execute_result",
          "data": {
            "text/plain": [
              "60000"
            ]
          },
          "metadata": {},
          "execution_count": 221
        }
      ]
    },
    {
      "cell_type": "code",
      "source": [
        "# let us do the slicing using old dataframe df\n",
        "\n",
        "df.iloc[0:2, 0:3]"
      ],
      "metadata": {
        "colab": {
          "base_uri": "https://localhost:8080/",
          "height": 112
        },
        "id": "pyoU2lIHcjwK",
        "outputId": "7b1b9ff0-54ba-4cf7-dfa2-bc86a46822a2"
      },
      "execution_count": 222,
      "outputs": [
        {
          "output_type": "execute_result",
          "data": {
            "text/plain": [
              "   Name  ID       Department\n",
              "0  Rose   1  Architect Group\n",
              "1  John   2   Software Group"
            ],
            "text/html": [
              "\n",
              "  <div id=\"df-1fef6442-63a4-4b04-8fc4-b45a5ba5e33e\">\n",
              "    <div class=\"colab-df-container\">\n",
              "      <div>\n",
              "<style scoped>\n",
              "    .dataframe tbody tr th:only-of-type {\n",
              "        vertical-align: middle;\n",
              "    }\n",
              "\n",
              "    .dataframe tbody tr th {\n",
              "        vertical-align: top;\n",
              "    }\n",
              "\n",
              "    .dataframe thead th {\n",
              "        text-align: right;\n",
              "    }\n",
              "</style>\n",
              "<table border=\"1\" class=\"dataframe\">\n",
              "  <thead>\n",
              "    <tr style=\"text-align: right;\">\n",
              "      <th></th>\n",
              "      <th>Name</th>\n",
              "      <th>ID</th>\n",
              "      <th>Department</th>\n",
              "    </tr>\n",
              "  </thead>\n",
              "  <tbody>\n",
              "    <tr>\n",
              "      <th>0</th>\n",
              "      <td>Rose</td>\n",
              "      <td>1</td>\n",
              "      <td>Architect Group</td>\n",
              "    </tr>\n",
              "    <tr>\n",
              "      <th>1</th>\n",
              "      <td>John</td>\n",
              "      <td>2</td>\n",
              "      <td>Software Group</td>\n",
              "    </tr>\n",
              "  </tbody>\n",
              "</table>\n",
              "</div>\n",
              "      <button class=\"colab-df-convert\" onclick=\"convertToInteractive('df-1fef6442-63a4-4b04-8fc4-b45a5ba5e33e')\"\n",
              "              title=\"Convert this dataframe to an interactive table.\"\n",
              "              style=\"display:none;\">\n",
              "        \n",
              "  <svg xmlns=\"http://www.w3.org/2000/svg\" height=\"24px\"viewBox=\"0 0 24 24\"\n",
              "       width=\"24px\">\n",
              "    <path d=\"M0 0h24v24H0V0z\" fill=\"none\"/>\n",
              "    <path d=\"M18.56 5.44l.94 2.06.94-2.06 2.06-.94-2.06-.94-.94-2.06-.94 2.06-2.06.94zm-11 1L8.5 8.5l.94-2.06 2.06-.94-2.06-.94L8.5 2.5l-.94 2.06-2.06.94zm10 10l.94 2.06.94-2.06 2.06-.94-2.06-.94-.94-2.06-.94 2.06-2.06.94z\"/><path d=\"M17.41 7.96l-1.37-1.37c-.4-.4-.92-.59-1.43-.59-.52 0-1.04.2-1.43.59L10.3 9.45l-7.72 7.72c-.78.78-.78 2.05 0 2.83L4 21.41c.39.39.9.59 1.41.59.51 0 1.02-.2 1.41-.59l7.78-7.78 2.81-2.81c.8-.78.8-2.07 0-2.86zM5.41 20L4 18.59l7.72-7.72 1.47 1.35L5.41 20z\"/>\n",
              "  </svg>\n",
              "      </button>\n",
              "      \n",
              "  <style>\n",
              "    .colab-df-container {\n",
              "      display:flex;\n",
              "      flex-wrap:wrap;\n",
              "      gap: 12px;\n",
              "    }\n",
              "\n",
              "    .colab-df-convert {\n",
              "      background-color: #E8F0FE;\n",
              "      border: none;\n",
              "      border-radius: 50%;\n",
              "      cursor: pointer;\n",
              "      display: none;\n",
              "      fill: #1967D2;\n",
              "      height: 32px;\n",
              "      padding: 0 0 0 0;\n",
              "      width: 32px;\n",
              "    }\n",
              "\n",
              "    .colab-df-convert:hover {\n",
              "      background-color: #E2EBFA;\n",
              "      box-shadow: 0px 1px 2px rgba(60, 64, 67, 0.3), 0px 1px 3px 1px rgba(60, 64, 67, 0.15);\n",
              "      fill: #174EA6;\n",
              "    }\n",
              "\n",
              "    [theme=dark] .colab-df-convert {\n",
              "      background-color: #3B4455;\n",
              "      fill: #D2E3FC;\n",
              "    }\n",
              "\n",
              "    [theme=dark] .colab-df-convert:hover {\n",
              "      background-color: #434B5C;\n",
              "      box-shadow: 0px 1px 3px 1px rgba(0, 0, 0, 0.15);\n",
              "      filter: drop-shadow(0px 1px 2px rgba(0, 0, 0, 0.3));\n",
              "      fill: #FFFFFF;\n",
              "    }\n",
              "  </style>\n",
              "\n",
              "      <script>\n",
              "        const buttonEl =\n",
              "          document.querySelector('#df-1fef6442-63a4-4b04-8fc4-b45a5ba5e33e button.colab-df-convert');\n",
              "        buttonEl.style.display =\n",
              "          google.colab.kernel.accessAllowed ? 'block' : 'none';\n",
              "\n",
              "        async function convertToInteractive(key) {\n",
              "          const element = document.querySelector('#df-1fef6442-63a4-4b04-8fc4-b45a5ba5e33e');\n",
              "          const dataTable =\n",
              "            await google.colab.kernel.invokeFunction('convertToInteractive',\n",
              "                                                     [key], {});\n",
              "          if (!dataTable) return;\n",
              "\n",
              "          const docLinkHtml = 'Like what you see? Visit the ' +\n",
              "            '<a target=\"_blank\" href=https://colab.research.google.com/notebooks/data_table.ipynb>data table notebook</a>'\n",
              "            + ' to learn more about interactive tables.';\n",
              "          element.innerHTML = '';\n",
              "          dataTable['output_type'] = 'display_data';\n",
              "          await google.colab.output.renderOutput(dataTable, element);\n",
              "          const docLink = document.createElement('div');\n",
              "          docLink.innerHTML = docLinkHtml;\n",
              "          element.appendChild(docLink);\n",
              "        }\n",
              "      </script>\n",
              "    </div>\n",
              "  </div>\n",
              "  "
            ]
          },
          "metadata": {},
          "execution_count": 222
        }
      ]
    },
    {
      "cell_type": "code",
      "source": [
        "# let us do the slicing using old dataframe df\n",
        "\n",
        "df.iloc[0:2, 0:3]"
      ],
      "metadata": {
        "colab": {
          "base_uri": "https://localhost:8080/",
          "height": 112
        },
        "id": "OxA4fMm9cmNT",
        "outputId": "c5beb41a-72fc-4b8f-fc3e-db43926519dc"
      },
      "execution_count": 223,
      "outputs": [
        {
          "output_type": "execute_result",
          "data": {
            "text/plain": [
              "   Name  ID       Department\n",
              "0  Rose   1  Architect Group\n",
              "1  John   2   Software Group"
            ],
            "text/html": [
              "\n",
              "  <div id=\"df-8516f21e-c3e4-4cc1-b670-690de9e9c4bc\">\n",
              "    <div class=\"colab-df-container\">\n",
              "      <div>\n",
              "<style scoped>\n",
              "    .dataframe tbody tr th:only-of-type {\n",
              "        vertical-align: middle;\n",
              "    }\n",
              "\n",
              "    .dataframe tbody tr th {\n",
              "        vertical-align: top;\n",
              "    }\n",
              "\n",
              "    .dataframe thead th {\n",
              "        text-align: right;\n",
              "    }\n",
              "</style>\n",
              "<table border=\"1\" class=\"dataframe\">\n",
              "  <thead>\n",
              "    <tr style=\"text-align: right;\">\n",
              "      <th></th>\n",
              "      <th>Name</th>\n",
              "      <th>ID</th>\n",
              "      <th>Department</th>\n",
              "    </tr>\n",
              "  </thead>\n",
              "  <tbody>\n",
              "    <tr>\n",
              "      <th>0</th>\n",
              "      <td>Rose</td>\n",
              "      <td>1</td>\n",
              "      <td>Architect Group</td>\n",
              "    </tr>\n",
              "    <tr>\n",
              "      <th>1</th>\n",
              "      <td>John</td>\n",
              "      <td>2</td>\n",
              "      <td>Software Group</td>\n",
              "    </tr>\n",
              "  </tbody>\n",
              "</table>\n",
              "</div>\n",
              "      <button class=\"colab-df-convert\" onclick=\"convertToInteractive('df-8516f21e-c3e4-4cc1-b670-690de9e9c4bc')\"\n",
              "              title=\"Convert this dataframe to an interactive table.\"\n",
              "              style=\"display:none;\">\n",
              "        \n",
              "  <svg xmlns=\"http://www.w3.org/2000/svg\" height=\"24px\"viewBox=\"0 0 24 24\"\n",
              "       width=\"24px\">\n",
              "    <path d=\"M0 0h24v24H0V0z\" fill=\"none\"/>\n",
              "    <path d=\"M18.56 5.44l.94 2.06.94-2.06 2.06-.94-2.06-.94-.94-2.06-.94 2.06-2.06.94zm-11 1L8.5 8.5l.94-2.06 2.06-.94-2.06-.94L8.5 2.5l-.94 2.06-2.06.94zm10 10l.94 2.06.94-2.06 2.06-.94-2.06-.94-.94-2.06-.94 2.06-2.06.94z\"/><path d=\"M17.41 7.96l-1.37-1.37c-.4-.4-.92-.59-1.43-.59-.52 0-1.04.2-1.43.59L10.3 9.45l-7.72 7.72c-.78.78-.78 2.05 0 2.83L4 21.41c.39.39.9.59 1.41.59.51 0 1.02-.2 1.41-.59l7.78-7.78 2.81-2.81c.8-.78.8-2.07 0-2.86zM5.41 20L4 18.59l7.72-7.72 1.47 1.35L5.41 20z\"/>\n",
              "  </svg>\n",
              "      </button>\n",
              "      \n",
              "  <style>\n",
              "    .colab-df-container {\n",
              "      display:flex;\n",
              "      flex-wrap:wrap;\n",
              "      gap: 12px;\n",
              "    }\n",
              "\n",
              "    .colab-df-convert {\n",
              "      background-color: #E8F0FE;\n",
              "      border: none;\n",
              "      border-radius: 50%;\n",
              "      cursor: pointer;\n",
              "      display: none;\n",
              "      fill: #1967D2;\n",
              "      height: 32px;\n",
              "      padding: 0 0 0 0;\n",
              "      width: 32px;\n",
              "    }\n",
              "\n",
              "    .colab-df-convert:hover {\n",
              "      background-color: #E2EBFA;\n",
              "      box-shadow: 0px 1px 2px rgba(60, 64, 67, 0.3), 0px 1px 3px 1px rgba(60, 64, 67, 0.15);\n",
              "      fill: #174EA6;\n",
              "    }\n",
              "\n",
              "    [theme=dark] .colab-df-convert {\n",
              "      background-color: #3B4455;\n",
              "      fill: #D2E3FC;\n",
              "    }\n",
              "\n",
              "    [theme=dark] .colab-df-convert:hover {\n",
              "      background-color: #434B5C;\n",
              "      box-shadow: 0px 1px 3px 1px rgba(0, 0, 0, 0.15);\n",
              "      filter: drop-shadow(0px 1px 2px rgba(0, 0, 0, 0.3));\n",
              "      fill: #FFFFFF;\n",
              "    }\n",
              "  </style>\n",
              "\n",
              "      <script>\n",
              "        const buttonEl =\n",
              "          document.querySelector('#df-8516f21e-c3e4-4cc1-b670-690de9e9c4bc button.colab-df-convert');\n",
              "        buttonEl.style.display =\n",
              "          google.colab.kernel.accessAllowed ? 'block' : 'none';\n",
              "\n",
              "        async function convertToInteractive(key) {\n",
              "          const element = document.querySelector('#df-8516f21e-c3e4-4cc1-b670-690de9e9c4bc');\n",
              "          const dataTable =\n",
              "            await google.colab.kernel.invokeFunction('convertToInteractive',\n",
              "                                                     [key], {});\n",
              "          if (!dataTable) return;\n",
              "\n",
              "          const docLinkHtml = 'Like what you see? Visit the ' +\n",
              "            '<a target=\"_blank\" href=https://colab.research.google.com/notebooks/data_table.ipynb>data table notebook</a>'\n",
              "            + ' to learn more about interactive tables.';\n",
              "          element.innerHTML = '';\n",
              "          dataTable['output_type'] = 'display_data';\n",
              "          await google.colab.output.renderOutput(dataTable, element);\n",
              "          const docLink = document.createElement('div');\n",
              "          docLink.innerHTML = docLinkHtml;\n",
              "          element.appendChild(docLink);\n",
              "        }\n",
              "      </script>\n",
              "    </div>\n",
              "  </div>\n",
              "  "
            ]
          },
          "metadata": {},
          "execution_count": 223
        }
      ]
    },
    {
      "cell_type": "code",
      "source": [
        "#let us do the slicing using loc() function on new dataframe df1 where index column is Name having labels: Rose, John and Jane\n",
        "df2.loc['Rose':'Jane', 'ID':'Department']"
      ],
      "metadata": {
        "colab": {
          "base_uri": "https://localhost:8080/",
          "height": 175
        },
        "id": "SWPbuKyKcoH0",
        "outputId": "22c12b01-255e-488a-c1b2-bdb11b68be5a"
      },
      "execution_count": 224,
      "outputs": [
        {
          "output_type": "execute_result",
          "data": {
            "text/plain": [
              "      ID       Department\n",
              "Name                     \n",
              "Rose   1  Architect Group\n",
              "John   2   Software Group\n",
              "Jane   3      Design Team"
            ],
            "text/html": [
              "\n",
              "  <div id=\"df-e6f2f7f5-2ba0-4d15-8af7-16fbdcb44cdf\">\n",
              "    <div class=\"colab-df-container\">\n",
              "      <div>\n",
              "<style scoped>\n",
              "    .dataframe tbody tr th:only-of-type {\n",
              "        vertical-align: middle;\n",
              "    }\n",
              "\n",
              "    .dataframe tbody tr th {\n",
              "        vertical-align: top;\n",
              "    }\n",
              "\n",
              "    .dataframe thead th {\n",
              "        text-align: right;\n",
              "    }\n",
              "</style>\n",
              "<table border=\"1\" class=\"dataframe\">\n",
              "  <thead>\n",
              "    <tr style=\"text-align: right;\">\n",
              "      <th></th>\n",
              "      <th>ID</th>\n",
              "      <th>Department</th>\n",
              "    </tr>\n",
              "    <tr>\n",
              "      <th>Name</th>\n",
              "      <th></th>\n",
              "      <th></th>\n",
              "    </tr>\n",
              "  </thead>\n",
              "  <tbody>\n",
              "    <tr>\n",
              "      <th>Rose</th>\n",
              "      <td>1</td>\n",
              "      <td>Architect Group</td>\n",
              "    </tr>\n",
              "    <tr>\n",
              "      <th>John</th>\n",
              "      <td>2</td>\n",
              "      <td>Software Group</td>\n",
              "    </tr>\n",
              "    <tr>\n",
              "      <th>Jane</th>\n",
              "      <td>3</td>\n",
              "      <td>Design Team</td>\n",
              "    </tr>\n",
              "  </tbody>\n",
              "</table>\n",
              "</div>\n",
              "      <button class=\"colab-df-convert\" onclick=\"convertToInteractive('df-e6f2f7f5-2ba0-4d15-8af7-16fbdcb44cdf')\"\n",
              "              title=\"Convert this dataframe to an interactive table.\"\n",
              "              style=\"display:none;\">\n",
              "        \n",
              "  <svg xmlns=\"http://www.w3.org/2000/svg\" height=\"24px\"viewBox=\"0 0 24 24\"\n",
              "       width=\"24px\">\n",
              "    <path d=\"M0 0h24v24H0V0z\" fill=\"none\"/>\n",
              "    <path d=\"M18.56 5.44l.94 2.06.94-2.06 2.06-.94-2.06-.94-.94-2.06-.94 2.06-2.06.94zm-11 1L8.5 8.5l.94-2.06 2.06-.94-2.06-.94L8.5 2.5l-.94 2.06-2.06.94zm10 10l.94 2.06.94-2.06 2.06-.94-2.06-.94-.94-2.06-.94 2.06-2.06.94z\"/><path d=\"M17.41 7.96l-1.37-1.37c-.4-.4-.92-.59-1.43-.59-.52 0-1.04.2-1.43.59L10.3 9.45l-7.72 7.72c-.78.78-.78 2.05 0 2.83L4 21.41c.39.39.9.59 1.41.59.51 0 1.02-.2 1.41-.59l7.78-7.78 2.81-2.81c.8-.78.8-2.07 0-2.86zM5.41 20L4 18.59l7.72-7.72 1.47 1.35L5.41 20z\"/>\n",
              "  </svg>\n",
              "      </button>\n",
              "      \n",
              "  <style>\n",
              "    .colab-df-container {\n",
              "      display:flex;\n",
              "      flex-wrap:wrap;\n",
              "      gap: 12px;\n",
              "    }\n",
              "\n",
              "    .colab-df-convert {\n",
              "      background-color: #E8F0FE;\n",
              "      border: none;\n",
              "      border-radius: 50%;\n",
              "      cursor: pointer;\n",
              "      display: none;\n",
              "      fill: #1967D2;\n",
              "      height: 32px;\n",
              "      padding: 0 0 0 0;\n",
              "      width: 32px;\n",
              "    }\n",
              "\n",
              "    .colab-df-convert:hover {\n",
              "      background-color: #E2EBFA;\n",
              "      box-shadow: 0px 1px 2px rgba(60, 64, 67, 0.3), 0px 1px 3px 1px rgba(60, 64, 67, 0.15);\n",
              "      fill: #174EA6;\n",
              "    }\n",
              "\n",
              "    [theme=dark] .colab-df-convert {\n",
              "      background-color: #3B4455;\n",
              "      fill: #D2E3FC;\n",
              "    }\n",
              "\n",
              "    [theme=dark] .colab-df-convert:hover {\n",
              "      background-color: #434B5C;\n",
              "      box-shadow: 0px 1px 3px 1px rgba(0, 0, 0, 0.15);\n",
              "      filter: drop-shadow(0px 1px 2px rgba(0, 0, 0, 0.3));\n",
              "      fill: #FFFFFF;\n",
              "    }\n",
              "  </style>\n",
              "\n",
              "      <script>\n",
              "        const buttonEl =\n",
              "          document.querySelector('#df-e6f2f7f5-2ba0-4d15-8af7-16fbdcb44cdf button.colab-df-convert');\n",
              "        buttonEl.style.display =\n",
              "          google.colab.kernel.accessAllowed ? 'block' : 'none';\n",
              "\n",
              "        async function convertToInteractive(key) {\n",
              "          const element = document.querySelector('#df-e6f2f7f5-2ba0-4d15-8af7-16fbdcb44cdf');\n",
              "          const dataTable =\n",
              "            await google.colab.kernel.invokeFunction('convertToInteractive',\n",
              "                                                     [key], {});\n",
              "          if (!dataTable) return;\n",
              "\n",
              "          const docLinkHtml = 'Like what you see? Visit the ' +\n",
              "            '<a target=\"_blank\" href=https://colab.research.google.com/notebooks/data_table.ipynb>data table notebook</a>'\n",
              "            + ' to learn more about interactive tables.';\n",
              "          element.innerHTML = '';\n",
              "          dataTable['output_type'] = 'display_data';\n",
              "          await google.colab.output.renderOutput(dataTable, element);\n",
              "          const docLink = document.createElement('div');\n",
              "          docLink.innerHTML = docLinkHtml;\n",
              "          element.appendChild(docLink);\n",
              "        }\n",
              "      </script>\n",
              "    </div>\n",
              "  </div>\n",
              "  "
            ]
          },
          "metadata": {},
          "execution_count": 224
        }
      ]
    },
    {
      "cell_type": "code",
      "source": [
        "#let us do the slicing using loc() function on new dataframe df1 where index column is Name having labels: Rose, John and Jane\n",
        "df2.loc['Rose':'Jane', 'ID':'Department']"
      ],
      "metadata": {
        "colab": {
          "base_uri": "https://localhost:8080/",
          "height": 175
        },
        "id": "UinDoctHcqi7",
        "outputId": "2a1ba262-0728-475c-8c4e-9d57dfbf349c"
      },
      "execution_count": 225,
      "outputs": [
        {
          "output_type": "execute_result",
          "data": {
            "text/plain": [
              "      ID       Department\n",
              "Name                     \n",
              "Rose   1  Architect Group\n",
              "John   2   Software Group\n",
              "Jane   3      Design Team"
            ],
            "text/html": [
              "\n",
              "  <div id=\"df-aed9afb1-b397-4d51-96a9-120b11163e71\">\n",
              "    <div class=\"colab-df-container\">\n",
              "      <div>\n",
              "<style scoped>\n",
              "    .dataframe tbody tr th:only-of-type {\n",
              "        vertical-align: middle;\n",
              "    }\n",
              "\n",
              "    .dataframe tbody tr th {\n",
              "        vertical-align: top;\n",
              "    }\n",
              "\n",
              "    .dataframe thead th {\n",
              "        text-align: right;\n",
              "    }\n",
              "</style>\n",
              "<table border=\"1\" class=\"dataframe\">\n",
              "  <thead>\n",
              "    <tr style=\"text-align: right;\">\n",
              "      <th></th>\n",
              "      <th>ID</th>\n",
              "      <th>Department</th>\n",
              "    </tr>\n",
              "    <tr>\n",
              "      <th>Name</th>\n",
              "      <th></th>\n",
              "      <th></th>\n",
              "    </tr>\n",
              "  </thead>\n",
              "  <tbody>\n",
              "    <tr>\n",
              "      <th>Rose</th>\n",
              "      <td>1</td>\n",
              "      <td>Architect Group</td>\n",
              "    </tr>\n",
              "    <tr>\n",
              "      <th>John</th>\n",
              "      <td>2</td>\n",
              "      <td>Software Group</td>\n",
              "    </tr>\n",
              "    <tr>\n",
              "      <th>Jane</th>\n",
              "      <td>3</td>\n",
              "      <td>Design Team</td>\n",
              "    </tr>\n",
              "  </tbody>\n",
              "</table>\n",
              "</div>\n",
              "      <button class=\"colab-df-convert\" onclick=\"convertToInteractive('df-aed9afb1-b397-4d51-96a9-120b11163e71')\"\n",
              "              title=\"Convert this dataframe to an interactive table.\"\n",
              "              style=\"display:none;\">\n",
              "        \n",
              "  <svg xmlns=\"http://www.w3.org/2000/svg\" height=\"24px\"viewBox=\"0 0 24 24\"\n",
              "       width=\"24px\">\n",
              "    <path d=\"M0 0h24v24H0V0z\" fill=\"none\"/>\n",
              "    <path d=\"M18.56 5.44l.94 2.06.94-2.06 2.06-.94-2.06-.94-.94-2.06-.94 2.06-2.06.94zm-11 1L8.5 8.5l.94-2.06 2.06-.94-2.06-.94L8.5 2.5l-.94 2.06-2.06.94zm10 10l.94 2.06.94-2.06 2.06-.94-2.06-.94-.94-2.06-.94 2.06-2.06.94z\"/><path d=\"M17.41 7.96l-1.37-1.37c-.4-.4-.92-.59-1.43-.59-.52 0-1.04.2-1.43.59L10.3 9.45l-7.72 7.72c-.78.78-.78 2.05 0 2.83L4 21.41c.39.39.9.59 1.41.59.51 0 1.02-.2 1.41-.59l7.78-7.78 2.81-2.81c.8-.78.8-2.07 0-2.86zM5.41 20L4 18.59l7.72-7.72 1.47 1.35L5.41 20z\"/>\n",
              "  </svg>\n",
              "      </button>\n",
              "      \n",
              "  <style>\n",
              "    .colab-df-container {\n",
              "      display:flex;\n",
              "      flex-wrap:wrap;\n",
              "      gap: 12px;\n",
              "    }\n",
              "\n",
              "    .colab-df-convert {\n",
              "      background-color: #E8F0FE;\n",
              "      border: none;\n",
              "      border-radius: 50%;\n",
              "      cursor: pointer;\n",
              "      display: none;\n",
              "      fill: #1967D2;\n",
              "      height: 32px;\n",
              "      padding: 0 0 0 0;\n",
              "      width: 32px;\n",
              "    }\n",
              "\n",
              "    .colab-df-convert:hover {\n",
              "      background-color: #E2EBFA;\n",
              "      box-shadow: 0px 1px 2px rgba(60, 64, 67, 0.3), 0px 1px 3px 1px rgba(60, 64, 67, 0.15);\n",
              "      fill: #174EA6;\n",
              "    }\n",
              "\n",
              "    [theme=dark] .colab-df-convert {\n",
              "      background-color: #3B4455;\n",
              "      fill: #D2E3FC;\n",
              "    }\n",
              "\n",
              "    [theme=dark] .colab-df-convert:hover {\n",
              "      background-color: #434B5C;\n",
              "      box-shadow: 0px 1px 3px 1px rgba(0, 0, 0, 0.15);\n",
              "      filter: drop-shadow(0px 1px 2px rgba(0, 0, 0, 0.3));\n",
              "      fill: #FFFFFF;\n",
              "    }\n",
              "  </style>\n",
              "\n",
              "      <script>\n",
              "        const buttonEl =\n",
              "          document.querySelector('#df-aed9afb1-b397-4d51-96a9-120b11163e71 button.colab-df-convert');\n",
              "        buttonEl.style.display =\n",
              "          google.colab.kernel.accessAllowed ? 'block' : 'none';\n",
              "\n",
              "        async function convertToInteractive(key) {\n",
              "          const element = document.querySelector('#df-aed9afb1-b397-4d51-96a9-120b11163e71');\n",
              "          const dataTable =\n",
              "            await google.colab.kernel.invokeFunction('convertToInteractive',\n",
              "                                                     [key], {});\n",
              "          if (!dataTable) return;\n",
              "\n",
              "          const docLinkHtml = 'Like what you see? Visit the ' +\n",
              "            '<a target=\"_blank\" href=https://colab.research.google.com/notebooks/data_table.ipynb>data table notebook</a>'\n",
              "            + ' to learn more about interactive tables.';\n",
              "          element.innerHTML = '';\n",
              "          dataTable['output_type'] = 'display_data';\n",
              "          await google.colab.output.renderOutput(dataTable, element);\n",
              "          const docLink = document.createElement('div');\n",
              "          docLink.innerHTML = docLinkHtml;\n",
              "          element.appendChild(docLink);\n",
              "        }\n",
              "      </script>\n",
              "    </div>\n",
              "  </div>\n",
              "  "
            ]
          },
          "metadata": {},
          "execution_count": 225
        }
      ]
    },
    {
      "cell_type": "markdown",
      "source": [
        "Evidencia de labratorios realizados\n",
        "![evidencia1.png](data:image/png;base64,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)"
      ],
      "metadata": {
        "id": "uQehkZ8veLwY"
      }
    },
    {
      "cell_type": "markdown",
      "source": [
        "![evidencia2.png](data:image/png;base64,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)"
      ],
      "metadata": {
        "id": "AX54EYQoenxf"
      }
    }
  ]
}